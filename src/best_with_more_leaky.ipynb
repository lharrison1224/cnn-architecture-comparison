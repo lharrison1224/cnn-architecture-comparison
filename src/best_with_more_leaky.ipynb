{
 "cells": [
  {
   "cell_type": "code",
   "execution_count": 1,
   "metadata": {},
   "outputs": [],
   "source": [
    "from load_data import load\n",
    "import numpy as np\n",
    "import tensorflow as tf\n",
    "from tensorflow import keras\n",
    "import matplotlib.pyplot as plt"
   ]
  },
  {
   "cell_type": "code",
   "execution_count": 2,
   "metadata": {},
   "outputs": [],
   "source": [
    "from tensorflow.keras.models import Sequential, load_model\n",
    "from tensorflow.keras.layers import Dense, Conv2D, Flatten, MaxPool2D, Dropout, BatchNormalization, LeakyReLU"
   ]
  },
  {
   "cell_type": "code",
   "execution_count": 3,
   "metadata": {},
   "outputs": [],
   "source": [
    "(train_data, train_labels, test_data, test_labels) = load()"
   ]
  },
  {
   "cell_type": "code",
   "execution_count": 4,
   "metadata": {},
   "outputs": [
    {
     "data": {
      "text/plain": [
       "(50000, 32, 32, 3)"
      ]
     },
     "execution_count": 4,
     "metadata": {},
     "output_type": "execute_result"
    }
   ],
   "source": [
    "train_data.shape"
   ]
  },
  {
   "cell_type": "code",
   "execution_count": 5,
   "metadata": {},
   "outputs": [
    {
     "data": {
      "text/plain": [
       "<matplotlib.image.AxesImage at 0x1b2b7aaaf60>"
      ]
     },
     "execution_count": 5,
     "metadata": {},
     "output_type": "execute_result"
    },
    {
     "data": {
      "image/png": "[encoded data removed]",
      "text/plain": [
       "<Figure size 432x288 with 1 Axes>"
      ]
     },
     "metadata": {
      "needs_background": "light"
     },
     "output_type": "display_data"
    }
   ],
   "source": [
    "plt.imshow(train_data[7])"
   ]
  },
  {
   "cell_type": "code",
   "execution_count": 6,
   "metadata": {},
   "outputs": [],
   "source": [
    "model = Sequential()\n",
    "model.add(Conv2D(16, kernel_size=3, padding='same', input_shape=(32,32,3)))\n",
    "model.add(LeakyReLU(alpha=0.2))\n",
    "model.add(BatchNormalization())\n",
    "model.add(Conv2D(16, kernel_size=3, padding='same'))\n",
    "model.add(LeakyReLU(alpha=0.2))\n",
    "model.add(BatchNormalization())\n",
    "model.add(MaxPool2D())\n",
    "model.add(Dropout(0.2))\n",
    "model.add(Conv2D(32, kernel_size=3, padding='same'))\n",
    "model.add(LeakyReLU(alpha=0.2))\n",
    "model.add(BatchNormalization())\n",
    "model.add(Conv2D(32, kernel_size=3, padding='same'))\n",
    "model.add(LeakyReLU(alpha=0.2))\n",
    "model.add(BatchNormalization())\n",
    "model.add(Conv2D(32, kernel_size=3, padding='same'))\n",
    "model.add(LeakyReLU(alpha=0.2))\n",
    "model.add(BatchNormalization())\n",
    "model.add(MaxPool2D())\n",
    "model.add(Dropout(0.2))\n",
    "model.add(Conv2D(64, kernel_size=3, padding='same'))\n",
    "model.add(LeakyReLU(alpha=0.2))\n",
    "model.add(BatchNormalization())\n",
    "model.add(Conv2D(64, kernel_size=3, padding='same'))\n",
    "model.add(LeakyReLU(alpha=0.2))\n",
    "model.add(BatchNormalization())\n",
    "model.add(Conv2D(64, kernel_size=3, padding='same'))\n",
    "model.add(LeakyReLU(alpha=0.2))\n",
    "model.add(BatchNormalization())\n",
    "model.add(MaxPool2D())"
   ]
  },
  {
   "cell_type": "code",
   "execution_count": 7,
   "metadata": {},
   "outputs": [],
   "source": [
    "model.add(Flatten())\n",
    "model.add(Dropout(0.2))\n",
    "model.add(Dense(1024))\n",
    "model.add(LeakyReLU(alpha=0.2))\n",
    "model.add(Dropout(0.2))\n",
    "model.add(Dense(1024))\n",
    "model.add(LeakyReLU(alpha=0.2))\n",
    "model.add(Dense(10, activation='softmax'))"
   ]
  },
  {
   "cell_type": "code",
   "execution_count": 8,
   "metadata": {},
   "outputs": [
    {
     "name": "stdout",
     "output_type": "stream",
     "text": [
      "Model: \"sequential\"\n",
      "_________________________________________________________________\n",
      "Layer (type)                 Output Shape              Param #   \n",
      "=================================================================\n",
      "conv2d (Conv2D)              (None, 32, 32, 16)        448       \n",
      "_________________________________________________________________\n",
      "leaky_re_lu (LeakyReLU)      (None, 32, 32, 16)        0         \n",
      "_________________________________________________________________\n",
      "batch_normalization (BatchNo (None, 32, 32, 16)        64        \n",
      "_________________________________________________________________\n",
      "conv2d_1 (Conv2D)            (None, 32, 32, 16)        2320      \n",
      "_________________________________________________________________\n",
      "leaky_re_lu_1 (LeakyReLU)    (None, 32, 32, 16)        0         \n",
      "_________________________________________________________________\n",
      "batch_normalization_1 (Batch (None, 32, 32, 16)        64        \n",
      "_________________________________________________________________\n",
      "max_pooling2d (MaxPooling2D) (None, 16, 16, 16)        0         \n",
      "_________________________________________________________________\n",
      "dropout (Dropout)            (None, 16, 16, 16)        0         \n",
      "_________________________________________________________________\n",
      "conv2d_2 (Conv2D)            (None, 16, 16, 32)        4640      \n",
      "_________________________________________________________________\n",
      "leaky_re_lu_2 (LeakyReLU)    (None, 16, 16, 32)        0         \n",
      "_________________________________________________________________\n",
      "batch_normalization_2 (Batch (None, 16, 16, 32)        128       \n",
      "_________________________________________________________________\n",
      "conv2d_3 (Conv2D)            (None, 16, 16, 32)        9248      \n",
      "_________________________________________________________________\n",
      "leaky_re_lu_3 (LeakyReLU)    (None, 16, 16, 32)        0         \n",
      "_________________________________________________________________\n",
      "batch_normalization_3 (Batch (None, 16, 16, 32)        128       \n",
      "_________________________________________________________________\n",
      "conv2d_4 (Conv2D)            (None, 16, 16, 32)        9248      \n",
      "_________________________________________________________________\n",
      "leaky_re_lu_4 (LeakyReLU)    (None, 16, 16, 32)        0         \n",
      "_________________________________________________________________\n",
      "batch_normalization_4 (Batch (None, 16, 16, 32)        128       \n",
      "_________________________________________________________________\n",
      "max_pooling2d_1 (MaxPooling2 (None, 8, 8, 32)          0         \n",
      "_________________________________________________________________\n",
      "dropout_1 (Dropout)          (None, 8, 8, 32)          0         \n",
      "_________________________________________________________________\n",
      "conv2d_5 (Conv2D)            (None, 8, 8, 64)          18496     \n",
      "_________________________________________________________________\n",
      "leaky_re_lu_5 (LeakyReLU)    (None, 8, 8, 64)          0         \n",
      "_________________________________________________________________\n",
      "batch_normalization_5 (Batch (None, 8, 8, 64)          256       \n",
      "_________________________________________________________________\n",
      "conv2d_6 (Conv2D)            (None, 8, 8, 64)          36928     \n",
      "_________________________________________________________________\n",
      "leaky_re_lu_6 (LeakyReLU)    (None, 8, 8, 64)          0         \n",
      "_________________________________________________________________\n",
      "batch_normalization_6 (Batch (None, 8, 8, 64)          256       \n",
      "_________________________________________________________________\n",
      "conv2d_7 (Conv2D)            (None, 8, 8, 64)          36928     \n",
      "_________________________________________________________________\n",
      "leaky_re_lu_7 (LeakyReLU)    (None, 8, 8, 64)          0         \n",
      "_________________________________________________________________\n",
      "batch_normalization_7 (Batch (None, 8, 8, 64)          256       \n",
      "_________________________________________________________________\n",
      "max_pooling2d_2 (MaxPooling2 (None, 4, 4, 64)          0         \n",
      "_________________________________________________________________\n",
      "flatten (Flatten)            (None, 1024)              0         \n",
      "_________________________________________________________________\n",
      "dropout_2 (Dropout)          (None, 1024)              0         \n",
      "_________________________________________________________________\n",
      "dense (Dense)                (None, 1024)              1049600   \n",
      "_________________________________________________________________\n",
      "leaky_re_lu_8 (LeakyReLU)    (None, 1024)              0         \n",
      "_________________________________________________________________\n",
      "dropout_3 (Dropout)          (None, 1024)              0         \n",
      "_________________________________________________________________\n",
      "dense_1 (Dense)              (None, 1024)              1049600   \n",
      "_________________________________________________________________\n",
      "leaky_re_lu_9 (LeakyReLU)    (None, 1024)              0         \n",
      "_________________________________________________________________\n",
      "dense_2 (Dense)              (None, 10)                10250     \n",
      "=================================================================\n",
      "Total params: 2,228,986\n",
      "Trainable params: 2,228,346\n",
      "Non-trainable params: 640\n",
      "_________________________________________________________________\n"
     ]
    }
   ],
   "source": [
    "model.summary()"
   ]
  },
  {
   "cell_type": "code",
   "execution_count": 9,
   "metadata": {},
   "outputs": [],
   "source": [
    "model.compile(optimizer='adam', loss='sparse_categorical_crossentropy', metrics=['accuracy'])"
   ]
  },
  {
   "cell_type": "code",
   "execution_count": 10,
   "metadata": {
    "scrolled": true
   },
   "outputs": [
    {
     "name": "stdout",
     "output_type": "stream",
     "text": [
      "Train on 40000 samples, validate on 10000 samples\n",
      "Epoch 1/1000\n",
      "\n",
      "Epoch 00001: val_loss improved from inf to 1.11868, saving model to ../checkpoints/best_with_more_leaky.hdf5\n",
      "40000/40000 - 14s - loss: 1.5004 - accuracy: 0.4769 - val_loss: 1.1187 - val_accuracy: 0.5981\n",
      "Epoch 2/1000\n",
      "\n",
      "Epoch 00002: val_loss improved from 1.11868 to 1.03174, saving model to ../checkpoints/best_with_more_leaky.hdf5\n",
      "40000/40000 - 11s - loss: 1.0979 - accuracy: 0.6130 - val_loss: 1.0317 - val_accuracy: 0.6419\n",
      "Epoch 3/1000\n",
      "\n",
      "Epoch 00003: val_loss improved from 1.03174 to 0.81474, saving model to ../checkpoints/best_with_more_leaky.hdf5\n",
      "40000/40000 - 11s - loss: 0.9386 - accuracy: 0.6700 - val_loss: 0.8147 - val_accuracy: 0.7135\n",
      "Epoch 4/1000\n",
      "\n",
      "Epoch 00004: val_loss did not improve from 0.81474\n",
      "40000/40000 - 11s - loss: 0.8404 - accuracy: 0.7060 - val_loss: 0.8891 - val_accuracy: 0.7000\n",
      "Epoch 5/1000\n",
      "\n",
      "Epoch 00005: val_loss improved from 0.81474 to 0.75731, saving model to ../checkpoints/best_with_more_leaky.hdf5\n",
      "40000/40000 - 11s - loss: 0.7671 - accuracy: 0.7305 - val_loss: 0.7573 - val_accuracy: 0.7388\n",
      "Epoch 6/1000\n",
      "\n",
      "Epoch 00006: val_loss improved from 0.75731 to 0.69062, saving model to ../checkpoints/best_with_more_leaky.hdf5\n",
      "40000/40000 - 11s - loss: 0.7066 - accuracy: 0.7528 - val_loss: 0.6906 - val_accuracy: 0.7590\n",
      "Epoch 7/1000\n",
      "\n",
      "Epoch 00007: val_loss did not improve from 0.69062\n",
      "40000/40000 - 11s - loss: 0.6566 - accuracy: 0.7689 - val_loss: 0.7434 - val_accuracy: 0.7390\n",
      "Epoch 8/1000\n",
      "\n",
      "Epoch 00008: val_loss improved from 0.69062 to 0.65063, saving model to ../checkpoints/best_with_more_leaky.hdf5\n",
      "40000/40000 - 11s - loss: 0.6196 - accuracy: 0.7826 - val_loss: 0.6506 - val_accuracy: 0.7788\n",
      "Epoch 9/1000\n",
      "\n",
      "Epoch 00009: val_loss improved from 0.65063 to 0.60128, saving model to ../checkpoints/best_with_more_leaky.hdf5\n",
      "40000/40000 - 11s - loss: 0.5745 - accuracy: 0.8005 - val_loss: 0.6013 - val_accuracy: 0.7986\n",
      "Epoch 10/1000\n",
      "\n",
      "Epoch 00010: val_loss did not improve from 0.60128\n",
      "40000/40000 - 11s - loss: 0.5484 - accuracy: 0.8076 - val_loss: 0.6323 - val_accuracy: 0.7873\n",
      "Epoch 11/1000\n",
      "\n",
      "Epoch 00011: val_loss improved from 0.60128 to 0.59137, saving model to ../checkpoints/best_with_more_leaky.hdf5\n",
      "40000/40000 - 11s - loss: 0.5172 - accuracy: 0.8181 - val_loss: 0.5914 - val_accuracy: 0.8032\n",
      "Epoch 12/1000\n",
      "\n",
      "Epoch 00012: val_loss did not improve from 0.59137\n",
      "40000/40000 - 11s - loss: 0.4944 - accuracy: 0.8244 - val_loss: 0.5993 - val_accuracy: 0.7965\n",
      "Epoch 13/1000\n",
      "\n",
      "Epoch 00013: val_loss did not improve from 0.59137\n",
      "40000/40000 - 11s - loss: 0.4658 - accuracy: 0.8359 - val_loss: 0.6399 - val_accuracy: 0.7920\n",
      "Epoch 14/1000\n",
      "\n",
      "Epoch 00014: val_loss improved from 0.59137 to 0.54950, saving model to ../checkpoints/best_with_more_leaky.hdf5\n",
      "40000/40000 - 11s - loss: 0.4528 - accuracy: 0.8417 - val_loss: 0.5495 - val_accuracy: 0.8138\n",
      "Epoch 15/1000\n",
      "\n",
      "Epoch 00015: val_loss improved from 0.54950 to 0.54921, saving model to ../checkpoints/best_with_more_leaky.hdf5\n",
      "40000/40000 - 11s - loss: 0.4215 - accuracy: 0.8518 - val_loss: 0.5492 - val_accuracy: 0.8168\n",
      "Epoch 16/1000\n",
      "\n",
      "Epoch 00016: val_loss did not improve from 0.54921\n",
      "40000/40000 - 11s - loss: 0.4111 - accuracy: 0.8545 - val_loss: 0.6310 - val_accuracy: 0.8014\n",
      "Epoch 17/1000\n",
      "\n",
      "Epoch 00017: val_loss did not improve from 0.54921\n",
      "40000/40000 - 11s - loss: 0.3943 - accuracy: 0.8586 - val_loss: 0.6141 - val_accuracy: 0.8041\n",
      "Epoch 18/1000\n",
      "\n",
      "Epoch 00018: val_loss did not improve from 0.54921\n",
      "40000/40000 - 11s - loss: 0.3776 - accuracy: 0.8651 - val_loss: 0.6244 - val_accuracy: 0.8076\n",
      "Epoch 19/1000\n",
      "\n",
      "Epoch 00019: val_loss did not improve from 0.54921\n",
      "40000/40000 - 11s - loss: 0.3621 - accuracy: 0.8734 - val_loss: 0.5663 - val_accuracy: 0.8210\n",
      "Epoch 20/1000\n",
      "\n",
      "Epoch 00020: val_loss did not improve from 0.54921\n",
      "40000/40000 - 11s - loss: 0.3530 - accuracy: 0.8746 - val_loss: 0.5505 - val_accuracy: 0.8268\n",
      "Epoch 21/1000\n",
      "\n",
      "Epoch 00021: val_loss did not improve from 0.54921\n",
      "40000/40000 - 11s - loss: 0.3380 - accuracy: 0.8807 - val_loss: 0.6670 - val_accuracy: 0.8066\n",
      "Epoch 22/1000\n",
      "\n",
      "Epoch 00022: val_loss did not improve from 0.54921\n",
      "40000/40000 - 11s - loss: 0.3258 - accuracy: 0.8841 - val_loss: 0.5893 - val_accuracy: 0.8199\n",
      "Epoch 23/1000\n",
      "\n",
      "Epoch 00023: val_loss did not improve from 0.54921\n",
      "40000/40000 - 11s - loss: 0.3166 - accuracy: 0.8871 - val_loss: 0.5972 - val_accuracy: 0.8178\n",
      "Epoch 24/1000\n",
      "\n",
      "Epoch 00024: val_loss did not improve from 0.54921\n",
      "40000/40000 - 11s - loss: 0.2969 - accuracy: 0.8943 - val_loss: 0.5657 - val_accuracy: 0.8266\n",
      "Epoch 25/1000\n",
      "\n",
      "Epoch 00025: val_loss did not improve from 0.54921\n",
      "40000/40000 - 11s - loss: 0.2932 - accuracy: 0.8974 - val_loss: 0.5500 - val_accuracy: 0.8310\n",
      "Epoch 26/1000\n",
      "\n",
      "Epoch 00026: val_loss did not improve from 0.54921\n",
      "40000/40000 - 11s - loss: 0.2830 - accuracy: 0.9007 - val_loss: 0.5915 - val_accuracy: 0.8288\n",
      "Epoch 27/1000\n",
      "\n",
      "Epoch 00027: val_loss did not improve from 0.54921\n",
      "40000/40000 - 11s - loss: 0.2772 - accuracy: 0.9010 - val_loss: 0.5728 - val_accuracy: 0.8229\n",
      "Epoch 28/1000\n",
      "\n",
      "Epoch 00028: val_loss did not improve from 0.54921\n",
      "40000/40000 - 11s - loss: 0.2637 - accuracy: 0.9061 - val_loss: 0.6339 - val_accuracy: 0.8244\n",
      "Epoch 29/1000\n",
      "\n",
      "Epoch 00029: val_loss did not improve from 0.54921\n",
      "40000/40000 - 11s - loss: 0.2600 - accuracy: 0.9081 - val_loss: 0.5785 - val_accuracy: 0.8233\n",
      "Epoch 30/1000\n",
      "\n",
      "Epoch 00030: val_loss did not improve from 0.54921\n",
      "40000/40000 - 11s - loss: 0.2572 - accuracy: 0.9085 - val_loss: 0.6799 - val_accuracy: 0.8122\n"
     ]
    }
   ],
   "source": [
    "es_cb = tf.keras.callbacks.EarlyStopping(monitor='val_loss', patience=15)\n",
    "sm_cb = tf.keras.callbacks.ModelCheckpoint(monitor='val_loss', filepath='../checkpoints/best_with_more_leaky.hdf5', verbose=1, save_best_only=True)\n",
    "history = model.fit(train_data, train_labels, verbose=2, epochs=1000, validation_split=0.2, shuffle=True, callbacks=[es_cb, sm_cb])"
   ]
  },
  {
   "cell_type": "code",
   "execution_count": 11,
   "metadata": {},
   "outputs": [
    {
     "data": {
      "text/plain": [
       "Text(0, 0.5, 'Loss (Categorical Cross Entropy)')"
      ]
     },
     "execution_count": 11,
     "metadata": {},
     "output_type": "execute_result"
    },
    {
     "data": {
      "image/png": "[encoded data removed]",
      "text/plain": [
       "<Figure size 432x288 with 1 Axes>"
      ]
     },
     "metadata": {
      "needs_background": "light"
     },
     "output_type": "display_data"
    }
   ],
   "source": [
    "plt.plot(history.history['loss'])\n",
    "plt.plot(history.history['val_loss'])\n",
    "plt.legend(['train', 'validate'], loc='upper right')\n",
    "plt.ylim(0, 1.8)\n",
    "plt.grid(True)\n",
    "plt.xlabel('Epoch')\n",
    "plt.ylabel('Loss (Categorical Cross Entropy)')"
   ]
  },
  {
   "cell_type": "code",
   "execution_count": 12,
   "metadata": {},
   "outputs": [
    {
     "data": {
      "text/plain": [
       "[0.5650564381599427, 0.8103]"
      ]
     },
     "execution_count": 12,
     "metadata": {},
     "output_type": "execute_result"
    }
   ],
   "source": [
    "test_labels = np.array(test_labels, dtype='uint8')\n",
    "model.load_weights('../checkpoints/best_with_more_leaky.hdf5')\n",
    "model.evaluate(test_data, test_labels, verbose=0)"
   ]
  }
 ],
 "metadata": {
  "kernelspec": {
   "display_name": "Python 3",
   "language": "python",
   "name": "python3"
  },
  "language_info": {
   "codemirror_mode": {
    "name": "ipython",
    "version": 3
   },
   "file_extension": ".py",
   "mimetype": "text/x-python",
   "name": "python",
   "nbconvert_exporter": "python",
   "pygments_lexer": "ipython3",
   "version": "3.5.4"
  }
 },
 "nbformat": 4,
 "nbformat_minor": 2
}
