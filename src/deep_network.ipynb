{
 "cells": [
  {
   "cell_type": "code",
   "execution_count": 1,
   "metadata": {},
   "outputs": [],
   "source": [
    "from load_data import load\n",
    "import numpy as np\n",
    "import tensorflow as tf\n",
    "from tensorflow import keras\n",
    "import matplotlib.pyplot as plt"
   ]
  },
  {
   "cell_type": "code",
   "execution_count": 2,
   "metadata": {},
   "outputs": [],
   "source": [
    "from tensorflow.keras.models import Sequential\n",
    "from tensorflow.keras.layers import Dense, Conv2D, Flatten, MaxPool2D, Dropout, SpatialDropout2D\n",
    "from tensorflow.keras import regularizers"
   ]
  },
  {
   "cell_type": "code",
   "execution_count": 3,
   "metadata": {},
   "outputs": [],
   "source": [
    "(train_data, train_labels, test_data, test_labels) = load()"
   ]
  },
  {
   "cell_type": "code",
   "execution_count": null,
   "metadata": {},
   "outputs": [],
   "source": [
    "train_data.shape"
   ]
  },
  {
   "cell_type": "code",
   "execution_count": null,
   "metadata": {},
   "outputs": [],
   "source": [
    "plt.imshow(train_data[7])"
   ]
  },
  {
   "cell_type": "code",
   "execution_count": 33,
   "metadata": {},
   "outputs": [],
   "source": [
    "model = Sequential()\n",
    "model.add(Conv2D(64, kernel_size=3, padding='same', activation='relu', input_shape=(32,32,3)))\n",
    "model.add(MaxPool2D())\n",
    "model.add(Conv2D(128, kernel_size=3, padding='same', activation='relu'))\n",
    "model.add(Conv2D(128, kernel_size=3, padding='same', activation='relu'))\n",
    "model.add(Conv2D(128, kernel_size=3, padding='same', activation='relu'))\n",
    "model.add(MaxPool2D())\n",
    "model.add(Conv2D(256, kernel_size=3, padding='same', activation='relu'))\n",
    "model.add(Conv2D(256, kernel_size=3, padding='same', activation='relu'))\n",
    "model.add(Conv2D(256, kernel_size=3, padding='same', activation='relu'))\n",
    "model.add(MaxPool2D())\n",
    "model.add(Flatten())\n",
    "model.add(Dense(1024, activation='relu'))\n",
    "model.add(Dense(1024, activation='relu'))\n",
    "model.add(Dense(10, activation='softmax'))"
   ]
  },
  {
   "cell_type": "code",
   "execution_count": 34,
   "metadata": {},
   "outputs": [
    {
     "name": "stdout",
     "output_type": "stream",
     "text": [
      "Model: \"sequential_5\"\n",
      "_________________________________________________________________\n",
      "Layer (type)                 Output Shape              Param #   \n",
      "=================================================================\n",
      "conv2d_47 (Conv2D)           (None, 32, 32, 64)        1792      \n",
      "_________________________________________________________________\n",
      "max_pooling2d_15 (MaxPooling (None, 16, 16, 64)        0         \n",
      "_________________________________________________________________\n",
      "conv2d_48 (Conv2D)           (None, 16, 16, 128)       73856     \n",
      "_________________________________________________________________\n",
      "conv2d_49 (Conv2D)           (None, 16, 16, 128)       147584    \n",
      "_________________________________________________________________\n",
      "conv2d_50 (Conv2D)           (None, 16, 16, 128)       147584    \n",
      "_________________________________________________________________\n",
      "max_pooling2d_16 (MaxPooling (None, 8, 8, 128)         0         \n",
      "_________________________________________________________________\n",
      "conv2d_51 (Conv2D)           (None, 8, 8, 256)         295168    \n",
      "_________________________________________________________________\n",
      "conv2d_52 (Conv2D)           (None, 8, 8, 256)         590080    \n",
      "_________________________________________________________________\n",
      "conv2d_53 (Conv2D)           (None, 8, 8, 256)         590080    \n",
      "_________________________________________________________________\n",
      "max_pooling2d_17 (MaxPooling (None, 4, 4, 256)         0         \n",
      "_________________________________________________________________\n",
      "flatten_5 (Flatten)          (None, 4096)              0         \n",
      "_________________________________________________________________\n",
      "dense_17 (Dense)             (None, 1024)              4195328   \n",
      "_________________________________________________________________\n",
      "dense_18 (Dense)             (None, 1024)              1049600   \n",
      "_________________________________________________________________\n",
      "dense_19 (Dense)             (None, 10)                10250     \n",
      "=================================================================\n",
      "Total params: 7,101,322\n",
      "Trainable params: 7,101,322\n",
      "Non-trainable params: 0\n",
      "_________________________________________________________________\n"
     ]
    }
   ],
   "source": [
    "model.summary()"
   ]
  },
  {
   "cell_type": "code",
   "execution_count": 35,
   "metadata": {},
   "outputs": [],
   "source": [
    "model.compile(optimizer='adam', loss='sparse_categorical_crossentropy', metrics=['accuracy'])"
   ]
  },
  {
   "cell_type": "code",
   "execution_count": 36,
   "metadata": {},
   "outputs": [
    {
     "name": "stdout",
     "output_type": "stream",
     "text": [
      "Train on 40000 samples, validate on 10000 samples\n",
      "Epoch 1/30\n",
      "\n",
      "Epoch 00001: val_loss improved from inf to 1.48931, saving model to ../models/deep_net_weights.hdf5\n",
      "40000/40000 - 15s - loss: 1.8055 - accuracy: 0.3372 - val_loss: 1.4893 - val_accuracy: 0.4344\n",
      "Epoch 2/30\n",
      "\n",
      "Epoch 00002: val_loss improved from 1.48931 to 1.31254, saving model to ../models/deep_net_weights.hdf5\n",
      "40000/40000 - 15s - loss: 1.3947 - accuracy: 0.4931 - val_loss: 1.3125 - val_accuracy: 0.5383\n",
      "Epoch 3/30\n",
      "\n",
      "Epoch 00003: val_loss improved from 1.31254 to 1.17109, saving model to ../models/deep_net_weights.hdf5\n",
      "40000/40000 - 15s - loss: 1.1998 - accuracy: 0.5730 - val_loss: 1.1711 - val_accuracy: 0.5839\n",
      "Epoch 4/30\n",
      "\n",
      "Epoch 00004: val_loss improved from 1.17109 to 1.06707, saving model to ../models/deep_net_weights.hdf5\n",
      "40000/40000 - 14s - loss: 1.0814 - accuracy: 0.6166 - val_loss: 1.0671 - val_accuracy: 0.6274\n",
      "Epoch 5/30\n",
      "\n",
      "Epoch 00005: val_loss improved from 1.06707 to 1.06351, saving model to ../models/deep_net_weights.hdf5\n",
      "40000/40000 - 15s - loss: 0.9900 - accuracy: 0.6518 - val_loss: 1.0635 - val_accuracy: 0.6294\n",
      "Epoch 6/30\n",
      "\n",
      "Epoch 00006: val_loss improved from 1.06351 to 1.01997, saving model to ../models/deep_net_weights.hdf5\n",
      "40000/40000 - 14s - loss: 0.9284 - accuracy: 0.6748 - val_loss: 1.0200 - val_accuracy: 0.6493\n",
      "Epoch 7/30\n",
      "\n",
      "Epoch 00007: val_loss did not improve from 1.01997\n",
      "40000/40000 - 14s - loss: 0.8672 - accuracy: 0.6973 - val_loss: 1.0492 - val_accuracy: 0.6453\n",
      "Epoch 8/30\n",
      "\n",
      "Epoch 00008: val_loss did not improve from 1.01997\n",
      "40000/40000 - 14s - loss: 0.8227 - accuracy: 0.7092 - val_loss: 1.0420 - val_accuracy: 0.6520\n",
      "Epoch 9/30\n",
      "\n",
      "Epoch 00009: val_loss improved from 1.01997 to 1.00182, saving model to ../models/deep_net_weights.hdf5\n",
      "40000/40000 - 14s - loss: 0.7841 - accuracy: 0.7258 - val_loss: 1.0018 - val_accuracy: 0.6683\n",
      "Epoch 10/30\n",
      "\n",
      "Epoch 00010: val_loss improved from 1.00182 to 0.99172, saving model to ../models/deep_net_weights.hdf5\n",
      "40000/40000 - 14s - loss: 0.7361 - accuracy: 0.7409 - val_loss: 0.9917 - val_accuracy: 0.6722\n",
      "Epoch 11/30\n",
      "\n",
      "Epoch 00011: val_loss did not improve from 0.99172\n",
      "40000/40000 - 14s - loss: 0.7210 - accuracy: 0.7486 - val_loss: 1.0168 - val_accuracy: 0.6672\n",
      "Epoch 12/30\n",
      "\n",
      "Epoch 00012: val_loss improved from 0.99172 to 0.98818, saving model to ../models/deep_net_weights.hdf5\n",
      "40000/40000 - 14s - loss: 0.6841 - accuracy: 0.7613 - val_loss: 0.9882 - val_accuracy: 0.6822\n",
      "Epoch 13/30\n",
      "\n",
      "Epoch 00013: val_loss did not improve from 0.98818\n",
      "40000/40000 - 14s - loss: 0.6571 - accuracy: 0.7709 - val_loss: 1.1045 - val_accuracy: 0.6647\n",
      "Epoch 14/30\n",
      "\n",
      "Epoch 00014: val_loss did not improve from 0.98818\n",
      "40000/40000 - 15s - loss: 0.6124 - accuracy: 0.7900 - val_loss: 1.0669 - val_accuracy: 0.6766\n",
      "Epoch 15/30\n",
      "\n",
      "Epoch 00015: val_loss did not improve from 0.98818\n",
      "40000/40000 - 15s - loss: 0.6042 - accuracy: 0.7914 - val_loss: 1.0734 - val_accuracy: 0.6798\n",
      "Epoch 16/30\n",
      "\n",
      "Epoch 00016: val_loss did not improve from 0.98818\n",
      "40000/40000 - 14s - loss: 0.5767 - accuracy: 0.8039 - val_loss: 1.2280 - val_accuracy: 0.6636\n",
      "Epoch 17/30\n",
      "\n",
      "Epoch 00017: val_loss did not improve from 0.98818\n",
      "40000/40000 - 14s - loss: 0.5459 - accuracy: 0.8156 - val_loss: 1.1931 - val_accuracy: 0.6674\n"
     ]
    }
   ],
   "source": [
    "es_cb = tf.keras.callbacks.EarlyStopping(monitor='val_loss', patience=5)\n",
    "sm_cb = tf.keras.callbacks.ModelCheckpoint(monitor='val_loss', filepath='../models/deep_net_weights.hdf5', verbose=1, save_best_only=True)\n",
    "history = model.fit(train_data, train_labels, epochs=30, verbose=2, validation_split=0.2, shuffle=True, callbacks=[es_cb, sm_cb])"
   ]
  },
  {
   "cell_type": "code",
   "execution_count": 37,
   "metadata": {
    "scrolled": true
   },
   "outputs": [
    {
     "data": {
      "text/plain": [
       "<matplotlib.legend.Legend at 0x1f59caf7898>"
      ]
     },
     "execution_count": 37,
     "metadata": {},
     "output_type": "execute_result"
    },
    {
     "data": {
      "image/png": "[encoded data removed]",
      "text/plain": [
       "<Figure size 432x288 with 1 Axes>"
      ]
     },
     "metadata": {
      "needs_background": "light"
     },
     "output_type": "display_data"
    }
   ],
   "source": [
    "plt.plot(history.history['loss'])\n",
    "plt.plot(history.history['val_loss'])\n",
    "plt.legend(['train', 'validate'], loc='upper right')"
   ]
  },
  {
   "cell_type": "code",
   "execution_count": 39,
   "metadata": {},
   "outputs": [
    {
     "data": {
      "text/plain": [
       "[1.072318554496765, 0.666]"
      ]
     },
     "execution_count": 39,
     "metadata": {},
     "output_type": "execute_result"
    }
   ],
   "source": [
    "test_labels = np.array(test_labels, dtype='uint8')\n",
    "model.load_weights('../models/deep_net_weights.hdf5')\n",
    "model.evaluate(test_data, test_labels, verbose=0)"
   ]
  },
  {
   "cell_type": "code",
   "execution_count": 41,
   "metadata": {},
   "outputs": [
    {
     "data": {
      "text/plain": [
       "[0.8497288685798645, 0.7188]"
      ]
     },
     "execution_count": 41,
     "metadata": {},
     "output_type": "execute_result"
    }
   ],
   "source": [
    "from tensorflow.keras.models import load_model\n",
    "model = load_model('../models/best_so_far.hdf5')\n",
    "model.evaluate(test_data, test_labels, verbose=0)"
   ]
  },
  {
   "cell_type": "code",
   "execution_count": null,
   "metadata": {},
   "outputs": [],
   "source": []
  }
 ],
 "metadata": {
  "kernelspec": {
   "display_name": "Python 3",
   "language": "python",
   "name": "python3"
  },
  "language_info": {
   "codemirror_mode": {
    "name": "ipython",
    "version": 3
   },
   "file_extension": ".py",
   "mimetype": "text/x-python",
   "name": "python",
   "nbconvert_exporter": "python",
   "pygments_lexer": "ipython3",
   "version": "3.6.8"
  }
 },
 "nbformat": 4,
 "nbformat_minor": 2
}
