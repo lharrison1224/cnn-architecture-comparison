{
 "cells": [
  {
   "cell_type": "code",
   "execution_count": 1,
   "metadata": {},
   "outputs": [],
   "source": [
    "from load_data import load\n",
    "import numpy as np\n",
    "import tensorflow as tf\n",
    "from tensorflow import keras\n",
    "import matplotlib.pyplot as plt"
   ]
  },
  {
   "cell_type": "code",
   "execution_count": 12,
   "metadata": {},
   "outputs": [],
   "source": [
    "from tensorflow.keras.models import Sequential\n",
    "from tensorflow.keras.layers import Dense, Conv2D, Flatten, MaxPool2D, Dropout, SpatialDropout2D, BatchNormalization\n",
    "from tensorflow.keras import regularizers"
   ]
  },
  {
   "cell_type": "code",
   "execution_count": 3,
   "metadata": {},
   "outputs": [],
   "source": [
    "(train_data, train_labels, test_data, test_labels) = load()"
   ]
  },
  {
   "cell_type": "code",
   "execution_count": null,
   "metadata": {},
   "outputs": [],
   "source": [
    "train_data.shape"
   ]
  },
  {
   "cell_type": "code",
   "execution_count": null,
   "metadata": {},
   "outputs": [],
   "source": [
    "plt.imshow(train_data[7])"
   ]
  },
  {
   "cell_type": "code",
   "execution_count": 46,
   "metadata": {},
   "outputs": [],
   "source": [
    "model = Sequential()\n",
    "model.add(Conv2D(64, kernel_size=3, padding='same', input_shape=(32,32,3)))\n",
    "model.add(Conv2D(64, kernel_size=3, padding='same', activation='relu'))\n",
    "model.add(Conv2D(64, kernel_size=3, padding='same', activation='relu'))\n",
    "model.add(BatchNormalization())\n",
    "model.add(MaxPool2D())\n",
    "model.add(Conv2D(128, kernel_size=5, padding='same', activation='relu'))\n",
    "model.add(Conv2D(128, kernel_size=5, padding='same', activation='relu'))\n",
    "model.add(Conv2D(128, kernel_size=5, padding='same', activation='relu'))\n",
    "model.add(BatchNormalization())\n",
    "model.add(MaxPool2D())\n",
    "model.add(Conv2D(256, kernel_size=5, padding='same', activation='relu'))\n",
    "model.add(Conv2D(256, kernel_size=5, padding='same', activation='relu'))\n",
    "model.add(Conv2D(256, kernel_size=5, padding='same', activation='relu'))\n",
    "model.add(BatchNormalization())\n",
    "model.add(MaxPool2D())\n",
    "model.add(Flatten())\n",
    "model.add(Dense(1024, activation='relu'))\n",
    "model.add(Dense(1024, activation='relu'))\n",
    "model.add(Dense(10, activation='softmax'))"
   ]
  },
  {
   "cell_type": "code",
   "execution_count": 47,
   "metadata": {},
   "outputs": [
    {
     "name": "stdout",
     "output_type": "stream",
     "text": [
      "Model: \"sequential_7\"\n",
      "_________________________________________________________________\n",
      "Layer (type)                 Output Shape              Param #   \n",
      "=================================================================\n",
      "conv2d_70 (Conv2D)           (None, 32, 32, 64)        1792      \n",
      "_________________________________________________________________\n",
      "conv2d_71 (Conv2D)           (None, 32, 32, 64)        36928     \n",
      "_________________________________________________________________\n",
      "conv2d_72 (Conv2D)           (None, 32, 32, 64)        36928     \n",
      "_________________________________________________________________\n",
      "batch_normalization_16 (Batc (None, 32, 32, 64)        256       \n",
      "_________________________________________________________________\n",
      "max_pooling2d_21 (MaxPooling (None, 16, 16, 64)        0         \n",
      "_________________________________________________________________\n",
      "conv2d_73 (Conv2D)           (None, 16, 16, 128)       204928    \n",
      "_________________________________________________________________\n",
      "conv2d_74 (Conv2D)           (None, 16, 16, 128)       409728    \n",
      "_________________________________________________________________\n",
      "conv2d_75 (Conv2D)           (None, 16, 16, 128)       409728    \n",
      "_________________________________________________________________\n",
      "batch_normalization_17 (Batc (None, 16, 16, 128)       512       \n",
      "_________________________________________________________________\n",
      "max_pooling2d_22 (MaxPooling (None, 8, 8, 128)         0         \n",
      "_________________________________________________________________\n",
      "conv2d_76 (Conv2D)           (None, 8, 8, 256)         819456    \n",
      "_________________________________________________________________\n",
      "conv2d_77 (Conv2D)           (None, 8, 8, 256)         1638656   \n",
      "_________________________________________________________________\n",
      "conv2d_78 (Conv2D)           (None, 8, 8, 256)         1638656   \n",
      "_________________________________________________________________\n",
      "batch_normalization_18 (Batc (None, 8, 8, 256)         1024      \n",
      "_________________________________________________________________\n",
      "max_pooling2d_23 (MaxPooling (None, 4, 4, 256)         0         \n",
      "_________________________________________________________________\n",
      "flatten_7 (Flatten)          (None, 4096)              0         \n",
      "_________________________________________________________________\n",
      "dense_21 (Dense)             (None, 1024)              4195328   \n",
      "_________________________________________________________________\n",
      "dense_22 (Dense)             (None, 1024)              1049600   \n",
      "_________________________________________________________________\n",
      "dense_23 (Dense)             (None, 10)                10250     \n",
      "=================================================================\n",
      "Total params: 10,453,770\n",
      "Trainable params: 10,452,874\n",
      "Non-trainable params: 896\n",
      "_________________________________________________________________\n"
     ]
    }
   ],
   "source": [
    "model.summary()"
   ]
  },
  {
   "cell_type": "code",
   "execution_count": 48,
   "metadata": {},
   "outputs": [],
   "source": [
    "model.compile(optimizer='adam', loss='sparse_categorical_crossentropy', metrics=['accuracy'])"
   ]
  },
  {
   "cell_type": "code",
   "execution_count": 49,
   "metadata": {},
   "outputs": [
    {
     "name": "stdout",
     "output_type": "stream",
     "text": [
      "Train on 40000 samples, validate on 10000 samples\n",
      "Epoch 1/30\n",
      "\n",
      "Epoch 00001: val_loss improved from inf to 1.72416, saving model to ../models/deep_net_weights.hdf5\n",
      "40000/40000 - 33s - loss: 1.8147 - accuracy: 0.3224 - val_loss: 1.7242 - val_accuracy: 0.3881\n",
      "Epoch 2/30\n",
      "\n",
      "Epoch 00002: val_loss improved from 1.72416 to 1.28361, saving model to ../models/deep_net_weights.hdf5\n",
      "40000/40000 - 32s - loss: 1.2461 - accuracy: 0.5477 - val_loss: 1.2836 - val_accuracy: 0.5596\n",
      "Epoch 3/30\n",
      "\n",
      "Epoch 00003: val_loss improved from 1.28361 to 1.04866, saving model to ../models/deep_net_weights.hdf5\n",
      "40000/40000 - 33s - loss: 0.9662 - accuracy: 0.6583 - val_loss: 1.0487 - val_accuracy: 0.6314\n",
      "Epoch 4/30\n",
      "\n",
      "Epoch 00004: val_loss improved from 1.04866 to 0.88798, saving model to ../models/deep_net_weights.hdf5\n",
      "40000/40000 - 32s - loss: 0.7965 - accuracy: 0.7234 - val_loss: 0.8880 - val_accuracy: 0.6916\n",
      "Epoch 5/30\n",
      "\n",
      "Epoch 00005: val_loss improved from 0.88798 to 0.77983, saving model to ../models/deep_net_weights.hdf5\n",
      "40000/40000 - 33s - loss: 0.6800 - accuracy: 0.7669 - val_loss: 0.7798 - val_accuracy: 0.7322\n",
      "Epoch 6/30\n",
      "\n",
      "Epoch 00006: val_loss improved from 0.77983 to 0.72812, saving model to ../models/deep_net_weights.hdf5\n",
      "40000/40000 - 33s - loss: 0.5766 - accuracy: 0.8026 - val_loss: 0.7281 - val_accuracy: 0.7599\n",
      "Epoch 7/30\n",
      "\n",
      "Epoch 00007: val_loss improved from 0.72812 to 0.72266, saving model to ../models/deep_net_weights.hdf5\n",
      "40000/40000 - 32s - loss: 0.4934 - accuracy: 0.8333 - val_loss: 0.7227 - val_accuracy: 0.7661\n",
      "Epoch 8/30\n",
      "\n",
      "Epoch 00008: val_loss improved from 0.72266 to 0.69673, saving model to ../models/deep_net_weights.hdf5\n",
      "40000/40000 - 32s - loss: 0.4168 - accuracy: 0.8601 - val_loss: 0.6967 - val_accuracy: 0.7962\n",
      "Epoch 9/30\n",
      "\n",
      "Epoch 00009: val_loss did not improve from 0.69673\n",
      "40000/40000 - 32s - loss: 0.3537 - accuracy: 0.8804 - val_loss: 0.7266 - val_accuracy: 0.7824\n",
      "Epoch 10/30\n",
      "\n",
      "Epoch 00010: val_loss improved from 0.69673 to 0.65782, saving model to ../models/deep_net_weights.hdf5\n",
      "40000/40000 - 32s - loss: 0.2971 - accuracy: 0.8992 - val_loss: 0.6578 - val_accuracy: 0.8049\n",
      "Epoch 11/30\n",
      "\n",
      "Epoch 00011: val_loss improved from 0.65782 to 0.62452, saving model to ../models/deep_net_weights.hdf5\n",
      "40000/40000 - 32s - loss: 0.2421 - accuracy: 0.9186 - val_loss: 0.6245 - val_accuracy: 0.8130\n",
      "Epoch 12/30\n",
      "\n",
      "Epoch 00012: val_loss did not improve from 0.62452\n",
      "40000/40000 - 32s - loss: 0.2096 - accuracy: 0.9286 - val_loss: 0.6718 - val_accuracy: 0.8156\n",
      "Epoch 13/30\n",
      "\n",
      "Epoch 00013: val_loss did not improve from 0.62452\n",
      "40000/40000 - 33s - loss: 0.1692 - accuracy: 0.9437 - val_loss: 0.7285 - val_accuracy: 0.8117\n",
      "Epoch 14/30\n",
      "\n",
      "Epoch 00014: val_loss did not improve from 0.62452\n",
      "40000/40000 - 33s - loss: 0.1505 - accuracy: 0.9498 - val_loss: 0.8131 - val_accuracy: 0.8120\n",
      "Epoch 15/30\n",
      "\n",
      "Epoch 00015: val_loss did not improve from 0.62452\n",
      "40000/40000 - 32s - loss: 0.1301 - accuracy: 0.9570 - val_loss: 0.6981 - val_accuracy: 0.8239\n",
      "Epoch 16/30\n",
      "\n",
      "Epoch 00016: val_loss did not improve from 0.62452\n",
      "40000/40000 - 33s - loss: 0.1113 - accuracy: 0.9635 - val_loss: 0.8564 - val_accuracy: 0.8108\n",
      "Epoch 17/30\n",
      "\n",
      "Epoch 00017: val_loss did not improve from 0.62452\n",
      "40000/40000 - 33s - loss: 0.1014 - accuracy: 0.9667 - val_loss: 0.8539 - val_accuracy: 0.8114\n",
      "Epoch 18/30\n",
      "\n",
      "Epoch 00018: val_loss did not improve from 0.62452\n",
      "40000/40000 - 32s - loss: 0.0998 - accuracy: 0.9673 - val_loss: 0.8843 - val_accuracy: 0.8210\n",
      "Epoch 19/30\n",
      "\n",
      "Epoch 00019: val_loss did not improve from 0.62452\n",
      "40000/40000 - 32s - loss: 0.0827 - accuracy: 0.9725 - val_loss: 1.0847 - val_accuracy: 0.8087\n",
      "Epoch 20/30\n",
      "\n",
      "Epoch 00020: val_loss did not improve from 0.62452\n",
      "40000/40000 - 32s - loss: 0.0786 - accuracy: 0.9745 - val_loss: 0.8344 - val_accuracy: 0.8340\n",
      "Epoch 21/30\n",
      "\n",
      "Epoch 00021: val_loss did not improve from 0.62452\n",
      "40000/40000 - 32s - loss: 0.0803 - accuracy: 0.9747 - val_loss: 0.8801 - val_accuracy: 0.8202\n"
     ]
    }
   ],
   "source": [
    "es_cb = tf.keras.callbacks.EarlyStopping(monitor='val_loss', patience=10)\n",
    "sm_cb = tf.keras.callbacks.ModelCheckpoint(monitor='val_loss', filepath='../models/deep_net_weights.hdf5', verbose=1, save_best_only=True)\n",
    "history = model.fit(train_data, train_labels, epochs=30, verbose=2, validation_split=0.2, shuffle=True, callbacks=[es_cb, sm_cb])"
   ]
  },
  {
   "cell_type": "code",
   "execution_count": 50,
   "metadata": {
    "scrolled": true
   },
   "outputs": [
    {
     "data": {
      "text/plain": [
       "<matplotlib.legend.Legend at 0x1d26700a630>"
      ]
     },
     "execution_count": 50,
     "metadata": {},
     "output_type": "execute_result"
    },
    {
     "data": {
      "image/png": "[encoded data removed]",
      "text/plain": [
       "<Figure size 432x288 with 1 Axes>"
      ]
     },
     "metadata": {
      "needs_background": "light"
     },
     "output_type": "display_data"
    }
   ],
   "source": [
    "plt.plot(history.history['loss'])\n",
    "plt.plot(history.history['val_loss'])\n",
    "plt.legend(['train', 'validate'], loc='upper right')"
   ]
  },
  {
   "cell_type": "code",
   "execution_count": 51,
   "metadata": {},
   "outputs": [
    {
     "data": {
      "text/plain": [
       "[0.6444815087318421, 0.8085]"
      ]
     },
     "execution_count": 51,
     "metadata": {},
     "output_type": "execute_result"
    }
   ],
   "source": [
    "test_labels = np.array(test_labels, dtype='uint8')\n",
    "model.load_weights('../models/deep_net_weights.hdf5')\n",
    "model.evaluate(test_data, test_labels, verbose=0)"
   ]
  },
  {
   "cell_type": "code",
   "execution_count": 21,
   "metadata": {},
   "outputs": [
    {
     "data": {
      "text/plain": [
       "[0.7034426215648651, 0.7723]"
      ]
     },
     "execution_count": 21,
     "metadata": {},
     "output_type": "execute_result"
    }
   ],
   "source": [
    "from tensorflow.keras.models import load_model\n",
    "model = load_model('../models/best_deep.hdf5')\n",
    "model.evaluate(test_data, test_labels, verbose=0)"
   ]
  },
  {
   "cell_type": "code",
   "execution_count": null,
   "metadata": {},
   "outputs": [],
   "source": []
  }
 ],
 "metadata": {
  "kernelspec": {
   "display_name": "Python 3",
   "language": "python",
   "name": "python3"
  },
  "language_info": {
   "codemirror_mode": {
    "name": "ipython",
    "version": 3
   },
   "file_extension": ".py",
   "mimetype": "text/x-python",
   "name": "python",
   "nbconvert_exporter": "python",
   "pygments_lexer": "ipython3",
   "version": "3.6.8"
  }
 },
 "nbformat": 4,
 "nbformat_minor": 2
}
