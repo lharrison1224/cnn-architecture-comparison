{
 "cells": [
  {
   "cell_type": "code",
   "execution_count": 1,
   "metadata": {},
   "outputs": [],
   "source": [
    "from load_data import load\n",
    "import numpy as np\n",
    "import np_utils as np_u\n",
    "import tensorflow as tf\n",
    "from tensorflow import keras\n",
    "import matplotlib.pyplot as plt"
   ]
  },
  {
   "cell_type": "code",
   "execution_count": 2,
   "metadata": {},
   "outputs": [],
   "source": [
    "from tensorflow.keras.models import Sequential, load_model\n",
    "from tensorflow.keras.layers import Dense, Conv2D, Flatten, MaxPool2D, Dropout, BatchNormalization, LeakyReLU\n",
    "from tensorflow.keras.preprocessing.image import ImageDataGenerator"
   ]
  },
  {
   "cell_type": "code",
   "execution_count": 3,
   "metadata": {},
   "outputs": [],
   "source": [
    "(train_data, train_labels, test_data, test_labels) = load()"
   ]
  },
  {
   "cell_type": "code",
   "execution_count": 4,
   "metadata": {},
   "outputs": [
    {
     "data": {
      "text/plain": [
       "(50000, 32, 32, 3)"
      ]
     },
     "execution_count": 4,
     "metadata": {},
     "output_type": "execute_result"
    }
   ],
   "source": [
    "train_data.shape"
   ]
  },
  {
   "cell_type": "code",
   "execution_count": 5,
   "metadata": {},
   "outputs": [
    {
     "data": {
      "text/plain": [
       "<matplotlib.image.AxesImage at 0x17ed4f899b0>"
      ]
     },
     "execution_count": 5,
     "metadata": {},
     "output_type": "execute_result"
    },
    {
     "data": {
      "image/png": "[encoded data removed]",
      "text/plain": [
       "<Figure size 432x288 with 1 Axes>"
      ]
     },
     "metadata": {
      "needs_background": "light"
     },
     "output_type": "display_data"
    }
   ],
   "source": [
    "plt.imshow(train_data[7])"
   ]
  },
  {
   "cell_type": "code",
   "execution_count": 6,
   "metadata": {},
   "outputs": [],
   "source": [
    "model = Sequential()\n",
    "model.add(Conv2D(16, kernel_size=3, padding='same', input_shape=(32,32,3)))\n",
    "model.add(LeakyReLU(alpha=0.2))\n",
    "model.add(BatchNormalization())\n",
    "model.add(Conv2D(16, kernel_size=3, padding='same'))\n",
    "model.add(LeakyReLU(alpha=0.2))\n",
    "model.add(BatchNormalization())\n",
    "model.add(MaxPool2D())\n",
    "model.add(Dropout(0.2))\n",
    "model.add(Conv2D(32, kernel_size=3, padding='same'))\n",
    "model.add(LeakyReLU(alpha=0.2))\n",
    "model.add(BatchNormalization())\n",
    "model.add(Conv2D(32, kernel_size=3, padding='same'))\n",
    "model.add(LeakyReLU(alpha=0.2))\n",
    "model.add(BatchNormalization())\n",
    "model.add(Conv2D(32, kernel_size=3, padding='same'))\n",
    "model.add(LeakyReLU(alpha=0.2))\n",
    "model.add(BatchNormalization())\n",
    "model.add(MaxPool2D())\n",
    "model.add(Dropout(0.2))\n",
    "model.add(Conv2D(64, kernel_size=3, padding='same'))\n",
    "model.add(LeakyReLU(alpha=0.2))\n",
    "model.add(BatchNormalization())\n",
    "model.add(Conv2D(64, kernel_size=3, padding='same'))\n",
    "model.add(LeakyReLU(alpha=0.2))\n",
    "model.add(BatchNormalization())\n",
    "model.add(Conv2D(64, kernel_size=3, padding='same'))\n",
    "model.add(LeakyReLU(alpha=0.2))\n",
    "model.add(BatchNormalization())\n",
    "model.add(MaxPool2D())"
   ]
  },
  {
   "cell_type": "code",
   "execution_count": 7,
   "metadata": {},
   "outputs": [],
   "source": [
    "model.add(Flatten())\n",
    "model.add(Dropout(0.2))\n",
    "model.add(Dense(1024))\n",
    "model.add(LeakyReLU(alpha=0.2))\n",
    "model.add(Dropout(0.2))\n",
    "model.add(Dense(1024))\n",
    "model.add(LeakyReLU(alpha=0.2))\n",
    "model.add(Dense(10, activation='softmax'))"
   ]
  },
  {
   "cell_type": "code",
   "execution_count": 8,
   "metadata": {},
   "outputs": [
    {
     "name": "stdout",
     "output_type": "stream",
     "text": [
      "Model: \"sequential\"\n",
      "_________________________________________________________________\n",
      "Layer (type)                 Output Shape              Param #   \n",
      "=================================================================\n",
      "conv2d (Conv2D)              (None, 32, 32, 16)        448       \n",
      "_________________________________________________________________\n",
      "leaky_re_lu (LeakyReLU)      (None, 32, 32, 16)        0         \n",
      "_________________________________________________________________\n",
      "batch_normalization (BatchNo (None, 32, 32, 16)        64        \n",
      "_________________________________________________________________\n",
      "conv2d_1 (Conv2D)            (None, 32, 32, 16)        2320      \n",
      "_________________________________________________________________\n",
      "leaky_re_lu_1 (LeakyReLU)    (None, 32, 32, 16)        0         \n",
      "_________________________________________________________________\n",
      "batch_normalization_1 (Batch (None, 32, 32, 16)        64        \n",
      "_________________________________________________________________\n",
      "max_pooling2d (MaxPooling2D) (None, 16, 16, 16)        0         \n",
      "_________________________________________________________________\n",
      "dropout (Dropout)            (None, 16, 16, 16)        0         \n",
      "_________________________________________________________________\n",
      "conv2d_2 (Conv2D)            (None, 16, 16, 32)        4640      \n",
      "_________________________________________________________________\n",
      "leaky_re_lu_2 (LeakyReLU)    (None, 16, 16, 32)        0         \n",
      "_________________________________________________________________\n",
      "batch_normalization_2 (Batch (None, 16, 16, 32)        128       \n",
      "_________________________________________________________________\n",
      "conv2d_3 (Conv2D)            (None, 16, 16, 32)        9248      \n",
      "_________________________________________________________________\n",
      "leaky_re_lu_3 (LeakyReLU)    (None, 16, 16, 32)        0         \n",
      "_________________________________________________________________\n",
      "batch_normalization_3 (Batch (None, 16, 16, 32)        128       \n",
      "_________________________________________________________________\n",
      "conv2d_4 (Conv2D)            (None, 16, 16, 32)        9248      \n",
      "_________________________________________________________________\n",
      "leaky_re_lu_4 (LeakyReLU)    (None, 16, 16, 32)        0         \n",
      "_________________________________________________________________\n",
      "batch_normalization_4 (Batch (None, 16, 16, 32)        128       \n",
      "_________________________________________________________________\n",
      "max_pooling2d_1 (MaxPooling2 (None, 8, 8, 32)          0         \n",
      "_________________________________________________________________\n",
      "dropout_1 (Dropout)          (None, 8, 8, 32)          0         \n",
      "_________________________________________________________________\n",
      "conv2d_5 (Conv2D)            (None, 8, 8, 64)          18496     \n",
      "_________________________________________________________________\n",
      "leaky_re_lu_5 (LeakyReLU)    (None, 8, 8, 64)          0         \n",
      "_________________________________________________________________\n",
      "batch_normalization_5 (Batch (None, 8, 8, 64)          256       \n",
      "_________________________________________________________________\n",
      "conv2d_6 (Conv2D)            (None, 8, 8, 64)          36928     \n",
      "_________________________________________________________________\n",
      "leaky_re_lu_6 (LeakyReLU)    (None, 8, 8, 64)          0         \n",
      "_________________________________________________________________\n",
      "batch_normalization_6 (Batch (None, 8, 8, 64)          256       \n",
      "_________________________________________________________________\n",
      "conv2d_7 (Conv2D)            (None, 8, 8, 64)          36928     \n",
      "_________________________________________________________________\n",
      "leaky_re_lu_7 (LeakyReLU)    (None, 8, 8, 64)          0         \n",
      "_________________________________________________________________\n",
      "batch_normalization_7 (Batch (None, 8, 8, 64)          256       \n",
      "_________________________________________________________________\n",
      "max_pooling2d_2 (MaxPooling2 (None, 4, 4, 64)          0         \n",
      "_________________________________________________________________\n",
      "flatten (Flatten)            (None, 1024)              0         \n",
      "_________________________________________________________________\n",
      "dropout_2 (Dropout)          (None, 1024)              0         \n",
      "_________________________________________________________________\n",
      "dense (Dense)                (None, 1024)              1049600   \n",
      "_________________________________________________________________\n",
      "leaky_re_lu_8 (LeakyReLU)    (None, 1024)              0         \n",
      "_________________________________________________________________\n",
      "dropout_3 (Dropout)          (None, 1024)              0         \n",
      "_________________________________________________________________\n",
      "dense_1 (Dense)              (None, 1024)              1049600   \n",
      "_________________________________________________________________\n",
      "leaky_re_lu_9 (LeakyReLU)    (None, 1024)              0         \n",
      "_________________________________________________________________\n",
      "dense_2 (Dense)              (None, 10)                10250     \n",
      "=================================================================\n",
      "Total params: 2,228,986\n",
      "Trainable params: 2,228,346\n",
      "Non-trainable params: 640\n",
      "_________________________________________________________________\n"
     ]
    }
   ],
   "source": [
    "model.summary()"
   ]
  },
  {
   "cell_type": "code",
   "execution_count": 9,
   "metadata": {},
   "outputs": [],
   "source": [
    "train_s_data = train_data[0:39999]\n",
    "train_s_labels = train_labels[0:39999]\n",
    "valid_data = train_data[40000:49999]\n",
    "valid_labels = train_labels[40000:49999]\n",
    "\n",
    "datagen = ImageDataGenerator(\n",
    "    featurewise_center=True,\n",
    "    featurewise_std_normalization=True,\n",
    "    rotation_range=10,\n",
    "    width_shift_range=0.1,\n",
    "    height_shift_range=0.1,\n",
    "    horizontal_flip=True)\n",
    "datagen.fit(train_data)"
   ]
  },
  {
   "cell_type": "code",
   "execution_count": 10,
   "metadata": {},
   "outputs": [],
   "source": [
    "model.compile(optimizer='adam', loss='sparse_categorical_crossentropy', metrics=['accuracy'])"
   ]
  },
  {
   "cell_type": "code",
   "execution_count": 11,
   "metadata": {
    "scrolled": true
   },
   "outputs": [
    {
     "name": "stdout",
     "output_type": "stream",
     "text": [
      "Epoch 1/200\n",
      "\n",
      "Epoch 00001: val_loss improved from inf to 11.87504, saving model to ../checkpoints/best_with_datagen.hdf5\n",
      "1250/1250 - 93s - loss: 1.6258 - accuracy: 0.4270 - val_loss: 11.8750 - val_accuracy: 0.2495\n",
      "Epoch 2/200\n",
      "\n",
      "Epoch 00002: val_loss improved from 11.87504 to 8.47963, saving model to ../checkpoints/best_with_datagen.hdf5\n",
      "1250/1250 - 92s - loss: 1.2419 - accuracy: 0.5595 - val_loss: 8.4796 - val_accuracy: 0.4164\n",
      "Epoch 3/200\n",
      "\n",
      "Epoch 00003: val_loss did not improve from 8.47963\n",
      "1250/1250 - 92s - loss: 1.0974 - accuracy: 0.6145 - val_loss: 10.2599 - val_accuracy: 0.3364\n",
      "Epoch 4/200\n",
      "\n",
      "Epoch 00004: val_loss did not improve from 8.47963\n",
      "1250/1250 - 92s - loss: 1.0013 - accuracy: 0.6477 - val_loss: 9.6701 - val_accuracy: 0.3638\n",
      "Epoch 5/200\n",
      "\n",
      "Epoch 00005: val_loss did not improve from 8.47963\n",
      "1250/1250 - 91s - loss: 0.9317 - accuracy: 0.6752 - val_loss: 9.0806 - val_accuracy: 0.3863\n",
      "Epoch 6/200\n",
      "\n",
      "Epoch 00006: val_loss did not improve from 8.47963\n",
      "1250/1250 - 91s - loss: 0.8807 - accuracy: 0.6910 - val_loss: 11.2504 - val_accuracy: 0.2697\n",
      "Epoch 7/200\n",
      "\n",
      "Epoch 00007: val_loss did not improve from 8.47963\n",
      "1250/1250 - 92s - loss: 0.8287 - accuracy: 0.7104 - val_loss: 10.7396 - val_accuracy: 0.3082\n",
      "Epoch 8/200\n",
      "\n",
      "Epoch 00008: val_loss did not improve from 8.47963\n",
      "1250/1250 - 92s - loss: 0.7888 - accuracy: 0.7267 - val_loss: 9.0998 - val_accuracy: 0.3955\n",
      "Epoch 9/200\n",
      "\n",
      "Epoch 00009: val_loss did not improve from 8.47963\n",
      "1250/1250 - 91s - loss: 0.7669 - accuracy: 0.7328 - val_loss: 10.0240 - val_accuracy: 0.3539\n",
      "Epoch 10/200\n",
      "\n",
      "Epoch 00010: val_loss did not improve from 8.47963\n",
      "1250/1250 - 91s - loss: 0.7269 - accuracy: 0.7467 - val_loss: 8.8540 - val_accuracy: 0.3998\n",
      "Epoch 11/200\n",
      "\n",
      "Epoch 00011: val_loss did not improve from 8.47963\n",
      "1250/1250 - 92s - loss: 0.7195 - accuracy: 0.7492 - val_loss: 9.6396 - val_accuracy: 0.3572\n",
      "Epoch 12/200\n",
      "\n",
      "Epoch 00012: val_loss did not improve from 8.47963\n",
      "1250/1250 - 92s - loss: 0.6924 - accuracy: 0.7579 - val_loss: 10.1873 - val_accuracy: 0.3435\n",
      "Epoch 13/200\n",
      "\n",
      "Epoch 00013: val_loss did not improve from 8.47963\n",
      "1250/1250 - 91s - loss: 0.6825 - accuracy: 0.7606 - val_loss: 9.9022 - val_accuracy: 0.3564\n",
      "Epoch 14/200\n",
      "\n",
      "Epoch 00014: val_loss did not improve from 8.47963\n",
      "1250/1250 - 91s - loss: 0.6659 - accuracy: 0.7683 - val_loss: 10.9533 - val_accuracy: 0.2967\n",
      "Epoch 15/200\n",
      "\n",
      "Epoch 00015: val_loss did not improve from 8.47963\n",
      "1250/1250 - 92s - loss: 0.6532 - accuracy: 0.7726 - val_loss: 11.4986 - val_accuracy: 0.2706\n",
      "Epoch 16/200\n",
      "\n",
      "Epoch 00016: val_loss did not improve from 8.47963\n",
      "1250/1250 - 92s - loss: 0.6400 - accuracy: 0.7784 - val_loss: 9.2845 - val_accuracy: 0.3984\n",
      "Epoch 17/200\n",
      "\n",
      "Epoch 00017: val_loss did not improve from 8.47963\n",
      "1250/1250 - 91s - loss: 0.6331 - accuracy: 0.7792 - val_loss: 9.6203 - val_accuracy: 0.3695\n"
     ]
    }
   ],
   "source": [
    "es_cb = tf.keras.callbacks.EarlyStopping(monitor='val_loss', patience=15)\n",
    "sm_cb = tf.keras.callbacks.ModelCheckpoint(monitor='val_loss', filepath='../checkpoints/best_with_datagen.hdf5', verbose=1, save_best_only=True)\n",
    "history = model.fit_generator(datagen.flow(train_s_data, train_s_labels), steps_per_epoch=1250, verbose=2, epochs=200, shuffle=True, validation_data=(valid_data, valid_labels), callbacks=[es_cb, sm_cb])"
   ]
  },
  {
   "cell_type": "code",
   "execution_count": 12,
   "metadata": {},
   "outputs": [
    {
     "data": {
      "text/plain": [
       "<matplotlib.legend.Legend at 0x17eb8f91d30>"
      ]
     },
     "execution_count": 12,
     "metadata": {},
     "output_type": "execute_result"
    },
    {
     "data": {
      "image/png": "[encoded data removed]",
      "text/plain": [
       "<Figure size 432x288 with 1 Axes>"
      ]
     },
     "metadata": {
      "needs_background": "light"
     },
     "output_type": "display_data"
    }
   ],
   "source": [
    "plt.plot(history.history['loss'])\n",
    "plt.plot(history.history['val_loss'])\n",
    "plt.legend(['train', 'validate'], loc='upper right')"
   ]
  },
  {
   "cell_type": "code",
   "execution_count": 13,
   "metadata": {},
   "outputs": [
    {
     "data": {
      "text/plain": [
       "[26.663723718261718, 0.4197]"
      ]
     },
     "execution_count": 13,
     "metadata": {},
     "output_type": "execute_result"
    }
   ],
   "source": [
    "test_labels = np.array(test_labels, dtype='uint8')\n",
    "model.load_weights('../checkpoints/best_with_datagen.hdf5')\n",
    "model.evaluate(test_data, test_labels, verbose=0)"
   ]
  }
 ],
 "metadata": {
  "kernelspec": {
   "display_name": "Python 3",
   "language": "python",
   "name": "python3"
  },
  "language_info": {
   "codemirror_mode": {
    "name": "ipython",
    "version": 3
   },
   "file_extension": ".py",
   "mimetype": "text/x-python",
   "name": "python",
   "nbconvert_exporter": "python",
   "pygments_lexer": "ipython3",
   "version": "3.5.4"
  }
 },
 "nbformat": 4,
 "nbformat_minor": 2
}
