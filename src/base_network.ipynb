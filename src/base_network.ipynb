{
 "cells": [
  {
   "cell_type": "code",
   "execution_count": 1,
   "metadata": {},
   "outputs": [],
   "source": [
    "from load_data import load\n",
    "import numpy as np\n",
    "import tensorflow as tf\n",
    "from tensorflow import keras\n",
    "import matplotlib.pyplot as plt"
   ]
  },
  {
   "cell_type": "code",
   "execution_count": 2,
   "metadata": {},
   "outputs": [],
   "source": [
    "from tensorflow.keras.models import Sequential\n",
    "from tensorflow.keras.layers import Dense, Conv2D, Flatten, MaxPool2D"
   ]
  },
  {
   "cell_type": "code",
   "execution_count": 3,
   "metadata": {},
   "outputs": [],
   "source": [
    "(train_data, train_labels, test_data, test_labels) = load()"
   ]
  },
  {
   "cell_type": "code",
   "execution_count": 4,
   "metadata": {},
   "outputs": [
    {
     "data": {
      "text/plain": [
       "(50000, 32, 32, 3)"
      ]
     },
     "execution_count": 4,
     "metadata": {},
     "output_type": "execute_result"
    }
   ],
   "source": [
    "train_data.shape"
   ]
  },
  {
   "cell_type": "code",
   "execution_count": 5,
   "metadata": {},
   "outputs": [
    {
     "data": {
      "text/plain": [
       "<matplotlib.image.AxesImage at 0x1f235303cf8>"
      ]
     },
     "execution_count": 5,
     "metadata": {},
     "output_type": "execute_result"
    },
    {
     "data": {
      "image/png": "[encoded data removed]",
      "text/plain": [
       "<Figure size 432x288 with 1 Axes>"
      ]
     },
     "metadata": {
      "needs_background": "light"
     },
     "output_type": "display_data"
    }
   ],
   "source": [
    "plt.imshow(train_data[7])"
   ]
  },
  {
   "cell_type": "code",
   "execution_count": 6,
   "metadata": {},
   "outputs": [],
   "source": [
    "model = Sequential()\n",
    "model.add(Conv2D(8, kernel_size=3, padding='same', activation='relu', input_shape=(32,32,3)))\n",
    "model.add(Conv2D(8, kernel_size=3, padding='same', activation='relu'))\n",
    "model.add(MaxPool2D())\n",
    "model.add(Conv2D(16, kernel_size=3, padding='same', activation='relu'))\n",
    "model.add(Conv2D(16, kernel_size=3, padding='same', activation='relu'))\n",
    "model.add(Conv2D(16, kernel_size=3, padding='same', activation='relu'))\n",
    "model.add(MaxPool2D())\n",
    "model.add(Conv2D(32, kernel_size=3, padding='same', activation='relu'))\n",
    "model.add(Conv2D(32, kernel_size=3, padding='same', activation='relu'))\n",
    "model.add(Conv2D(32, kernel_size=3, padding='same', activation='relu'))\n",
    "model.add(MaxPool2D())"
   ]
  },
  {
   "cell_type": "code",
   "execution_count": 7,
   "metadata": {},
   "outputs": [],
   "source": [
    "model.add(Flatten())\n",
    "model.add(Dense(10, activation='softmax'))"
   ]
  },
  {
   "cell_type": "code",
   "execution_count": 8,
   "metadata": {},
   "outputs": [
    {
     "name": "stdout",
     "output_type": "stream",
     "text": [
      "Model: \"sequential\"\n",
      "_________________________________________________________________\n",
      "Layer (type)                 Output Shape              Param #   \n",
      "=================================================================\n",
      "conv2d (Conv2D)              (None, 32, 32, 8)         224       \n",
      "_________________________________________________________________\n",
      "conv2d_1 (Conv2D)            (None, 32, 32, 8)         584       \n",
      "_________________________________________________________________\n",
      "max_pooling2d (MaxPooling2D) (None, 16, 16, 8)         0         \n",
      "_________________________________________________________________\n",
      "conv2d_2 (Conv2D)            (None, 16, 16, 16)        1168      \n",
      "_________________________________________________________________\n",
      "conv2d_3 (Conv2D)            (None, 16, 16, 16)        2320      \n",
      "_________________________________________________________________\n",
      "conv2d_4 (Conv2D)            (None, 16, 16, 16)        2320      \n",
      "_________________________________________________________________\n",
      "max_pooling2d_1 (MaxPooling2 (None, 8, 8, 16)          0         \n",
      "_________________________________________________________________\n",
      "conv2d_5 (Conv2D)            (None, 8, 8, 32)          4640      \n",
      "_________________________________________________________________\n",
      "conv2d_6 (Conv2D)            (None, 8, 8, 32)          9248      \n",
      "_________________________________________________________________\n",
      "conv2d_7 (Conv2D)            (None, 8, 8, 32)          9248      \n",
      "_________________________________________________________________\n",
      "max_pooling2d_2 (MaxPooling2 (None, 4, 4, 32)          0         \n",
      "_________________________________________________________________\n",
      "flatten (Flatten)            (None, 512)               0         \n",
      "_________________________________________________________________\n",
      "dense (Dense)                (None, 10)                5130      \n",
      "=================================================================\n",
      "Total params: 34,882\n",
      "Trainable params: 34,882\n",
      "Non-trainable params: 0\n",
      "_________________________________________________________________\n"
     ]
    }
   ],
   "source": [
    "model.summary()"
   ]
  },
  {
   "cell_type": "code",
   "execution_count": 9,
   "metadata": {},
   "outputs": [],
   "source": [
    "model.compile(optimizer='adam', loss='sparse_categorical_crossentropy', metrics=['accuracy'])"
   ]
  },
  {
   "cell_type": "code",
   "execution_count": 10,
   "metadata": {
    "scrolled": true
   },
   "outputs": [
    {
     "name": "stdout",
     "output_type": "stream",
     "text": [
      "Train on 40000 samples, validate on 10000 samples\n",
      "Epoch 1/50\n",
      "40000/40000 - 8s - loss: 1.7021 - accuracy: 0.3817 - val_loss: 1.4652 - val_accuracy: 0.4723\n",
      "Epoch 2/50\n",
      "40000/40000 - 6s - loss: 1.3688 - accuracy: 0.5063 - val_loss: 1.2677 - val_accuracy: 0.5481\n",
      "Epoch 3/50\n",
      "40000/40000 - 6s - loss: 1.2428 - accuracy: 0.5540 - val_loss: 1.2986 - val_accuracy: 0.5386\n",
      "Epoch 4/50\n",
      "40000/40000 - 6s - loss: 1.1553 - accuracy: 0.5889 - val_loss: 1.1524 - val_accuracy: 0.5843\n",
      "Epoch 5/50\n",
      "40000/40000 - 6s - loss: 1.0886 - accuracy: 0.6155 - val_loss: 1.2093 - val_accuracy: 0.5744\n",
      "Epoch 6/50\n",
      "40000/40000 - 6s - loss: 1.0387 - accuracy: 0.6304 - val_loss: 1.0656 - val_accuracy: 0.6221\n",
      "Epoch 7/50\n",
      "40000/40000 - 7s - loss: 0.9977 - accuracy: 0.6439 - val_loss: 1.0691 - val_accuracy: 0.6212\n",
      "Epoch 8/50\n",
      "40000/40000 - 6s - loss: 0.9624 - accuracy: 0.6576 - val_loss: 1.1621 - val_accuracy: 0.5925\n",
      "Epoch 9/50\n",
      "40000/40000 - 6s - loss: 0.9339 - accuracy: 0.6679 - val_loss: 1.0824 - val_accuracy: 0.6232\n",
      "Epoch 10/50\n",
      "40000/40000 - 6s - loss: 0.9089 - accuracy: 0.6790 - val_loss: 1.0568 - val_accuracy: 0.6315\n",
      "Epoch 11/50\n",
      "40000/40000 - 6s - loss: 0.8824 - accuracy: 0.6866 - val_loss: 1.0846 - val_accuracy: 0.6210\n",
      "Epoch 12/50\n",
      "40000/40000 - 6s - loss: 0.8639 - accuracy: 0.6952 - val_loss: 0.9985 - val_accuracy: 0.6480\n",
      "Epoch 13/50\n",
      "40000/40000 - 6s - loss: 0.8400 - accuracy: 0.7041 - val_loss: 1.0763 - val_accuracy: 0.6256\n",
      "Epoch 14/50\n",
      "40000/40000 - 6s - loss: 0.8342 - accuracy: 0.7057 - val_loss: 1.0736 - val_accuracy: 0.6366\n",
      "Epoch 15/50\n",
      "40000/40000 - 6s - loss: 0.8127 - accuracy: 0.7098 - val_loss: 1.1089 - val_accuracy: 0.6241\n",
      "Epoch 16/50\n",
      "40000/40000 - 6s - loss: 0.8023 - accuracy: 0.7165 - val_loss: 1.0428 - val_accuracy: 0.6365\n",
      "Epoch 17/50\n",
      "40000/40000 - 6s - loss: 0.7889 - accuracy: 0.7182 - val_loss: 1.0224 - val_accuracy: 0.6570\n",
      "Epoch 18/50\n",
      "40000/40000 - 6s - loss: 0.7715 - accuracy: 0.7260 - val_loss: 1.0591 - val_accuracy: 0.6441\n",
      "Epoch 19/50\n",
      "40000/40000 - 7s - loss: 0.7679 - accuracy: 0.7271 - val_loss: 1.0531 - val_accuracy: 0.6589\n",
      "Epoch 20/50\n",
      "40000/40000 - 6s - loss: 0.7527 - accuracy: 0.7340 - val_loss: 1.0327 - val_accuracy: 0.6574\n",
      "Epoch 21/50\n",
      "40000/40000 - 6s - loss: 0.7440 - accuracy: 0.7356 - val_loss: 1.0458 - val_accuracy: 0.6551\n",
      "Epoch 22/50\n",
      "40000/40000 - 6s - loss: 0.7425 - accuracy: 0.7384 - val_loss: 1.0660 - val_accuracy: 0.6451\n",
      "Epoch 23/50\n",
      "40000/40000 - 6s - loss: 0.7320 - accuracy: 0.7387 - val_loss: 1.0245 - val_accuracy: 0.6519\n",
      "Epoch 24/50\n",
      "40000/40000 - 6s - loss: 0.7241 - accuracy: 0.7447 - val_loss: 1.0264 - val_accuracy: 0.6584\n",
      "Epoch 25/50\n",
      "40000/40000 - 7s - loss: 0.7165 - accuracy: 0.7474 - val_loss: 1.0347 - val_accuracy: 0.6552\n",
      "Epoch 26/50\n",
      "40000/40000 - 7s - loss: 0.7106 - accuracy: 0.7488 - val_loss: 1.0800 - val_accuracy: 0.6515\n",
      "Epoch 27/50\n",
      "40000/40000 - 6s - loss: 0.7077 - accuracy: 0.7463 - val_loss: 1.1222 - val_accuracy: 0.6381\n",
      "Epoch 28/50\n",
      "40000/40000 - 7s - loss: 0.6963 - accuracy: 0.7517 - val_loss: 1.1172 - val_accuracy: 0.6431\n",
      "Epoch 29/50\n",
      "40000/40000 - 7s - loss: 0.7014 - accuracy: 0.7530 - val_loss: 1.1065 - val_accuracy: 0.6243\n",
      "Epoch 30/50\n",
      "40000/40000 - 7s - loss: 0.6940 - accuracy: 0.7546 - val_loss: 1.2256 - val_accuracy: 0.6095\n",
      "Epoch 31/50\n",
      "40000/40000 - 6s - loss: 0.6878 - accuracy: 0.7571 - val_loss: 1.0725 - val_accuracy: 0.6516\n",
      "Epoch 32/50\n",
      "40000/40000 - 6s - loss: 0.6789 - accuracy: 0.7582 - val_loss: 1.0576 - val_accuracy: 0.6512\n",
      "Epoch 33/50\n",
      "40000/40000 - 6s - loss: 0.6729 - accuracy: 0.7617 - val_loss: 1.0745 - val_accuracy: 0.6488\n",
      "Epoch 34/50\n",
      "40000/40000 - 6s - loss: 0.6749 - accuracy: 0.7615 - val_loss: 1.0667 - val_accuracy: 0.6501\n",
      "Epoch 35/50\n",
      "40000/40000 - 6s - loss: 0.6754 - accuracy: 0.7621 - val_loss: 1.0814 - val_accuracy: 0.6485\n",
      "Epoch 36/50\n",
      "40000/40000 - 6s - loss: 0.6700 - accuracy: 0.7616 - val_loss: 1.0590 - val_accuracy: 0.6521\n",
      "Epoch 37/50\n",
      "40000/40000 - 6s - loss: 0.6569 - accuracy: 0.7651 - val_loss: 1.0713 - val_accuracy: 0.6529\n",
      "Epoch 38/50\n",
      "40000/40000 - 6s - loss: 0.6663 - accuracy: 0.7643 - val_loss: 1.1338 - val_accuracy: 0.6489\n",
      "Epoch 39/50\n",
      "40000/40000 - 7s - loss: 0.6540 - accuracy: 0.7673 - val_loss: 1.1200 - val_accuracy: 0.6481\n",
      "Epoch 40/50\n",
      "40000/40000 - 7s - loss: 0.6575 - accuracy: 0.7670 - val_loss: 1.0703 - val_accuracy: 0.6548\n",
      "Epoch 41/50\n",
      "40000/40000 - 6s - loss: 0.6430 - accuracy: 0.7698 - val_loss: 1.0782 - val_accuracy: 0.6504\n",
      "Epoch 42/50\n",
      "40000/40000 - 7s - loss: 0.6386 - accuracy: 0.7732 - val_loss: 1.1145 - val_accuracy: 0.6544\n",
      "Epoch 43/50\n",
      "40000/40000 - 7s - loss: 0.6440 - accuracy: 0.7706 - val_loss: 1.0904 - val_accuracy: 0.6569\n",
      "Epoch 44/50\n",
      "40000/40000 - 6s - loss: 0.6484 - accuracy: 0.7709 - val_loss: 1.1286 - val_accuracy: 0.6409\n",
      "Epoch 45/50\n",
      "40000/40000 - 6s - loss: 0.6447 - accuracy: 0.7720 - val_loss: 1.1301 - val_accuracy: 0.6537\n",
      "Epoch 46/50\n",
      "40000/40000 - 6s - loss: 0.6421 - accuracy: 0.7721 - val_loss: 1.0722 - val_accuracy: 0.6580\n",
      "Epoch 47/50\n",
      "40000/40000 - 6s - loss: 0.6421 - accuracy: 0.7713 - val_loss: 1.1757 - val_accuracy: 0.6400\n",
      "Epoch 48/50\n",
      "40000/40000 - 6s - loss: 0.6324 - accuracy: 0.7760 - val_loss: 1.1005 - val_accuracy: 0.6489\n",
      "Epoch 49/50\n",
      "40000/40000 - 6s - loss: 0.6374 - accuracy: 0.7722 - val_loss: 1.0806 - val_accuracy: 0.6495\n",
      "Epoch 50/50\n",
      "40000/40000 - 6s - loss: 0.6298 - accuracy: 0.7782 - val_loss: 1.0808 - val_accuracy: 0.6645\n"
     ]
    }
   ],
   "source": [
    "history = model.fit(train_data, train_labels, epochs=50, verbose=2, validation_split=0.2, shuffle=True)"
   ]
  },
  {
   "cell_type": "code",
   "execution_count": 13,
   "metadata": {},
   "outputs": [
    {
     "data": {
      "text/plain": [
       "<matplotlib.legend.Legend at 0x1f3f04fa748>"
      ]
     },
     "execution_count": 13,
     "metadata": {},
     "output_type": "execute_result"
    },
    {
     "data": {
      "image/png": "[encoded data removed]",
      "text/plain": [
       "<Figure size 432x288 with 1 Axes>"
      ]
     },
     "metadata": {
      "needs_background": "light"
     },
     "output_type": "display_data"
    }
   ],
   "source": [
    "plt.plot(history.history['loss'])\n",
    "plt.plot(history.history['val_loss'])\n",
    "plt.legend(['train', 'validate'], loc='upper right')"
   ]
  },
  {
   "cell_type": "code",
   "execution_count": null,
   "metadata": {},
   "outputs": [],
   "source": []
  }
 ],
 "metadata": {
  "kernelspec": {
   "display_name": "Python 3",
   "language": "python",
   "name": "python3"
  },
  "language_info": {
   "codemirror_mode": {
    "name": "ipython",
    "version": 3
   },
   "file_extension": ".py",
   "mimetype": "text/x-python",
   "name": "python",
   "nbconvert_exporter": "python",
   "pygments_lexer": "ipython3",
   "version": "3.5.4"
  }
 },
 "nbformat": 4,
 "nbformat_minor": 2
}
