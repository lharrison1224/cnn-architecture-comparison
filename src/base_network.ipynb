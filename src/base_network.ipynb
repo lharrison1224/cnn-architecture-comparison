{
 "cells": [
  {
   "cell_type": "code",
   "execution_count": 1,
   "metadata": {},
   "outputs": [],
   "source": [
    "from load_data import load\n",
    "import numpy as np\n",
    "import tensorflow as tf\n",
    "from tensorflow import keras\n",
    "import matplotlib.pyplot as plt"
   ]
  },
  {
   "cell_type": "code",
   "execution_count": 2,
   "metadata": {},
   "outputs": [],
   "source": [
    "from tensorflow.keras.models import Sequential, load_model\n",
    "from tensorflow.keras.layers import Dense, Conv2D, Flatten, MaxPool2D"
   ]
  },
  {
   "cell_type": "code",
   "execution_count": 3,
   "metadata": {},
   "outputs": [],
   "source": [
    "(train_data, train_labels, test_data, test_labels) = load()"
   ]
  },
  {
   "cell_type": "code",
   "execution_count": 4,
   "metadata": {},
   "outputs": [
    {
     "data": {
      "text/plain": [
       "(50000, 32, 32, 3)"
      ]
     },
     "execution_count": 4,
     "metadata": {},
     "output_type": "execute_result"
    }
   ],
   "source": [
    "train_data.shape"
   ]
  },
  {
   "cell_type": "code",
   "execution_count": 5,
   "metadata": {},
   "outputs": [
    {
     "data": {
      "text/plain": [
       "<matplotlib.image.AxesImage at 0x22d57d26f98>"
      ]
     },
     "execution_count": 5,
     "metadata": {},
     "output_type": "execute_result"
    },
    {
     "data": {
      "image/png": "[encoded data removed]",
      "text/plain": [
       "<Figure size 432x288 with 1 Axes>"
      ]
     },
     "metadata": {
      "needs_background": "light"
     },
     "output_type": "display_data"
    }
   ],
   "source": [
    "plt.imshow(train_data[7])"
   ]
  },
  {
   "cell_type": "code",
   "execution_count": 6,
   "metadata": {},
   "outputs": [],
   "source": [
    "model = Sequential()\n",
    "model.add(Conv2D(8, kernel_size=3, padding='same', activation='relu', input_shape=(32,32,3)))\n",
    "model.add(Conv2D(8, kernel_size=3, padding='same', activation='relu'))\n",
    "model.add(MaxPool2D())\n",
    "model.add(Conv2D(16, kernel_size=3, padding='same', activation='relu'))\n",
    "model.add(Conv2D(16, kernel_size=3, padding='same', activation='relu'))\n",
    "model.add(Conv2D(16, kernel_size=3, padding='same', activation='relu'))\n",
    "model.add(MaxPool2D())\n",
    "model.add(Conv2D(32, kernel_size=3, padding='same', activation='relu'))\n",
    "model.add(Conv2D(32, kernel_size=3, padding='same', activation='relu'))\n",
    "model.add(Conv2D(32, kernel_size=3, padding='same', activation='relu'))\n",
    "model.add(MaxPool2D())"
   ]
  },
  {
   "cell_type": "code",
   "execution_count": 7,
   "metadata": {},
   "outputs": [],
   "source": [
    "model.add(Flatten())\n",
    "model.add(Dense(10, activation='softmax'))"
   ]
  },
  {
   "cell_type": "code",
   "execution_count": 8,
   "metadata": {},
   "outputs": [
    {
     "name": "stdout",
     "output_type": "stream",
     "text": [
      "Model: \"sequential\"\n",
      "_________________________________________________________________\n",
      "Layer (type)                 Output Shape              Param #   \n",
      "=================================================================\n",
      "conv2d (Conv2D)              (None, 32, 32, 8)         224       \n",
      "_________________________________________________________________\n",
      "conv2d_1 (Conv2D)            (None, 32, 32, 8)         584       \n",
      "_________________________________________________________________\n",
      "max_pooling2d (MaxPooling2D) (None, 16, 16, 8)         0         \n",
      "_________________________________________________________________\n",
      "conv2d_2 (Conv2D)            (None, 16, 16, 16)        1168      \n",
      "_________________________________________________________________\n",
      "conv2d_3 (Conv2D)            (None, 16, 16, 16)        2320      \n",
      "_________________________________________________________________\n",
      "conv2d_4 (Conv2D)            (None, 16, 16, 16)        2320      \n",
      "_________________________________________________________________\n",
      "max_pooling2d_1 (MaxPooling2 (None, 8, 8, 16)          0         \n",
      "_________________________________________________________________\n",
      "conv2d_5 (Conv2D)            (None, 8, 8, 32)          4640      \n",
      "_________________________________________________________________\n",
      "conv2d_6 (Conv2D)            (None, 8, 8, 32)          9248      \n",
      "_________________________________________________________________\n",
      "conv2d_7 (Conv2D)            (None, 8, 8, 32)          9248      \n",
      "_________________________________________________________________\n",
      "max_pooling2d_2 (MaxPooling2 (None, 4, 4, 32)          0         \n",
      "_________________________________________________________________\n",
      "flatten (Flatten)            (None, 512)               0         \n",
      "_________________________________________________________________\n",
      "dense (Dense)                (None, 10)                5130      \n",
      "=================================================================\n",
      "Total params: 34,882\n",
      "Trainable params: 34,882\n",
      "Non-trainable params: 0\n",
      "_________________________________________________________________\n"
     ]
    }
   ],
   "source": [
    "model.summary()"
   ]
  },
  {
   "cell_type": "code",
   "execution_count": 9,
   "metadata": {},
   "outputs": [],
   "source": [
    "model.compile(optimizer='adam', loss='sparse_categorical_crossentropy', metrics=['accuracy'])"
   ]
  },
  {
   "cell_type": "code",
   "execution_count": 10,
   "metadata": {
    "scrolled": true
   },
   "outputs": [
    {
     "name": "stdout",
     "output_type": "stream",
     "text": [
      "Train on 40000 samples, validate on 10000 samples\n",
      "Epoch 1/1000\n",
      "\n",
      "Epoch 00001: val_loss improved from inf to 1.43038, saving model to ../checkpoints/base_network.hdf5\n",
      "40000/40000 - 9s - loss: 1.7127 - accuracy: 0.3819 - val_loss: 1.4304 - val_accuracy: 0.4820\n",
      "Epoch 2/1000\n",
      "\n",
      "Epoch 00002: val_loss improved from 1.43038 to 1.30203, saving model to ../checkpoints/base_network.hdf5\n",
      "40000/40000 - 6s - loss: 1.3715 - accuracy: 0.5072 - val_loss: 1.3020 - val_accuracy: 0.5370\n",
      "Epoch 3/1000\n",
      "\n",
      "Epoch 00003: val_loss improved from 1.30203 to 1.18032, saving model to ../checkpoints/base_network.hdf5\n",
      "40000/40000 - 6s - loss: 1.2280 - accuracy: 0.5638 - val_loss: 1.1803 - val_accuracy: 0.5827\n",
      "Epoch 4/1000\n",
      "\n",
      "Epoch 00004: val_loss improved from 1.18032 to 1.16143, saving model to ../checkpoints/base_network.hdf5\n",
      "40000/40000 - 6s - loss: 1.1346 - accuracy: 0.6004 - val_loss: 1.1614 - val_accuracy: 0.5907\n",
      "Epoch 5/1000\n",
      "\n",
      "Epoch 00005: val_loss improved from 1.16143 to 1.08646, saving model to ../checkpoints/base_network.hdf5\n",
      "40000/40000 - 6s - loss: 1.0692 - accuracy: 0.6219 - val_loss: 1.0865 - val_accuracy: 0.6202\n",
      "Epoch 6/1000\n",
      "\n",
      "Epoch 00006: val_loss improved from 1.08646 to 1.04022, saving model to ../checkpoints/base_network.hdf5\n",
      "40000/40000 - 6s - loss: 1.0176 - accuracy: 0.6411 - val_loss: 1.0402 - val_accuracy: 0.6358\n",
      "Epoch 7/1000\n",
      "\n",
      "Epoch 00007: val_loss did not improve from 1.04022\n",
      "40000/40000 - 6s - loss: 0.9871 - accuracy: 0.6510 - val_loss: 1.0729 - val_accuracy: 0.6269\n",
      "Epoch 8/1000\n",
      "\n",
      "Epoch 00008: val_loss did not improve from 1.04022\n",
      "40000/40000 - 6s - loss: 0.9556 - accuracy: 0.6615 - val_loss: 1.0481 - val_accuracy: 0.6275\n",
      "Epoch 9/1000\n",
      "\n",
      "Epoch 00009: val_loss improved from 1.04022 to 1.00937, saving model to ../checkpoints/base_network.hdf5\n",
      "40000/40000 - 6s - loss: 0.9378 - accuracy: 0.6682 - val_loss: 1.0094 - val_accuracy: 0.6422\n",
      "Epoch 10/1000\n",
      "\n",
      "Epoch 00010: val_loss did not improve from 1.00937\n",
      "40000/40000 - 6s - loss: 0.9103 - accuracy: 0.6783 - val_loss: 1.0253 - val_accuracy: 0.6395\n",
      "Epoch 11/1000\n",
      "\n",
      "Epoch 00011: val_loss did not improve from 1.00937\n",
      "40000/40000 - 6s - loss: 0.8922 - accuracy: 0.6842 - val_loss: 1.0220 - val_accuracy: 0.6448\n",
      "Epoch 12/1000\n",
      "\n",
      "Epoch 00012: val_loss improved from 1.00937 to 0.99019, saving model to ../checkpoints/base_network.hdf5\n",
      "40000/40000 - 6s - loss: 0.8824 - accuracy: 0.6879 - val_loss: 0.9902 - val_accuracy: 0.6537\n",
      "Epoch 13/1000\n",
      "\n",
      "Epoch 00013: val_loss did not improve from 0.99019\n",
      "40000/40000 - 6s - loss: 0.8629 - accuracy: 0.6947 - val_loss: 1.0153 - val_accuracy: 0.6525\n",
      "Epoch 14/1000\n",
      "\n",
      "Epoch 00014: val_loss did not improve from 0.99019\n",
      "40000/40000 - 6s - loss: 0.8464 - accuracy: 0.6992 - val_loss: 0.9905 - val_accuracy: 0.6580\n",
      "Epoch 15/1000\n",
      "\n",
      "Epoch 00015: val_loss did not improve from 0.99019\n",
      "40000/40000 - 6s - loss: 0.8467 - accuracy: 0.7014 - val_loss: 1.0045 - val_accuracy: 0.6537\n",
      "Epoch 16/1000\n",
      "\n",
      "Epoch 00016: val_loss did not improve from 0.99019\n",
      "40000/40000 - 6s - loss: 0.8370 - accuracy: 0.7036 - val_loss: 1.0454 - val_accuracy: 0.6492\n",
      "Epoch 17/1000\n",
      "\n",
      "Epoch 00017: val_loss did not improve from 0.99019\n",
      "40000/40000 - 7s - loss: 0.8227 - accuracy: 0.7096 - val_loss: 0.9987 - val_accuracy: 0.6547\n",
      "Epoch 18/1000\n",
      "\n",
      "Epoch 00018: val_loss did not improve from 0.99019\n",
      "40000/40000 - 7s - loss: 0.8219 - accuracy: 0.7111 - val_loss: 1.0313 - val_accuracy: 0.6454\n",
      "Epoch 19/1000\n",
      "\n",
      "Epoch 00019: val_loss did not improve from 0.99019\n",
      "40000/40000 - 6s - loss: 0.8123 - accuracy: 0.7147 - val_loss: 1.0217 - val_accuracy: 0.6495\n",
      "Epoch 20/1000\n",
      "\n",
      "Epoch 00020: val_loss did not improve from 0.99019\n",
      "40000/40000 - 6s - loss: 0.7998 - accuracy: 0.7178 - val_loss: 1.0300 - val_accuracy: 0.6491\n",
      "Epoch 21/1000\n",
      "\n",
      "Epoch 00021: val_loss did not improve from 0.99019\n",
      "40000/40000 - 6s - loss: 0.7914 - accuracy: 0.7219 - val_loss: 1.0535 - val_accuracy: 0.6400\n",
      "Epoch 22/1000\n",
      "\n",
      "Epoch 00022: val_loss did not improve from 0.99019\n",
      "40000/40000 - 6s - loss: 0.7818 - accuracy: 0.7255 - val_loss: 1.0133 - val_accuracy: 0.6642\n",
      "Epoch 23/1000\n",
      "\n",
      "Epoch 00023: val_loss did not improve from 0.99019\n",
      "40000/40000 - 6s - loss: 0.7849 - accuracy: 0.7219 - val_loss: 1.0426 - val_accuracy: 0.6377\n",
      "Epoch 24/1000\n",
      "\n",
      "Epoch 00024: val_loss did not improve from 0.99019\n",
      "40000/40000 - 6s - loss: 0.7866 - accuracy: 0.7240 - val_loss: 1.0072 - val_accuracy: 0.6549\n",
      "Epoch 25/1000\n",
      "\n",
      "Epoch 00025: val_loss did not improve from 0.99019\n",
      "40000/40000 - 6s - loss: 0.7734 - accuracy: 0.7276 - val_loss: 1.0885 - val_accuracy: 0.6474\n",
      "Epoch 26/1000\n",
      "\n",
      "Epoch 00026: val_loss did not improve from 0.99019\n",
      "40000/40000 - 6s - loss: 0.7708 - accuracy: 0.7291 - val_loss: 1.0041 - val_accuracy: 0.6663\n",
      "Epoch 27/1000\n",
      "\n",
      "Epoch 00027: val_loss did not improve from 0.99019\n",
      "40000/40000 - 6s - loss: 0.7752 - accuracy: 0.7272 - val_loss: 1.0588 - val_accuracy: 0.6485\n"
     ]
    }
   ],
   "source": [
    "es_cb = tf.keras.callbacks.EarlyStopping(monitor='val_loss', patience=15)\n",
    "sm_cb = tf.keras.callbacks.ModelCheckpoint(monitor='val_loss', filepath='../checkpoints/base_network.hdf5', verbose=1, save_best_only=True)\n",
    "history = model.fit(train_data, train_labels, verbose=2, epochs=1000, validation_split=0.2, shuffle=True, callbacks=[es_cb, sm_cb])"
   ]
  },
  {
   "cell_type": "code",
   "execution_count": 16,
   "metadata": {},
   "outputs": [
    {
     "data": {
      "text/plain": [
       "Text(0, 0.5, 'Loss (Categorical Cross Entropy)')"
      ]
     },
     "execution_count": 16,
     "metadata": {},
     "output_type": "execute_result"
    },
    {
     "data": {
      "image/png": "[encoded data removed]",
      "text/plain": [
       "<Figure size 432x288 with 1 Axes>"
      ]
     },
     "metadata": {
      "needs_background": "light"
     },
     "output_type": "display_data"
    }
   ],
   "source": [
    "plt.plot(history.history['loss'])\n",
    "plt.plot(history.history['val_loss'])\n",
    "plt.legend(['train', 'validate'], loc='upper right')\n",
    "plt.ylim(0, 1.8)\n",
    "plt.grid(True)\n",
    "plt.xlabel('Epoch')\n",
    "plt.ylabel('Loss (Categorical Cross Entropy)')"
   ]
  },
  {
   "cell_type": "code",
   "execution_count": 12,
   "metadata": {},
   "outputs": [
    {
     "data": {
      "text/plain": [
       "[0.9977891298294067, 0.6503]"
      ]
     },
     "execution_count": 12,
     "metadata": {},
     "output_type": "execute_result"
    }
   ],
   "source": [
    "test_labels = np.array(test_labels, dtype='uint8')\n",
    "model.load_weights('../checkpoints/base_network.hdf5')\n",
    "model.evaluate(test_data, test_labels, verbose=0)"
   ]
  }
 ],
 "metadata": {
  "kernelspec": {
   "display_name": "Python 3",
   "language": "python",
   "name": "python3"
  },
  "language_info": {
   "codemirror_mode": {
    "name": "ipython",
    "version": 3
   },
   "file_extension": ".py",
   "mimetype": "text/x-python",
   "name": "python",
   "nbconvert_exporter": "python",
   "pygments_lexer": "ipython3",
   "version": "3.5.4"
  }
 },
 "nbformat": 4,
 "nbformat_minor": 2
}
