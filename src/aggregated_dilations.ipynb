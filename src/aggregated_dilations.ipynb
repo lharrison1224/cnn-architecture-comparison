{
 "cells": [
  {
   "cell_type": "code",
   "execution_count": 1,
   "metadata": {},
   "outputs": [],
   "source": [
    "from load_data import load\n",
    "import numpy as np\n",
    "import tensorflow as tf\n",
    "from tensorflow import keras\n",
    "import matplotlib.pyplot as plt"
   ]
  },
  {
   "cell_type": "code",
   "execution_count": 2,
   "metadata": {},
   "outputs": [],
   "source": [
    "from tensorflow.keras.models import Sequential, Model\n",
    "from tensorflow.keras.layers import Dense, Conv2D, Flatten, MaxPool2D, Dropout, Input, Concatenate, BatchNormalization\n",
    "from tensorflow.keras import regularizers\n",
    "from tensorflow.keras.utils import plot_model"
   ]
  },
  {
   "cell_type": "code",
   "execution_count": 3,
   "metadata": {},
   "outputs": [],
   "source": [
    "(train_data, train_labels, test_data, test_labels) = load()"
   ]
  },
  {
   "cell_type": "code",
   "execution_count": 4,
   "metadata": {},
   "outputs": [],
   "source": [
    "net1_kernel_size = 3\n",
    "net2_kernel_size = 5\n",
    "net3_kernel_size = 7\n",
    "\n",
    "conv1_depth = 32\n",
    "conv2_depth = 64\n",
    "conv3_depth = 128\n",
    "\n",
    "net1_input = Input(shape=(32,32,3),name='net1_input')\n",
    "net2_input = Input(shape=(32,32,3),name='net2_input')\n",
    "net3_input = Input(shape=(32,32,3),name='net3_input')\n",
    "\n",
    "net1_conv1_1 = Conv2D(conv1_depth, kernel_size=net1_kernel_size, padding='same', activation='relu')(net1_input)\n",
    "net1_conv1_2 = Conv2D(conv1_depth, kernel_size=net1_kernel_size, padding='same', activation='relu')(net1_conv1_1)\n",
    "net1_conv1_3 = Conv2D(conv1_depth, kernel_size=net1_kernel_size, padding='same', activation='relu')(net1_conv1_2)\n",
    "\n",
    "net2_conv1_1 = Conv2D(conv1_depth, kernel_size=net2_kernel_size, padding='same', activation='relu')(net2_input)\n",
    "net2_conv1_2 = Conv2D(conv1_depth, kernel_size=net2_kernel_size, padding='same', activation='relu')(net2_conv1_1)\n",
    "net2_conv1_3 = Conv2D(conv1_depth, kernel_size=net2_kernel_size, padding='same', activation='relu')(net2_conv1_2)\n",
    "\n",
    "net3_conv1_1 = Conv2D(conv1_depth, kernel_size=net3_kernel_size, padding='same', activation='relu')(net3_input)\n",
    "net3_conv1_2 = Conv2D(conv1_depth, kernel_size=net3_kernel_size, padding='same', activation='relu')(net3_conv1_1)\n",
    "net3_conv1_3 = Conv2D(conv1_depth, kernel_size=net3_kernel_size, padding='same', activation='relu')(net3_conv1_2)\n",
    "\n",
    "net1_norm1 = BatchNormalization()(net1_conv1_3)\n",
    "net2_norm1 = BatchNormalization()(net2_conv1_3)\n",
    "net3_norm1 = BatchNormalization()(net3_conv1_3)\n",
    "\n",
    "net1_maxpool1 = MaxPool2D()(net1_norm1)\n",
    "net2_maxpool1 = MaxPool2D()(net2_norm1)\n",
    "net3_maxpool1 = MaxPool2D()(net3_norm1)\n",
    "\n",
    "net1_conv2_1 = Conv2D(conv2_depth, kernel_size=net1_kernel_size, padding='same', activation='relu')(net1_maxpool1)\n",
    "net1_conv2_2 = Conv2D(conv2_depth, kernel_size=net1_kernel_size, padding='same', activation='relu')(net1_conv2_1)\n",
    "net1_conv2_3 = Conv2D(conv2_depth, kernel_size=net1_kernel_size, padding='same', activation='relu')(net1_conv2_2)\n",
    "\n",
    "net2_conv2_1 = Conv2D(conv2_depth, kernel_size=net2_kernel_size, padding='same', activation='relu')(net2_maxpool1)\n",
    "net2_conv2_2 = Conv2D(conv2_depth, kernel_size=net2_kernel_size, padding='same', activation='relu')(net2_conv2_1)\n",
    "net2_conv2_3 = Conv2D(conv2_depth, kernel_size=net2_kernel_size, padding='same', activation='relu')(net2_conv2_2)\n",
    "\n",
    "net3_conv2_1 = Conv2D(conv2_depth, kernel_size=net3_kernel_size, padding='same', activation='relu')(net3_maxpool1)\n",
    "net3_conv2_2 = Conv2D(conv2_depth, kernel_size=net3_kernel_size, padding='same', activation='relu')(net3_conv2_1)\n",
    "net3_conv2_3 = Conv2D(conv2_depth, kernel_size=net3_kernel_size, padding='same', activation='relu')(net3_conv2_2)\n",
    "\n",
    "net1_norm2 = BatchNormalization()(net1_conv2_3)\n",
    "net2_norm2 = BatchNormalization()(net2_conv2_3)\n",
    "net3_norm2 = BatchNormalization()(net3_conv2_3)\n",
    "\n",
    "net1_maxpool2 = MaxPool2D()(net1_norm2)\n",
    "net2_maxpool2 = MaxPool2D()(net2_norm2)\n",
    "net3_maxpool2 = MaxPool2D()(net3_norm2)\n",
    "\n",
    "net1_conv3_1 = Conv2D(conv3_depth, kernel_size=net1_kernel_size, padding='same', activation='relu')(net1_maxpool2)\n",
    "net1_conv3_2 = Conv2D(conv3_depth, kernel_size=net1_kernel_size, padding='same', activation='relu')(net1_conv3_1)\n",
    "net1_conv3_3 = Conv2D(conv3_depth, kernel_size=net1_kernel_size, padding='same', activation='relu')(net1_conv3_2)\n",
    "\n",
    "net2_conv3_1 = Conv2D(conv3_depth, kernel_size=net2_kernel_size, padding='same', activation='relu')(net2_maxpool2)\n",
    "net2_conv3_2 = Conv2D(conv3_depth, kernel_size=net2_kernel_size, padding='same', activation='relu')(net2_conv3_1)\n",
    "net2_conv3_3 = Conv2D(conv3_depth, kernel_size=net2_kernel_size, padding='same', activation='relu')(net2_conv3_2)\n",
    "\n",
    "net3_conv3_1 = Conv2D(conv3_depth, kernel_size=net3_kernel_size, padding='same', activation='relu')(net3_maxpool2)\n",
    "net3_conv3_2 = Conv2D(conv3_depth, kernel_size=net3_kernel_size, padding='same', activation='relu')(net3_conv3_1)\n",
    "net3_conv3_3 = Conv2D(conv3_depth, kernel_size=net3_kernel_size, padding='same', activation='relu')(net3_conv3_2)\n",
    "\n",
    "net1_norm3 = BatchNormalization()(net1_conv3_3)\n",
    "net2_norm3 = BatchNormalization()(net2_conv3_3)\n",
    "net3_norm3 = BatchNormalization()(net3_conv3_3)\n",
    "\n",
    "net1_maxpool3 = MaxPool2D()(net1_norm3)\n",
    "net2_maxpool3 = MaxPool2D()(net2_norm3)\n",
    "net3_maxpool3 = MaxPool2D()(net3_norm3)\n",
    "\n",
    "net1_flattened = Flatten()(net1_maxpool3)\n",
    "net2_flattened = Flatten()(net2_maxpool3)\n",
    "net3_flattened = Flatten()(net3_maxpool3)\n",
    "\n",
    "nets_merged = Concatenate()([net1_flattened, net2_flattened, net3_flattened])\n",
    "\n",
    "fc_1 = Dense(4096, activation='relu')(nets_merged)\n",
    "fc_2 = Dense(4096, activation='relu')(fc_1)\n",
    "output = Dense(10, activation='softmax')(fc_2)\n",
    "\n",
    "model = Model(inputs=[net1_input, net2_input, net3_input], outputs=[output])"
   ]
  },
  {
   "cell_type": "code",
   "execution_count": 5,
   "metadata": {},
   "outputs": [
    {
     "name": "stdout",
     "output_type": "stream",
     "text": [
      "Model: \"model\"\n",
      "__________________________________________________________________________________________________\n",
      "Layer (type)                    Output Shape         Param #     Connected to                     \n",
      "==================================================================================================\n",
      "net1_input (InputLayer)         [(None, 32, 32, 3)]  0                                            \n",
      "__________________________________________________________________________________________________\n",
      "net2_input (InputLayer)         [(None, 32, 32, 3)]  0                                            \n",
      "__________________________________________________________________________________________________\n",
      "net3_input (InputLayer)         [(None, 32, 32, 3)]  0                                            \n",
      "__________________________________________________________________________________________________\n",
      "conv2d (Conv2D)                 (None, 32, 32, 32)   896         net1_input[0][0]                 \n",
      "__________________________________________________________________________________________________\n",
      "conv2d_3 (Conv2D)               (None, 32, 32, 32)   2432        net2_input[0][0]                 \n",
      "__________________________________________________________________________________________________\n",
      "conv2d_6 (Conv2D)               (None, 32, 32, 32)   4736        net3_input[0][0]                 \n",
      "__________________________________________________________________________________________________\n",
      "conv2d_1 (Conv2D)               (None, 32, 32, 32)   9248        conv2d[0][0]                     \n",
      "__________________________________________________________________________________________________\n",
      "conv2d_4 (Conv2D)               (None, 32, 32, 32)   25632       conv2d_3[0][0]                   \n",
      "__________________________________________________________________________________________________\n",
      "conv2d_7 (Conv2D)               (None, 32, 32, 32)   50208       conv2d_6[0][0]                   \n",
      "__________________________________________________________________________________________________\n",
      "conv2d_2 (Conv2D)               (None, 32, 32, 32)   9248        conv2d_1[0][0]                   \n",
      "__________________________________________________________________________________________________\n",
      "conv2d_5 (Conv2D)               (None, 32, 32, 32)   25632       conv2d_4[0][0]                   \n",
      "__________________________________________________________________________________________________\n",
      "conv2d_8 (Conv2D)               (None, 32, 32, 32)   50208       conv2d_7[0][0]                   \n",
      "__________________________________________________________________________________________________\n",
      "batch_normalization (BatchNorma (None, 32, 32, 32)   128         conv2d_2[0][0]                   \n",
      "__________________________________________________________________________________________________\n",
      "batch_normalization_1 (BatchNor (None, 32, 32, 32)   128         conv2d_5[0][0]                   \n",
      "__________________________________________________________________________________________________\n",
      "batch_normalization_2 (BatchNor (None, 32, 32, 32)   128         conv2d_8[0][0]                   \n",
      "__________________________________________________________________________________________________\n",
      "max_pooling2d (MaxPooling2D)    (None, 16, 16, 32)   0           batch_normalization[0][0]        \n",
      "__________________________________________________________________________________________________\n",
      "max_pooling2d_1 (MaxPooling2D)  (None, 16, 16, 32)   0           batch_normalization_1[0][0]      \n",
      "__________________________________________________________________________________________________\n",
      "max_pooling2d_2 (MaxPooling2D)  (None, 16, 16, 32)   0           batch_normalization_2[0][0]      \n",
      "__________________________________________________________________________________________________\n",
      "conv2d_9 (Conv2D)               (None, 16, 16, 64)   18496       max_pooling2d[0][0]              \n",
      "__________________________________________________________________________________________________\n",
      "conv2d_12 (Conv2D)              (None, 16, 16, 64)   51264       max_pooling2d_1[0][0]            \n",
      "__________________________________________________________________________________________________\n",
      "conv2d_15 (Conv2D)              (None, 16, 16, 64)   100416      max_pooling2d_2[0][0]            \n",
      "__________________________________________________________________________________________________\n",
      "conv2d_10 (Conv2D)              (None, 16, 16, 64)   36928       conv2d_9[0][0]                   \n",
      "__________________________________________________________________________________________________\n",
      "conv2d_13 (Conv2D)              (None, 16, 16, 64)   102464      conv2d_12[0][0]                  \n",
      "__________________________________________________________________________________________________\n",
      "conv2d_16 (Conv2D)              (None, 16, 16, 64)   200768      conv2d_15[0][0]                  \n",
      "__________________________________________________________________________________________________\n",
      "conv2d_11 (Conv2D)              (None, 16, 16, 64)   36928       conv2d_10[0][0]                  \n",
      "__________________________________________________________________________________________________\n",
      "conv2d_14 (Conv2D)              (None, 16, 16, 64)   102464      conv2d_13[0][0]                  \n",
      "__________________________________________________________________________________________________\n",
      "conv2d_17 (Conv2D)              (None, 16, 16, 64)   200768      conv2d_16[0][0]                  \n",
      "__________________________________________________________________________________________________\n",
      "batch_normalization_3 (BatchNor (None, 16, 16, 64)   256         conv2d_11[0][0]                  \n",
      "__________________________________________________________________________________________________\n",
      "batch_normalization_4 (BatchNor (None, 16, 16, 64)   256         conv2d_14[0][0]                  \n",
      "__________________________________________________________________________________________________\n",
      "batch_normalization_5 (BatchNor (None, 16, 16, 64)   256         conv2d_17[0][0]                  \n",
      "__________________________________________________________________________________________________\n",
      "max_pooling2d_3 (MaxPooling2D)  (None, 8, 8, 64)     0           batch_normalization_3[0][0]      \n",
      "__________________________________________________________________________________________________\n",
      "max_pooling2d_4 (MaxPooling2D)  (None, 8, 8, 64)     0           batch_normalization_4[0][0]      \n",
      "__________________________________________________________________________________________________\n",
      "max_pooling2d_5 (MaxPooling2D)  (None, 8, 8, 64)     0           batch_normalization_5[0][0]      \n",
      "__________________________________________________________________________________________________\n",
      "conv2d_18 (Conv2D)              (None, 8, 8, 128)    73856       max_pooling2d_3[0][0]            \n",
      "__________________________________________________________________________________________________\n",
      "conv2d_21 (Conv2D)              (None, 8, 8, 128)    204928      max_pooling2d_4[0][0]            \n",
      "__________________________________________________________________________________________________\n",
      "conv2d_24 (Conv2D)              (None, 8, 8, 128)    401536      max_pooling2d_5[0][0]            \n",
      "__________________________________________________________________________________________________\n",
      "conv2d_19 (Conv2D)              (None, 8, 8, 128)    147584      conv2d_18[0][0]                  \n",
      "__________________________________________________________________________________________________\n",
      "conv2d_22 (Conv2D)              (None, 8, 8, 128)    409728      conv2d_21[0][0]                  \n",
      "__________________________________________________________________________________________________\n",
      "conv2d_25 (Conv2D)              (None, 8, 8, 128)    802944      conv2d_24[0][0]                  \n",
      "__________________________________________________________________________________________________\n",
      "conv2d_20 (Conv2D)              (None, 8, 8, 128)    147584      conv2d_19[0][0]                  \n",
      "__________________________________________________________________________________________________\n",
      "conv2d_23 (Conv2D)              (None, 8, 8, 128)    409728      conv2d_22[0][0]                  \n",
      "__________________________________________________________________________________________________\n",
      "conv2d_26 (Conv2D)              (None, 8, 8, 128)    802944      conv2d_25[0][0]                  \n",
      "__________________________________________________________________________________________________\n",
      "batch_normalization_6 (BatchNor (None, 8, 8, 128)    512         conv2d_20[0][0]                  \n",
      "__________________________________________________________________________________________________\n",
      "batch_normalization_7 (BatchNor (None, 8, 8, 128)    512         conv2d_23[0][0]                  \n",
      "__________________________________________________________________________________________________\n",
      "batch_normalization_8 (BatchNor (None, 8, 8, 128)    512         conv2d_26[0][0]                  \n",
      "__________________________________________________________________________________________________\n",
      "max_pooling2d_6 (MaxPooling2D)  (None, 4, 4, 128)    0           batch_normalization_6[0][0]      \n",
      "__________________________________________________________________________________________________\n",
      "max_pooling2d_7 (MaxPooling2D)  (None, 4, 4, 128)    0           batch_normalization_7[0][0]      \n",
      "__________________________________________________________________________________________________\n",
      "max_pooling2d_8 (MaxPooling2D)  (None, 4, 4, 128)    0           batch_normalization_8[0][0]      \n",
      "__________________________________________________________________________________________________\n",
      "flatten (Flatten)               (None, 2048)         0           max_pooling2d_6[0][0]            \n",
      "__________________________________________________________________________________________________\n",
      "flatten_1 (Flatten)             (None, 2048)         0           max_pooling2d_7[0][0]            \n",
      "__________________________________________________________________________________________________\n",
      "flatten_2 (Flatten)             (None, 2048)         0           max_pooling2d_8[0][0]            \n",
      "__________________________________________________________________________________________________\n",
      "concatenate (Concatenate)       (None, 6144)         0           flatten[0][0]                    \n",
      "                                                                 flatten_1[0][0]                  \n",
      "                                                                 flatten_2[0][0]                  \n",
      "__________________________________________________________________________________________________\n",
      "dense (Dense)                   (None, 4096)         25169920    concatenate[0][0]                \n",
      "__________________________________________________________________________________________________\n",
      "dense_1 (Dense)                 (None, 4096)         16781312    dense[0][0]                      \n",
      "__________________________________________________________________________________________________\n",
      "dense_2 (Dense)                 (None, 10)           40970       dense_1[0][0]                    \n",
      "==================================================================================================\n",
      "Total params: 46,424,458\n",
      "Trainable params: 46,423,114\n",
      "Non-trainable params: 1,344\n",
      "__________________________________________________________________________________________________\n"
     ]
    }
   ],
   "source": [
    "model.summary()"
   ]
  },
  {
   "cell_type": "code",
   "execution_count": 6,
   "metadata": {},
   "outputs": [],
   "source": [
    "model.compile(optimizer='adam', loss='sparse_categorical_crossentropy', metrics=['accuracy'])"
   ]
  },
  {
   "cell_type": "code",
   "execution_count": 7,
   "metadata": {},
   "outputs": [
    {
     "name": "stdout",
     "output_type": "stream",
     "text": [
      "Train on 40000 samples, validate on 10000 samples\n",
      "Epoch 1/40\n",
      "\n",
      "Epoch 00001: val_loss improved from inf to 1.56204, saving model to ../models/aggregated_dilations_weights.hdf5\n",
      "40000/40000 - 62s - loss: 1.6824 - accuracy: 0.4198 - val_loss: 1.5620 - val_accuracy: 0.4842\n",
      "Epoch 2/40\n",
      "\n",
      "Epoch 00002: val_loss improved from 1.56204 to 1.08933, saving model to ../models/aggregated_dilations_weights.hdf5\n",
      "40000/40000 - 59s - loss: 1.0925 - accuracy: 0.6111 - val_loss: 1.0893 - val_accuracy: 0.6120\n",
      "Epoch 3/40\n",
      "\n",
      "Epoch 00003: val_loss improved from 1.08933 to 1.06015, saving model to ../models/aggregated_dilations_weights.hdf5\n",
      "40000/40000 - 59s - loss: 0.8710 - accuracy: 0.6941 - val_loss: 1.0601 - val_accuracy: 0.6420\n",
      "Epoch 4/40\n",
      "\n",
      "Epoch 00004: val_loss improved from 1.06015 to 0.89214, saving model to ../models/aggregated_dilations_weights.hdf5\n",
      "40000/40000 - 59s - loss: 0.7461 - accuracy: 0.7400 - val_loss: 0.8921 - val_accuracy: 0.7081\n",
      "Epoch 5/40\n",
      "\n",
      "Epoch 00005: val_loss improved from 0.89214 to 0.75725, saving model to ../models/aggregated_dilations_weights.hdf5\n",
      "40000/40000 - 59s - loss: 0.6409 - accuracy: 0.7810 - val_loss: 0.7572 - val_accuracy: 0.7498\n",
      "Epoch 6/40\n",
      "\n",
      "Epoch 00006: val_loss improved from 0.75725 to 0.73502, saving model to ../models/aggregated_dilations_weights.hdf5\n",
      "40000/40000 - 59s - loss: 0.5574 - accuracy: 0.8073 - val_loss: 0.7350 - val_accuracy: 0.7632\n",
      "Epoch 7/40\n",
      "\n",
      "Epoch 00007: val_loss did not improve from 0.73502\n",
      "40000/40000 - 57s - loss: 0.4839 - accuracy: 0.8327 - val_loss: 0.7606 - val_accuracy: 0.7597\n",
      "Epoch 8/40\n",
      "\n",
      "Epoch 00008: val_loss improved from 0.73502 to 0.70490, saving model to ../models/aggregated_dilations_weights.hdf5\n",
      "40000/40000 - 59s - loss: 0.4229 - accuracy: 0.8548 - val_loss: 0.7049 - val_accuracy: 0.7728\n",
      "Epoch 9/40\n",
      "\n",
      "Epoch 00009: val_loss improved from 0.70490 to 0.67276, saving model to ../models/aggregated_dilations_weights.hdf5\n",
      "40000/40000 - 59s - loss: 0.3634 - accuracy: 0.8750 - val_loss: 0.6728 - val_accuracy: 0.7879\n",
      "Epoch 10/40\n",
      "\n",
      "Epoch 00010: val_loss did not improve from 0.67276\n",
      "40000/40000 - 57s - loss: 0.3134 - accuracy: 0.8920 - val_loss: 0.6930 - val_accuracy: 0.7848\n",
      "Epoch 11/40\n",
      "\n",
      "Epoch 00011: val_loss did not improve from 0.67276\n",
      "40000/40000 - 57s - loss: 0.2636 - accuracy: 0.9097 - val_loss: 0.7828 - val_accuracy: 0.7823\n",
      "Epoch 12/40\n",
      "\n",
      "Epoch 00012: val_loss did not improve from 0.67276\n",
      "40000/40000 - 57s - loss: 0.2316 - accuracy: 0.9198 - val_loss: 10.6624 - val_accuracy: 0.7833\n",
      "Epoch 13/40\n",
      "\n",
      "Epoch 00013: val_loss did not improve from 0.67276\n",
      "40000/40000 - 57s - loss: 0.1960 - accuracy: 0.9337 - val_loss: 0.7872 - val_accuracy: 0.7932\n",
      "Epoch 14/40\n",
      "\n",
      "Epoch 00014: val_loss did not improve from 0.67276\n",
      "40000/40000 - 57s - loss: 0.1687 - accuracy: 0.9431 - val_loss: 0.9110 - val_accuracy: 0.7846\n",
      "Epoch 15/40\n",
      "\n",
      "Epoch 00015: val_loss did not improve from 0.67276\n",
      "40000/40000 - 57s - loss: 0.1614 - accuracy: 0.9445 - val_loss: 0.8619 - val_accuracy: 0.8016\n",
      "Epoch 16/40\n",
      "\n",
      "Epoch 00016: val_loss did not improve from 0.67276\n",
      "40000/40000 - 57s - loss: 0.1374 - accuracy: 0.9557 - val_loss: 1.0011 - val_accuracy: 0.7980\n",
      "Epoch 17/40\n",
      "\n",
      "Epoch 00017: val_loss did not improve from 0.67276\n",
      "40000/40000 - 57s - loss: 0.1285 - accuracy: 0.9572 - val_loss: 1.0193 - val_accuracy: 0.7910\n",
      "Epoch 18/40\n",
      "\n",
      "Epoch 00018: val_loss did not improve from 0.67276\n",
      "40000/40000 - 57s - loss: 0.1163 - accuracy: 0.9618 - val_loss: 3.7634 - val_accuracy: 0.7767\n",
      "Epoch 19/40\n",
      "\n",
      "Epoch 00019: val_loss did not improve from 0.67276\n",
      "40000/40000 - 57s - loss: 0.1141 - accuracy: 0.9631 - val_loss: 1.1491 - val_accuracy: 0.7983\n",
      "Epoch 20/40\n",
      "\n",
      "Epoch 00020: val_loss did not improve from 0.67276\n",
      "40000/40000 - 57s - loss: 0.1008 - accuracy: 0.9684 - val_loss: 1.1126 - val_accuracy: 0.8026\n",
      "Epoch 21/40\n",
      "\n",
      "Epoch 00021: val_loss did not improve from 0.67276\n",
      "40000/40000 - 57s - loss: 0.0992 - accuracy: 0.9674 - val_loss: 1.6057 - val_accuracy: 0.8007\n",
      "Epoch 22/40\n",
      "\n",
      "Epoch 00022: val_loss did not improve from 0.67276\n",
      "40000/40000 - 58s - loss: 0.0914 - accuracy: 0.9712 - val_loss: 1.0893 - val_accuracy: 0.7945\n",
      "Epoch 23/40\n",
      "\n",
      "Epoch 00023: val_loss did not improve from 0.67276\n",
      "40000/40000 - 57s - loss: 0.0879 - accuracy: 0.9723 - val_loss: 2.3014 - val_accuracy: 0.8013\n",
      "Epoch 24/40\n",
      "\n",
      "Epoch 00024: val_loss did not improve from 0.67276\n",
      "40000/40000 - 57s - loss: 0.0882 - accuracy: 0.9713 - val_loss: 1.2927 - val_accuracy: 0.7893\n"
     ]
    }
   ],
   "source": [
    "es_cb = tf.keras.callbacks.EarlyStopping(monitor='val_loss', patience=15)\n",
    "sm_cb = tf.keras.callbacks.ModelCheckpoint(monitor='val_loss', filepath='../models/aggregated_dilations_weights.hdf5', verbose=1, save_best_only=True)\n",
    "history = model.fit([train_data, train_data, train_data], train_labels, epochs=40, verbose=2, validation_split=0.2, shuffle=True, callbacks=[es_cb, sm_cb])"
   ]
  },
  {
   "cell_type": "code",
   "execution_count": 8,
   "metadata": {},
   "outputs": [
    {
     "data": {
      "text/plain": [
       "<matplotlib.legend.Legend at 0x1d21749c208>"
      ]
     },
     "execution_count": 8,
     "metadata": {},
     "output_type": "execute_result"
    },
    {
     "data": {
      "image/png": "[encoded data removed]",
      "text/plain": [
       "<Figure size 432x288 with 1 Axes>"
      ]
     },
     "metadata": {
      "needs_background": "light"
     },
     "output_type": "display_data"
    }
   ],
   "source": [
    "plt.plot(history.history['loss'])\n",
    "plt.plot(history.history['val_loss'])\n",
    "plt.legend(['train', 'validate'], loc='upper right')"
   ]
  },
  {
   "cell_type": "code",
   "execution_count": 9,
   "metadata": {},
   "outputs": [
    {
     "data": {
      "text/plain": [
       "Text(0, 0.5, 'Loss (Categorical Cross Entropy)')"
      ]
     },
     "execution_count": 9,
     "metadata": {},
     "output_type": "execute_result"
    },
    {
     "data": {
      "image/png": "[encoded data removed]",
      "text/plain": [
       "<Figure size 432x288 with 1 Axes>"
      ]
     },
     "metadata": {
      "needs_background": "light"
     },
     "output_type": "display_data"
    }
   ],
   "source": [
    "plt.plot(history.history['loss'])\n",
    "plt.plot(history.history['val_loss'])\n",
    "plt.legend(['train', 'validate'], loc='upper right')\n",
    "plt.ylim(0, 1.8)\n",
    "plt.grid(True)\n",
    "plt.xlabel('Epoch')\n",
    "plt.ylabel('Loss (Categorical Cross Entropy)')"
   ]
  },
  {
   "cell_type": "code",
   "execution_count": 10,
   "metadata": {},
   "outputs": [
    {
     "data": {
      "text/plain": [
       "[0.6956379708766938, 0.7861]"
      ]
     },
     "execution_count": 10,
     "metadata": {},
     "output_type": "execute_result"
    }
   ],
   "source": [
    "test_labels = np.array(test_labels, dtype='uint8')\n",
    "model.load_weights('../models/aggregated_dilations_weights.hdf5')\n",
    "model.evaluate([test_data,test_data,test_data], test_labels, verbose=0)"
   ]
  },
  {
   "cell_type": "code",
   "execution_count": null,
   "metadata": {},
   "outputs": [],
   "source": []
  }
 ],
 "metadata": {
  "kernelspec": {
   "display_name": "Python 3",
   "language": "python",
   "name": "python3"
  },
  "language_info": {
   "codemirror_mode": {
    "name": "ipython",
    "version": 3
   },
   "file_extension": ".py",
   "mimetype": "text/x-python",
   "name": "python",
   "nbconvert_exporter": "python",
   "pygments_lexer": "ipython3",
   "version": "3.6.8"
  }
 },
 "nbformat": 4,
 "nbformat_minor": 2
}
