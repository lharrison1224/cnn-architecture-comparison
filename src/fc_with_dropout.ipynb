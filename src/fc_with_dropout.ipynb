{
 "cells": [
  {
   "cell_type": "code",
   "execution_count": 1,
   "metadata": {},
   "outputs": [],
   "source": [
    "from load_data import load\n",
    "import numpy as np\n",
    "import tensorflow as tf\n",
    "from tensorflow import keras\n",
    "import matplotlib.pyplot as plt"
   ]
  },
  {
   "cell_type": "code",
   "execution_count": 2,
   "metadata": {},
   "outputs": [],
   "source": [
    "from tensorflow.keras.models import Sequential, load_model\n",
    "from tensorflow.keras.layers import Dense, Conv2D, Flatten, MaxPool2D, Dropout"
   ]
  },
  {
   "cell_type": "code",
   "execution_count": 3,
   "metadata": {},
   "outputs": [],
   "source": [
    "(train_data, train_labels, test_data, test_labels) = load()"
   ]
  },
  {
   "cell_type": "code",
   "execution_count": 4,
   "metadata": {},
   "outputs": [
    {
     "data": {
      "text/plain": [
       "(50000, 32, 32, 3)"
      ]
     },
     "execution_count": 4,
     "metadata": {},
     "output_type": "execute_result"
    }
   ],
   "source": [
    "train_data.shape"
   ]
  },
  {
   "cell_type": "code",
   "execution_count": 5,
   "metadata": {},
   "outputs": [
    {
     "data": {
      "text/plain": [
       "<matplotlib.image.AxesImage at 0x28260949f98>"
      ]
     },
     "execution_count": 5,
     "metadata": {},
     "output_type": "execute_result"
    },
    {
     "data": {
      "image/png": "[encoded data removed]",
      "text/plain": [
       "<Figure size 432x288 with 1 Axes>"
      ]
     },
     "metadata": {
      "needs_background": "light"
     },
     "output_type": "display_data"
    }
   ],
   "source": [
    "plt.imshow(train_data[7])"
   ]
  },
  {
   "cell_type": "code",
   "execution_count": 6,
   "metadata": {},
   "outputs": [],
   "source": [
    "model = Sequential()\n",
    "model.add(Conv2D(16, kernel_size=3, padding='same', activation='relu', input_shape=(32,32,3)))\n",
    "model.add(Conv2D(16, kernel_size=3, padding='same', activation='relu'))\n",
    "model.add(MaxPool2D())\n",
    "model.add(Conv2D(32, kernel_size=3, padding='same', activation='relu'))\n",
    "model.add(Conv2D(32, kernel_size=3, padding='same', activation='relu'))\n",
    "model.add(Conv2D(32, kernel_size=3, padding='same', activation='relu'))\n",
    "model.add(MaxPool2D())\n",
    "model.add(Conv2D(64, kernel_size=3, padding='same', activation='relu'))\n",
    "model.add(Conv2D(64, kernel_size=3, padding='same', activation='relu'))\n",
    "model.add(Conv2D(64, kernel_size=3, padding='same', activation='relu'))\n",
    "model.add(MaxPool2D())"
   ]
  },
  {
   "cell_type": "code",
   "execution_count": 7,
   "metadata": {},
   "outputs": [],
   "source": [
    "model.add(Flatten())\n",
    "model.add(Dropout(0.2))\n",
    "model.add(Dense(1024, activation='relu'))\n",
    "model.add(Dropout(0.2))\n",
    "model.add(Dense(1024, activation='relu'))\n",
    "model.add(Dense(10, activation='softmax'))"
   ]
  },
  {
   "cell_type": "code",
   "execution_count": 8,
   "metadata": {},
   "outputs": [
    {
     "name": "stdout",
     "output_type": "stream",
     "text": [
      "Model: \"sequential\"\n",
      "_________________________________________________________________\n",
      "Layer (type)                 Output Shape              Param #   \n",
      "=================================================================\n",
      "conv2d (Conv2D)              (None, 32, 32, 16)        448       \n",
      "_________________________________________________________________\n",
      "conv2d_1 (Conv2D)            (None, 32, 32, 16)        2320      \n",
      "_________________________________________________________________\n",
      "max_pooling2d (MaxPooling2D) (None, 16, 16, 16)        0         \n",
      "_________________________________________________________________\n",
      "conv2d_2 (Conv2D)            (None, 16, 16, 32)        4640      \n",
      "_________________________________________________________________\n",
      "conv2d_3 (Conv2D)            (None, 16, 16, 32)        9248      \n",
      "_________________________________________________________________\n",
      "conv2d_4 (Conv2D)            (None, 16, 16, 32)        9248      \n",
      "_________________________________________________________________\n",
      "max_pooling2d_1 (MaxPooling2 (None, 8, 8, 32)          0         \n",
      "_________________________________________________________________\n",
      "conv2d_5 (Conv2D)            (None, 8, 8, 64)          18496     \n",
      "_________________________________________________________________\n",
      "conv2d_6 (Conv2D)            (None, 8, 8, 64)          36928     \n",
      "_________________________________________________________________\n",
      "conv2d_7 (Conv2D)            (None, 8, 8, 64)          36928     \n",
      "_________________________________________________________________\n",
      "max_pooling2d_2 (MaxPooling2 (None, 4, 4, 64)          0         \n",
      "_________________________________________________________________\n",
      "flatten (Flatten)            (None, 1024)              0         \n",
      "_________________________________________________________________\n",
      "dropout (Dropout)            (None, 1024)              0         \n",
      "_________________________________________________________________\n",
      "dense (Dense)                (None, 1024)              1049600   \n",
      "_________________________________________________________________\n",
      "dropout_1 (Dropout)          (None, 1024)              0         \n",
      "_________________________________________________________________\n",
      "dense_1 (Dense)              (None, 1024)              1049600   \n",
      "_________________________________________________________________\n",
      "dense_2 (Dense)              (None, 10)                10250     \n",
      "=================================================================\n",
      "Total params: 2,227,706\n",
      "Trainable params: 2,227,706\n",
      "Non-trainable params: 0\n",
      "_________________________________________________________________\n"
     ]
    }
   ],
   "source": [
    "model.summary()"
   ]
  },
  {
   "cell_type": "code",
   "execution_count": 9,
   "metadata": {},
   "outputs": [],
   "source": [
    "model.compile(optimizer='adam', loss='sparse_categorical_crossentropy', metrics=['accuracy'])"
   ]
  },
  {
   "cell_type": "code",
   "execution_count": 10,
   "metadata": {
    "scrolled": true
   },
   "outputs": [
    {
     "name": "stdout",
     "output_type": "stream",
     "text": [
      "Train on 40000 samples, validate on 10000 samples\n",
      "Epoch 1/1000\n",
      "\n",
      "Epoch 00001: val_loss improved from inf to 1.46684, saving model to ../checkpoints/fc_with_dropout.hdf5\n",
      "40000/40000 - 11s - loss: 1.7292 - accuracy: 0.3669 - val_loss: 1.4668 - val_accuracy: 0.4589\n",
      "Epoch 2/1000\n",
      "\n",
      "Epoch 00002: val_loss improved from 1.46684 to 1.33551, saving model to ../checkpoints/fc_with_dropout.hdf5\n",
      "40000/40000 - 8s - loss: 1.3924 - accuracy: 0.4954 - val_loss: 1.3355 - val_accuracy: 0.5224\n",
      "Epoch 3/1000\n",
      "\n",
      "Epoch 00003: val_loss improved from 1.33551 to 1.27279, saving model to ../checkpoints/fc_with_dropout.hdf5\n",
      "40000/40000 - 8s - loss: 1.2498 - accuracy: 0.5530 - val_loss: 1.2728 - val_accuracy: 0.5350\n",
      "Epoch 4/1000\n",
      "\n",
      "Epoch 00004: val_loss improved from 1.27279 to 1.10035, saving model to ../checkpoints/fc_with_dropout.hdf5\n",
      "40000/40000 - 8s - loss: 1.1571 - accuracy: 0.5895 - val_loss: 1.1003 - val_accuracy: 0.6084\n",
      "Epoch 5/1000\n",
      "\n",
      "Epoch 00005: val_loss did not improve from 1.10035\n",
      "40000/40000 - 8s - loss: 1.0876 - accuracy: 0.6158 - val_loss: 1.1454 - val_accuracy: 0.5949\n",
      "Epoch 6/1000\n",
      "\n",
      "Epoch 00006: val_loss improved from 1.10035 to 1.08366, saving model to ../checkpoints/fc_with_dropout.hdf5\n",
      "40000/40000 - 8s - loss: 1.0303 - accuracy: 0.6358 - val_loss: 1.0837 - val_accuracy: 0.6176\n",
      "Epoch 7/1000\n",
      "\n",
      "Epoch 00007: val_loss did not improve from 1.08366\n",
      "40000/40000 - 8s - loss: 0.9870 - accuracy: 0.6542 - val_loss: 1.1562 - val_accuracy: 0.6015\n",
      "Epoch 8/1000\n",
      "\n",
      "Epoch 00008: val_loss improved from 1.08366 to 0.99958, saving model to ../checkpoints/fc_with_dropout.hdf5\n",
      "40000/40000 - 8s - loss: 0.9471 - accuracy: 0.6643 - val_loss: 0.9996 - val_accuracy: 0.6529\n",
      "Epoch 9/1000\n",
      "\n",
      "Epoch 00009: val_loss did not improve from 0.99958\n",
      "40000/40000 - 8s - loss: 0.9246 - accuracy: 0.6734 - val_loss: 1.0128 - val_accuracy: 0.6528\n",
      "Epoch 10/1000\n",
      "\n",
      "Epoch 00010: val_loss improved from 0.99958 to 0.94970, saving model to ../checkpoints/fc_with_dropout.hdf5\n",
      "40000/40000 - 8s - loss: 0.8932 - accuracy: 0.6853 - val_loss: 0.9497 - val_accuracy: 0.6720\n",
      "Epoch 11/1000\n",
      "\n",
      "Epoch 00011: val_loss did not improve from 0.94970\n",
      "40000/40000 - 8s - loss: 0.8633 - accuracy: 0.6944 - val_loss: 0.9943 - val_accuracy: 0.6527\n",
      "Epoch 12/1000\n",
      "\n",
      "Epoch 00012: val_loss did not improve from 0.94970\n",
      "40000/40000 - 8s - loss: 0.8479 - accuracy: 0.7003 - val_loss: 0.9832 - val_accuracy: 0.6607\n",
      "Epoch 13/1000\n",
      "\n",
      "Epoch 00013: val_loss did not improve from 0.94970\n",
      "40000/40000 - 8s - loss: 0.8433 - accuracy: 0.7029 - val_loss: 1.0400 - val_accuracy: 0.6426\n",
      "Epoch 14/1000\n",
      "\n",
      "Epoch 00014: val_loss did not improve from 0.94970\n",
      "40000/40000 - 8s - loss: 0.8367 - accuracy: 0.7059 - val_loss: 1.0021 - val_accuracy: 0.6546\n",
      "Epoch 15/1000\n",
      "\n",
      "Epoch 00015: val_loss did not improve from 0.94970\n",
      "40000/40000 - 8s - loss: 0.8165 - accuracy: 0.7119 - val_loss: 0.9514 - val_accuracy: 0.6697\n",
      "Epoch 16/1000\n",
      "\n",
      "Epoch 00016: val_loss did not improve from 0.94970\n",
      "40000/40000 - 8s - loss: 0.8144 - accuracy: 0.7145 - val_loss: 0.9582 - val_accuracy: 0.6735\n",
      "Epoch 17/1000\n",
      "\n",
      "Epoch 00017: val_loss improved from 0.94970 to 0.93949, saving model to ../checkpoints/fc_with_dropout.hdf5\n",
      "40000/40000 - 8s - loss: 0.7840 - accuracy: 0.7229 - val_loss: 0.9395 - val_accuracy: 0.6765\n",
      "Epoch 18/1000\n",
      "\n",
      "Epoch 00018: val_loss did not improve from 0.93949\n",
      "40000/40000 - 8s - loss: 0.7781 - accuracy: 0.7285 - val_loss: 1.0211 - val_accuracy: 0.6541\n",
      "Epoch 19/1000\n",
      "\n",
      "Epoch 00019: val_loss improved from 0.93949 to 0.92333, saving model to ../checkpoints/fc_with_dropout.hdf5\n",
      "40000/40000 - 8s - loss: 0.7720 - accuracy: 0.7304 - val_loss: 0.9233 - val_accuracy: 0.6878\n",
      "Epoch 20/1000\n",
      "\n",
      "Epoch 00020: val_loss did not improve from 0.92333\n",
      "40000/40000 - 8s - loss: 0.7547 - accuracy: 0.7337 - val_loss: 0.9360 - val_accuracy: 0.6804\n",
      "Epoch 21/1000\n",
      "\n",
      "Epoch 00021: val_loss improved from 0.92333 to 0.91800, saving model to ../checkpoints/fc_with_dropout.hdf5\n",
      "40000/40000 - 8s - loss: 0.7481 - accuracy: 0.7411 - val_loss: 0.9180 - val_accuracy: 0.6830\n",
      "Epoch 22/1000\n",
      "\n",
      "Epoch 00022: val_loss improved from 0.91800 to 0.90314, saving model to ../checkpoints/fc_with_dropout.hdf5\n",
      "40000/40000 - 8s - loss: 0.7414 - accuracy: 0.7423 - val_loss: 0.9031 - val_accuracy: 0.6925\n",
      "Epoch 23/1000\n",
      "\n",
      "Epoch 00023: val_loss did not improve from 0.90314\n",
      "40000/40000 - 8s - loss: 0.7321 - accuracy: 0.7439 - val_loss: 0.9159 - val_accuracy: 0.6897\n",
      "Epoch 24/1000\n",
      "\n",
      "Epoch 00024: val_loss did not improve from 0.90314\n",
      "40000/40000 - 8s - loss: 0.7301 - accuracy: 0.7448 - val_loss: 0.9491 - val_accuracy: 0.6768\n",
      "Epoch 25/1000\n",
      "\n",
      "Epoch 00025: val_loss did not improve from 0.90314\n",
      "40000/40000 - 8s - loss: 0.7148 - accuracy: 0.7521 - val_loss: 0.9568 - val_accuracy: 0.6871\n",
      "Epoch 26/1000\n",
      "\n",
      "Epoch 00026: val_loss improved from 0.90314 to 0.89826, saving model to ../checkpoints/fc_with_dropout.hdf5\n",
      "40000/40000 - 8s - loss: 0.6877 - accuracy: 0.7594 - val_loss: 0.8983 - val_accuracy: 0.6966\n",
      "Epoch 27/1000\n",
      "\n",
      "Epoch 00027: val_loss did not improve from 0.89826\n",
      "40000/40000 - 8s - loss: 0.6926 - accuracy: 0.7600 - val_loss: 0.9159 - val_accuracy: 0.6938\n",
      "Epoch 28/1000\n",
      "\n",
      "Epoch 00028: val_loss did not improve from 0.89826\n",
      "40000/40000 - 8s - loss: 0.6789 - accuracy: 0.7629 - val_loss: 0.9256 - val_accuracy: 0.6918\n",
      "Epoch 29/1000\n",
      "\n",
      "Epoch 00029: val_loss improved from 0.89826 to 0.88670, saving model to ../checkpoints/fc_with_dropout.hdf5\n",
      "40000/40000 - 8s - loss: 0.6647 - accuracy: 0.7694 - val_loss: 0.8867 - val_accuracy: 0.7010\n",
      "Epoch 30/1000\n",
      "\n",
      "Epoch 00030: val_loss did not improve from 0.88670\n",
      "40000/40000 - 8s - loss: 0.6368 - accuracy: 0.7789 - val_loss: 0.9130 - val_accuracy: 0.6978\n",
      "Epoch 31/1000\n",
      "\n",
      "Epoch 00031: val_loss did not improve from 0.88670\n",
      "40000/40000 - 8s - loss: 0.6369 - accuracy: 0.7831 - val_loss: 0.9230 - val_accuracy: 0.6987\n",
      "Epoch 32/1000\n",
      "\n",
      "Epoch 00032: val_loss did not improve from 0.88670\n",
      "40000/40000 - 8s - loss: 0.6415 - accuracy: 0.7772 - val_loss: 0.9263 - val_accuracy: 0.6921\n",
      "Epoch 33/1000\n",
      "\n",
      "Epoch 00033: val_loss did not improve from 0.88670\n",
      "40000/40000 - 8s - loss: 0.6303 - accuracy: 0.7837 - val_loss: 0.9372 - val_accuracy: 0.6931\n",
      "Epoch 34/1000\n",
      "\n",
      "Epoch 00034: val_loss did not improve from 0.88670\n",
      "40000/40000 - 8s - loss: 0.6443 - accuracy: 0.7791 - val_loss: 0.9275 - val_accuracy: 0.7052\n",
      "Epoch 35/1000\n",
      "\n",
      "Epoch 00035: val_loss did not improve from 0.88670\n",
      "40000/40000 - 8s - loss: 0.6126 - accuracy: 0.7900 - val_loss: 0.9184 - val_accuracy: 0.7005\n",
      "Epoch 36/1000\n",
      "\n",
      "Epoch 00036: val_loss did not improve from 0.88670\n",
      "40000/40000 - 8s - loss: 0.6212 - accuracy: 0.7875 - val_loss: 0.9290 - val_accuracy: 0.6931\n",
      "Epoch 37/1000\n",
      "\n",
      "Epoch 00037: val_loss did not improve from 0.88670\n",
      "40000/40000 - 8s - loss: 0.6072 - accuracy: 0.7914 - val_loss: 0.9385 - val_accuracy: 0.6994\n",
      "Epoch 38/1000\n",
      "\n",
      "Epoch 00038: val_loss did not improve from 0.88670\n",
      "40000/40000 - 8s - loss: 0.6014 - accuracy: 0.7927 - val_loss: 0.9218 - val_accuracy: 0.7041\n",
      "Epoch 39/1000\n",
      "\n",
      "Epoch 00039: val_loss did not improve from 0.88670\n",
      "40000/40000 - 8s - loss: 0.6016 - accuracy: 0.7978 - val_loss: 0.9656 - val_accuracy: 0.6880\n",
      "Epoch 40/1000\n",
      "\n",
      "Epoch 00040: val_loss did not improve from 0.88670\n",
      "40000/40000 - 8s - loss: 0.5910 - accuracy: 0.7986 - val_loss: 0.9542 - val_accuracy: 0.6912\n",
      "Epoch 41/1000\n",
      "\n",
      "Epoch 00041: val_loss did not improve from 0.88670\n",
      "40000/40000 - 8s - loss: 0.5900 - accuracy: 0.8014 - val_loss: 0.9195 - val_accuracy: 0.7051\n",
      "Epoch 42/1000\n",
      "\n",
      "Epoch 00042: val_loss did not improve from 0.88670\n",
      "40000/40000 - 8s - loss: 0.5738 - accuracy: 0.8050 - val_loss: 0.9292 - val_accuracy: 0.7037\n",
      "Epoch 43/1000\n",
      "\n",
      "Epoch 00043: val_loss did not improve from 0.88670\n",
      "40000/40000 - 8s - loss: 0.5884 - accuracy: 0.8002 - val_loss: 0.9764 - val_accuracy: 0.6850\n",
      "Epoch 44/1000\n",
      "\n",
      "Epoch 00044: val_loss did not improve from 0.88670\n",
      "40000/40000 - 8s - loss: 0.5703 - accuracy: 0.8057 - val_loss: 0.9593 - val_accuracy: 0.7100\n"
     ]
    }
   ],
   "source": [
    "es_cb = tf.keras.callbacks.EarlyStopping(monitor='val_loss', patience=15)\n",
    "sm_cb = tf.keras.callbacks.ModelCheckpoint(monitor='val_loss', filepath='../checkpoints/fc_with_dropout.hdf5', verbose=1, save_best_only=True)\n",
    "history = model.fit(train_data, train_labels, verbose=2, epochs=1000, validation_split=0.2, shuffle=True, callbacks=[es_cb, sm_cb])"
   ]
  },
  {
   "cell_type": "code",
   "execution_count": 11,
   "metadata": {},
   "outputs": [
    {
     "data": {
      "text/plain": [
       "Text(0, 0.5, 'Loss (Categorical Cross Entropy)')"
      ]
     },
     "execution_count": 11,
     "metadata": {},
     "output_type": "execute_result"
    },
    {
     "data": {
      "image/png": "[encoded data removed]",
      "text/plain": [
       "<Figure size 432x288 with 1 Axes>"
      ]
     },
     "metadata": {
      "needs_background": "light"
     },
     "output_type": "display_data"
    }
   ],
   "source": [
    "plt.plot(history.history['loss'])\n",
    "plt.plot(history.history['val_loss'])\n",
    "plt.legend(['train', 'validate'], loc='upper right')\n",
    "plt.ylim(0, 1.8)\n",
    "plt.grid(True)\n",
    "plt.xlabel('Epoch')\n",
    "plt.ylabel('Loss (Categorical Cross Entropy)')"
   ]
  },
  {
   "cell_type": "code",
   "execution_count": 12,
   "metadata": {},
   "outputs": [
    {
     "data": {
      "text/plain": [
       "[0.9270884665489196, 0.6973]"
      ]
     },
     "execution_count": 12,
     "metadata": {},
     "output_type": "execute_result"
    }
   ],
   "source": [
    "test_labels = np.array(test_labels, dtype='uint8')\n",
    "model.load_weights('../checkpoints/fc_with_dropout.hdf5')\n",
    "model.evaluate(test_data, test_labels, verbose=0)"
   ]
  }
 ],
 "metadata": {
  "kernelspec": {
   "display_name": "Python 3",
   "language": "python",
   "name": "python3"
  },
  "language_info": {
   "codemirror_mode": {
    "name": "ipython",
    "version": 3
   },
   "file_extension": ".py",
   "mimetype": "text/x-python",
   "name": "python",
   "nbconvert_exporter": "python",
   "pygments_lexer": "ipython3",
   "version": "3.5.4"
  }
 },
 "nbformat": 4,
 "nbformat_minor": 2
}
