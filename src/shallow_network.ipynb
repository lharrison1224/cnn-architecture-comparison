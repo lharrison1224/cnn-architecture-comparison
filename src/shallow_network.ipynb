{
 "cells": [
  {
   "cell_type": "code",
   "execution_count": 1,
   "metadata": {
    "scrolled": false
   },
   "outputs": [],
   "source": [
    "from load_data import load\n",
    "import numpy as np\n",
    "import tensorflow as tf\n",
    "from tensorflow import keras\n",
    "import matplotlib.pyplot as plt"
   ]
  },
  {
   "cell_type": "code",
   "execution_count": 2,
   "metadata": {
    "scrolled": false
   },
   "outputs": [],
   "source": [
    "from tensorflow.keras.models import Sequential, load_model\n",
    "from tensorflow.keras.layers import Dense, Conv2D, Flatten, MaxPool2D"
   ]
  },
  {
   "cell_type": "code",
   "execution_count": 3,
   "metadata": {
    "scrolled": false
   },
   "outputs": [],
   "source": [
    "(train_data, train_labels, test_data, test_labels) = load()"
   ]
  },
  {
   "cell_type": "code",
   "execution_count": 4,
   "metadata": {
    "scrolled": false
   },
   "outputs": [
    {
     "data": {
      "text/plain": [
       "(50000, 32, 32, 3)"
      ]
     },
     "execution_count": 4,
     "metadata": {},
     "output_type": "execute_result"
    }
   ],
   "source": [
    "train_data.shape"
   ]
  },
  {
   "cell_type": "code",
   "execution_count": 5,
   "metadata": {
    "scrolled": false
   },
   "outputs": [
    {
     "data": {
      "text/plain": [
       "<matplotlib.image.AxesImage at 0x2185c2d6c88>"
      ]
     },
     "execution_count": 5,
     "metadata": {},
     "output_type": "execute_result"
    },
    {
     "data": {
      "image/png": "[encoded data removed]",
      "text/plain": [
       "<Figure size 432x288 with 1 Axes>"
      ]
     },
     "metadata": {
      "needs_background": "light"
     },
     "output_type": "display_data"
    }
   ],
   "source": [
    "plt.imshow(train_data[7])"
   ]
  },
  {
   "cell_type": "code",
   "execution_count": 6,
   "metadata": {
    "scrolled": false
   },
   "outputs": [],
   "source": [
    "model = Sequential()\n",
    "model.add(Conv2D(8, kernel_size=3, padding='same', activation='relu', input_shape=(32,32,3)))\n",
    "model.add(Conv2D(8, kernel_size=3, padding='same', activation='relu'))\n",
    "model.add(MaxPool2D())\n",
    "model.add(Conv2D(16, kernel_size=3, padding='same', activation='relu'))\n",
    "model.add(Conv2D(16, kernel_size=3, padding='same', activation='relu'))\n",
    "model.add(MaxPool2D())"
   ]
  },
  {
   "cell_type": "code",
   "execution_count": 7,
   "metadata": {
    "scrolled": false
   },
   "outputs": [],
   "source": [
    "model.add(Flatten())\n",
    "model.add(Dense(10, activation='softmax'))"
   ]
  },
  {
   "cell_type": "code",
   "execution_count": 8,
   "metadata": {
    "scrolled": false
   },
   "outputs": [
    {
     "name": "stdout",
     "output_type": "stream",
     "text": [
      "Model: \"sequential\"\n",
      "_________________________________________________________________\n",
      "Layer (type)                 Output Shape              Param #   \n",
      "=================================================================\n",
      "conv2d (Conv2D)              (None, 32, 32, 8)         224       \n",
      "_________________________________________________________________\n",
      "conv2d_1 (Conv2D)            (None, 32, 32, 8)         584       \n",
      "_________________________________________________________________\n",
      "max_pooling2d (MaxPooling2D) (None, 16, 16, 8)         0         \n",
      "_________________________________________________________________\n",
      "conv2d_2 (Conv2D)            (None, 16, 16, 16)        1168      \n",
      "_________________________________________________________________\n",
      "conv2d_3 (Conv2D)            (None, 16, 16, 16)        2320      \n",
      "_________________________________________________________________\n",
      "max_pooling2d_1 (MaxPooling2 (None, 8, 8, 16)          0         \n",
      "_________________________________________________________________\n",
      "flatten (Flatten)            (None, 1024)              0         \n",
      "_________________________________________________________________\n",
      "dense (Dense)                (None, 10)                10250     \n",
      "=================================================================\n",
      "Total params: 14,546\n",
      "Trainable params: 14,546\n",
      "Non-trainable params: 0\n",
      "_________________________________________________________________\n"
     ]
    }
   ],
   "source": [
    "model.summary()"
   ]
  },
  {
   "cell_type": "code",
   "execution_count": 9,
   "metadata": {
    "scrolled": false
   },
   "outputs": [],
   "source": [
    "model.compile(optimizer='adam', loss='sparse_categorical_crossentropy', metrics=['accuracy'])"
   ]
  },
  {
   "cell_type": "code",
   "execution_count": 10,
   "metadata": {
    "scrolled": true
   },
   "outputs": [
    {
     "name": "stdout",
     "output_type": "stream",
     "text": [
      "Train on 40000 samples, validate on 10000 samples\n",
      "Epoch 1/1000\n",
      "\n",
      "Epoch 00001: val_loss improved from inf to 1.64593, saving model to ../checkpoints/shallow_network.hdf5\n",
      "40000/40000 - 8s - loss: 2.0640 - accuracy: 0.3242 - val_loss: 1.6459 - val_accuracy: 0.3986\n",
      "Epoch 2/1000\n",
      "\n",
      "Epoch 00002: val_loss improved from 1.64593 to 1.45694, saving model to ../checkpoints/shallow_network.hdf5\n",
      "40000/40000 - 6s - loss: 1.5242 - accuracy: 0.4525 - val_loss: 1.4569 - val_accuracy: 0.4827\n",
      "Epoch 3/1000\n",
      "\n",
      "Epoch 00003: val_loss improved from 1.45694 to 1.35625, saving model to ../checkpoints/shallow_network.hdf5\n",
      "40000/40000 - 6s - loss: 1.3653 - accuracy: 0.5157 - val_loss: 1.3562 - val_accuracy: 0.5300\n",
      "Epoch 4/1000\n",
      "\n",
      "Epoch 00004: val_loss improved from 1.35625 to 1.33558, saving model to ../checkpoints/shallow_network.hdf5\n",
      "40000/40000 - 6s - loss: 1.2605 - accuracy: 0.5583 - val_loss: 1.3356 - val_accuracy: 0.5257\n",
      "Epoch 5/1000\n",
      "\n",
      "Epoch 00005: val_loss improved from 1.33558 to 1.22765, saving model to ../checkpoints/shallow_network.hdf5\n",
      "40000/40000 - 6s - loss: 1.1836 - accuracy: 0.5838 - val_loss: 1.2277 - val_accuracy: 0.5661\n",
      "Epoch 6/1000\n",
      "\n",
      "Epoch 00006: val_loss improved from 1.22765 to 1.17686, saving model to ../checkpoints/shallow_network.hdf5\n",
      "40000/40000 - 6s - loss: 1.1261 - accuracy: 0.6073 - val_loss: 1.1769 - val_accuracy: 0.5886\n",
      "Epoch 7/1000\n",
      "\n",
      "Epoch 00007: val_loss improved from 1.17686 to 1.14512, saving model to ../checkpoints/shallow_network.hdf5\n",
      "40000/40000 - 6s - loss: 1.0756 - accuracy: 0.6237 - val_loss: 1.1451 - val_accuracy: 0.6041\n",
      "Epoch 8/1000\n",
      "\n",
      "Epoch 00008: val_loss did not improve from 1.14512\n",
      "40000/40000 - 6s - loss: 1.0367 - accuracy: 0.6378 - val_loss: 1.1539 - val_accuracy: 0.5993\n",
      "Epoch 9/1000\n",
      "\n",
      "Epoch 00009: val_loss improved from 1.14512 to 1.11749, saving model to ../checkpoints/shallow_network.hdf5\n",
      "40000/40000 - 6s - loss: 1.0007 - accuracy: 0.6495 - val_loss: 1.1175 - val_accuracy: 0.6133\n",
      "Epoch 10/1000\n",
      "\n",
      "Epoch 00010: val_loss improved from 1.11749 to 1.10944, saving model to ../checkpoints/shallow_network.hdf5\n",
      "40000/40000 - 6s - loss: 0.9806 - accuracy: 0.6578 - val_loss: 1.1094 - val_accuracy: 0.6143\n",
      "Epoch 11/1000\n",
      "\n",
      "Epoch 00011: val_loss did not improve from 1.10944\n",
      "40000/40000 - 6s - loss: 0.9582 - accuracy: 0.6653 - val_loss: 1.1503 - val_accuracy: 0.6116\n",
      "Epoch 12/1000\n",
      "\n",
      "Epoch 00012: val_loss did not improve from 1.10944\n",
      "40000/40000 - 6s - loss: 0.9384 - accuracy: 0.6712 - val_loss: 1.1360 - val_accuracy: 0.6208\n",
      "Epoch 13/1000\n",
      "\n",
      "Epoch 00013: val_loss did not improve from 1.10944\n",
      "40000/40000 - 6s - loss: 0.9311 - accuracy: 0.6740 - val_loss: 1.1285 - val_accuracy: 0.6221\n",
      "Epoch 14/1000\n",
      "\n",
      "Epoch 00014: val_loss improved from 1.10944 to 1.08424, saving model to ../checkpoints/shallow_network.hdf5\n",
      "40000/40000 - 6s - loss: 0.9136 - accuracy: 0.6803 - val_loss: 1.0842 - val_accuracy: 0.6289\n",
      "Epoch 15/1000\n",
      "\n",
      "Epoch 00015: val_loss did not improve from 1.08424\n",
      "40000/40000 - 6s - loss: 0.9042 - accuracy: 0.6840 - val_loss: 1.1385 - val_accuracy: 0.6086\n",
      "Epoch 16/1000\n",
      "\n",
      "Epoch 00016: val_loss did not improve from 1.08424\n",
      "40000/40000 - 6s - loss: 0.8995 - accuracy: 0.6868 - val_loss: 1.1378 - val_accuracy: 0.6147\n",
      "Epoch 17/1000\n",
      "\n",
      "Epoch 00017: val_loss improved from 1.08424 to 1.07529, saving model to ../checkpoints/shallow_network.hdf5\n",
      "40000/40000 - 6s - loss: 0.8916 - accuracy: 0.6902 - val_loss: 1.0753 - val_accuracy: 0.6318\n",
      "Epoch 18/1000\n",
      "\n",
      "Epoch 00018: val_loss did not improve from 1.07529\n",
      "40000/40000 - 6s - loss: 0.8798 - accuracy: 0.6937 - val_loss: 1.1230 - val_accuracy: 0.6271\n",
      "Epoch 19/1000\n",
      "\n",
      "Epoch 00019: val_loss did not improve from 1.07529\n",
      "40000/40000 - 6s - loss: 0.8718 - accuracy: 0.6929 - val_loss: 1.1209 - val_accuracy: 0.6225\n",
      "Epoch 20/1000\n",
      "\n",
      "Epoch 00020: val_loss did not improve from 1.07529\n",
      "40000/40000 - 6s - loss: 0.8674 - accuracy: 0.6961 - val_loss: 1.1596 - val_accuracy: 0.6122\n",
      "Epoch 21/1000\n",
      "\n",
      "Epoch 00021: val_loss did not improve from 1.07529\n",
      "40000/40000 - 6s - loss: 0.8648 - accuracy: 0.6984 - val_loss: 1.1502 - val_accuracy: 0.6154\n",
      "Epoch 22/1000\n",
      "\n",
      "Epoch 00022: val_loss did not improve from 1.07529\n",
      "40000/40000 - 6s - loss: 0.8602 - accuracy: 0.6999 - val_loss: 1.1321 - val_accuracy: 0.6157\n",
      "Epoch 23/1000\n",
      "\n",
      "Epoch 00023: val_loss did not improve from 1.07529\n",
      "40000/40000 - 6s - loss: 0.8563 - accuracy: 0.7017 - val_loss: 1.1272 - val_accuracy: 0.6198\n",
      "Epoch 24/1000\n",
      "\n",
      "Epoch 00024: val_loss did not improve from 1.07529\n",
      "40000/40000 - 6s - loss: 0.8538 - accuracy: 0.7005 - val_loss: 1.1019 - val_accuracy: 0.6263\n",
      "Epoch 25/1000\n",
      "\n",
      "Epoch 00025: val_loss did not improve from 1.07529\n",
      "40000/40000 - 6s - loss: 0.8491 - accuracy: 0.7031 - val_loss: 1.1392 - val_accuracy: 0.6167\n",
      "Epoch 26/1000\n",
      "\n",
      "Epoch 00026: val_loss did not improve from 1.07529\n",
      "40000/40000 - 6s - loss: 0.8495 - accuracy: 0.7043 - val_loss: 1.0884 - val_accuracy: 0.6368\n",
      "Epoch 27/1000\n",
      "\n",
      "Epoch 00027: val_loss did not improve from 1.07529\n",
      "40000/40000 - 6s - loss: 0.8416 - accuracy: 0.7081 - val_loss: 1.0982 - val_accuracy: 0.6342\n",
      "Epoch 28/1000\n",
      "\n",
      "Epoch 00028: val_loss did not improve from 1.07529\n",
      "40000/40000 - 6s - loss: 0.8388 - accuracy: 0.7070 - val_loss: 1.1260 - val_accuracy: 0.6336\n",
      "Epoch 29/1000\n",
      "\n",
      "Epoch 00029: val_loss did not improve from 1.07529\n",
      "40000/40000 - 6s - loss: 0.8359 - accuracy: 0.7081 - val_loss: 1.1259 - val_accuracy: 0.6183\n",
      "Epoch 30/1000\n",
      "\n",
      "Epoch 00030: val_loss improved from 1.07529 to 1.07373, saving model to ../checkpoints/shallow_network.hdf5\n",
      "40000/40000 - 6s - loss: 0.8350 - accuracy: 0.7068 - val_loss: 1.0737 - val_accuracy: 0.6366\n",
      "Epoch 31/1000\n",
      "\n",
      "Epoch 00031: val_loss did not improve from 1.07373\n",
      "40000/40000 - 6s - loss: 0.8321 - accuracy: 0.7066 - val_loss: 1.1372 - val_accuracy: 0.6227\n",
      "Epoch 32/1000\n",
      "\n",
      "Epoch 00032: val_loss did not improve from 1.07373\n",
      "40000/40000 - 6s - loss: 0.8301 - accuracy: 0.7095 - val_loss: 1.1207 - val_accuracy: 0.6190\n",
      "Epoch 33/1000\n",
      "\n",
      "Epoch 00033: val_loss did not improve from 1.07373\n",
      "40000/40000 - 6s - loss: 0.8295 - accuracy: 0.7111 - val_loss: 1.1606 - val_accuracy: 0.6194\n",
      "Epoch 34/1000\n",
      "\n",
      "Epoch 00034: val_loss did not improve from 1.07373\n",
      "40000/40000 - 6s - loss: 0.8223 - accuracy: 0.7115 - val_loss: 1.0932 - val_accuracy: 0.6345\n",
      "Epoch 35/1000\n",
      "\n",
      "Epoch 00035: val_loss did not improve from 1.07373\n",
      "40000/40000 - 6s - loss: 0.8290 - accuracy: 0.7087 - val_loss: 1.1465 - val_accuracy: 0.6235\n",
      "Epoch 36/1000\n",
      "\n",
      "Epoch 00036: val_loss did not improve from 1.07373\n",
      "40000/40000 - 6s - loss: 0.8226 - accuracy: 0.7124 - val_loss: 1.0764 - val_accuracy: 0.6366\n",
      "Epoch 37/1000\n",
      "\n",
      "Epoch 00037: val_loss did not improve from 1.07373\n",
      "40000/40000 - 6s - loss: 0.8229 - accuracy: 0.7092 - val_loss: 1.1271 - val_accuracy: 0.6305\n",
      "Epoch 38/1000\n",
      "\n",
      "Epoch 00038: val_loss did not improve from 1.07373\n",
      "40000/40000 - 6s - loss: 0.8248 - accuracy: 0.7085 - val_loss: 1.0805 - val_accuracy: 0.6409\n",
      "Epoch 39/1000\n",
      "\n",
      "Epoch 00039: val_loss did not improve from 1.07373\n",
      "40000/40000 - 6s - loss: 0.8115 - accuracy: 0.7156 - val_loss: 1.0926 - val_accuracy: 0.6367\n",
      "Epoch 40/1000\n",
      "\n",
      "Epoch 00040: val_loss did not improve from 1.07373\n",
      "40000/40000 - 6s - loss: 0.8029 - accuracy: 0.7188 - val_loss: 1.0840 - val_accuracy: 0.6315\n",
      "Epoch 41/1000\n",
      "\n",
      "Epoch 00041: val_loss did not improve from 1.07373\n",
      "40000/40000 - 6s - loss: 0.8129 - accuracy: 0.7165 - val_loss: 1.0946 - val_accuracy: 0.6383\n",
      "Epoch 42/1000\n",
      "\n",
      "Epoch 00042: val_loss did not improve from 1.07373\n",
      "40000/40000 - 6s - loss: 0.8064 - accuracy: 0.7128 - val_loss: 1.1144 - val_accuracy: 0.6393\n",
      "Epoch 43/1000\n",
      "\n",
      "Epoch 00043: val_loss did not improve from 1.07373\n",
      "40000/40000 - 6s - loss: 0.8120 - accuracy: 0.7142 - val_loss: 1.1294 - val_accuracy: 0.6231\n",
      "Epoch 44/1000\n",
      "\n",
      "Epoch 00044: val_loss did not improve from 1.07373\n",
      "40000/40000 - 6s - loss: 0.8082 - accuracy: 0.7163 - val_loss: 1.1066 - val_accuracy: 0.6320\n",
      "Epoch 45/1000\n",
      "\n",
      "Epoch 00045: val_loss did not improve from 1.07373\n",
      "40000/40000 - 6s - loss: 0.7979 - accuracy: 0.7210 - val_loss: 1.1189 - val_accuracy: 0.6346\n"
     ]
    }
   ],
   "source": [
    "es_cb = tf.keras.callbacks.EarlyStopping(monitor='val_loss', patience=15)\n",
    "sm_cb = tf.keras.callbacks.ModelCheckpoint(monitor='val_loss', filepath='../checkpoints/shallow_network.hdf5', verbose=1, save_best_only=True)\n",
    "history = model.fit(train_data, train_labels, verbose=2, epochs=1000, validation_split=0.2, shuffle=True, callbacks=[es_cb, sm_cb])"
   ]
  },
  {
   "cell_type": "code",
   "execution_count": 11,
   "metadata": {
    "scrolled": false
   },
   "outputs": [
    {
     "data": {
      "text/plain": [
       "<matplotlib.legend.Legend at 0x219f0bdd4e0>"
      ]
     },
     "execution_count": 11,
     "metadata": {},
     "output_type": "execute_result"
    },
    {
     "data": {
      "image/png": "[encoded data removed]",
      "text/plain": [
       "<Figure size 432x288 with 1 Axes>"
      ]
     },
     "metadata": {
      "needs_background": "light"
     },
     "output_type": "display_data"
    }
   ],
   "source": [
    "plt.plot(history.history['loss'])\n",
    "plt.plot(history.history['val_loss'])\n",
    "plt.legend(['train', 'validate'], loc='upper right')"
   ]
  },
  {
   "cell_type": "code",
   "execution_count": 12,
   "metadata": {
    "scrolled": false
   },
   "outputs": [
    {
     "data": {
      "text/plain": [
       "[1.0746202686309814, 0.6337]"
      ]
     },
     "execution_count": 12,
     "metadata": {},
     "output_type": "execute_result"
    }
   ],
   "source": [
    "test_labels = np.array(test_labels, dtype='uint8')\n",
    "model.load_weights('../checkpoints/shallow_network.hdf5')\n",
    "model.evaluate(test_data, test_labels, verbose=0)"
   ]
  }
 ],
 "metadata": {
  "kernelspec": {
   "display_name": "Python 3",
   "language": "python",
   "name": "python3"
  },
  "language_info": {
   "codemirror_mode": {
    "name": "ipython",
    "version": 3
   },
   "file_extension": ".py",
   "mimetype": "text/x-python",
   "name": "python",
   "nbconvert_exporter": "python",
   "pygments_lexer": "ipython3",
   "version": "3.5.4"
  }
 },
 "nbformat": 4,
 "nbformat_minor": 2
}
