{
 "cells": [
  {
   "cell_type": "code",
   "execution_count": 1,
   "metadata": {},
   "outputs": [],
   "source": [
    "from load_data import load\n",
    "import numpy as np\n",
    "import tensorflow as tf\n",
    "from tensorflow import keras\n",
    "import matplotlib.pyplot as plt"
   ]
  },
  {
   "cell_type": "code",
   "execution_count": 2,
   "metadata": {},
   "outputs": [],
   "source": [
    "from tensorflow.keras.models import Sequential, load_model\n",
    "from tensorflow.keras.layers import Dense, Conv2D, Flatten, MaxPool2D, Dropout, BatchNormalization"
   ]
  },
  {
   "cell_type": "code",
   "execution_count": 3,
   "metadata": {},
   "outputs": [],
   "source": [
    "(train_data, train_labels, test_data, test_labels) = load()"
   ]
  },
  {
   "cell_type": "code",
   "execution_count": 4,
   "metadata": {},
   "outputs": [
    {
     "data": {
      "text/plain": [
       "(50000, 32, 32, 3)"
      ]
     },
     "execution_count": 4,
     "metadata": {},
     "output_type": "execute_result"
    }
   ],
   "source": [
    "train_data.shape"
   ]
  },
  {
   "cell_type": "code",
   "execution_count": 5,
   "metadata": {},
   "outputs": [
    {
     "data": {
      "text/plain": [
       "<matplotlib.image.AxesImage at 0x2b080055f60>"
      ]
     },
     "execution_count": 5,
     "metadata": {},
     "output_type": "execute_result"
    },
    {
     "data": {
      "image/png": "[encoded data removed]",
      "text/plain": [
       "<Figure size 432x288 with 1 Axes>"
      ]
     },
     "metadata": {
      "needs_background": "light"
     },
     "output_type": "display_data"
    }
   ],
   "source": [
    "plt.imshow(train_data[7])"
   ]
  },
  {
   "cell_type": "code",
   "execution_count": 6,
   "metadata": {},
   "outputs": [],
   "source": [
    "model = Sequential()\n",
    "model.add(Conv2D(16, kernel_size=3, padding='same', activation='relu', input_shape=(32,32,3)))\n",
    "model.add(BatchNormalization())\n",
    "model.add(Conv2D(16, kernel_size=3, padding='same', activation='relu'))\n",
    "model.add(BatchNormalization())\n",
    "model.add(MaxPool2D())\n",
    "model.add(Dropout(0.2))\n",
    "model.add(Conv2D(32, kernel_size=3, padding='same', activation='relu'))\n",
    "model.add(BatchNormalization())\n",
    "model.add(Conv2D(32, kernel_size=3, padding='same', activation='relu'))\n",
    "model.add(BatchNormalization())\n",
    "model.add(Conv2D(32, kernel_size=3, padding='same', activation='relu'))\n",
    "model.add(BatchNormalization())\n",
    "model.add(MaxPool2D())\n",
    "model.add(Dropout(0.2))\n",
    "model.add(Conv2D(64, kernel_size=3, padding='same', activation='relu'))\n",
    "model.add(BatchNormalization())\n",
    "model.add(Conv2D(64, kernel_size=3, padding='same', activation='relu'))\n",
    "model.add(BatchNormalization())\n",
    "model.add(Conv2D(64, kernel_size=3, padding='same', activation='relu'))\n",
    "model.add(BatchNormalization())\n",
    "model.add(MaxPool2D())"
   ]
  },
  {
   "cell_type": "code",
   "execution_count": 7,
   "metadata": {},
   "outputs": [],
   "source": [
    "model.add(Flatten())\n",
    "model.add(Dropout(0.2))\n",
    "model.add(Dense(1024, activation='relu'))\n",
    "model.add(Dropout(0.2))\n",
    "model.add(Dense(1024, activation='relu'))\n",
    "model.add(Dense(10, activation='softmax'))"
   ]
  },
  {
   "cell_type": "code",
   "execution_count": 8,
   "metadata": {},
   "outputs": [
    {
     "name": "stdout",
     "output_type": "stream",
     "text": [
      "Model: \"sequential\"\n",
      "_________________________________________________________________\n",
      "Layer (type)                 Output Shape              Param #   \n",
      "=================================================================\n",
      "conv2d (Conv2D)              (None, 32, 32, 16)        448       \n",
      "_________________________________________________________________\n",
      "batch_normalization (BatchNo (None, 32, 32, 16)        64        \n",
      "_________________________________________________________________\n",
      "conv2d_1 (Conv2D)            (None, 32, 32, 16)        2320      \n",
      "_________________________________________________________________\n",
      "batch_normalization_1 (Batch (None, 32, 32, 16)        64        \n",
      "_________________________________________________________________\n",
      "max_pooling2d (MaxPooling2D) (None, 16, 16, 16)        0         \n",
      "_________________________________________________________________\n",
      "dropout (Dropout)            (None, 16, 16, 16)        0         \n",
      "_________________________________________________________________\n",
      "conv2d_2 (Conv2D)            (None, 16, 16, 32)        4640      \n",
      "_________________________________________________________________\n",
      "batch_normalization_2 (Batch (None, 16, 16, 32)        128       \n",
      "_________________________________________________________________\n",
      "conv2d_3 (Conv2D)            (None, 16, 16, 32)        9248      \n",
      "_________________________________________________________________\n",
      "batch_normalization_3 (Batch (None, 16, 16, 32)        128       \n",
      "_________________________________________________________________\n",
      "conv2d_4 (Conv2D)            (None, 16, 16, 32)        9248      \n",
      "_________________________________________________________________\n",
      "batch_normalization_4 (Batch (None, 16, 16, 32)        128       \n",
      "_________________________________________________________________\n",
      "max_pooling2d_1 (MaxPooling2 (None, 8, 8, 32)          0         \n",
      "_________________________________________________________________\n",
      "dropout_1 (Dropout)          (None, 8, 8, 32)          0         \n",
      "_________________________________________________________________\n",
      "conv2d_5 (Conv2D)            (None, 8, 8, 64)          18496     \n",
      "_________________________________________________________________\n",
      "batch_normalization_5 (Batch (None, 8, 8, 64)          256       \n",
      "_________________________________________________________________\n",
      "conv2d_6 (Conv2D)            (None, 8, 8, 64)          36928     \n",
      "_________________________________________________________________\n",
      "batch_normalization_6 (Batch (None, 8, 8, 64)          256       \n",
      "_________________________________________________________________\n",
      "conv2d_7 (Conv2D)            (None, 8, 8, 64)          36928     \n",
      "_________________________________________________________________\n",
      "batch_normalization_7 (Batch (None, 8, 8, 64)          256       \n",
      "_________________________________________________________________\n",
      "max_pooling2d_2 (MaxPooling2 (None, 4, 4, 64)          0         \n",
      "_________________________________________________________________\n",
      "flatten (Flatten)            (None, 1024)              0         \n",
      "_________________________________________________________________\n",
      "dropout_2 (Dropout)          (None, 1024)              0         \n",
      "_________________________________________________________________\n",
      "dense (Dense)                (None, 1024)              1049600   \n",
      "_________________________________________________________________\n",
      "dropout_3 (Dropout)          (None, 1024)              0         \n",
      "_________________________________________________________________\n",
      "dense_1 (Dense)              (None, 1024)              1049600   \n",
      "_________________________________________________________________\n",
      "dense_2 (Dense)              (None, 10)                10250     \n",
      "=================================================================\n",
      "Total params: 2,228,986\n",
      "Trainable params: 2,228,346\n",
      "Non-trainable params: 640\n",
      "_________________________________________________________________\n"
     ]
    }
   ],
   "source": [
    "model.summary()"
   ]
  },
  {
   "cell_type": "code",
   "execution_count": 9,
   "metadata": {},
   "outputs": [],
   "source": [
    "model.compile(optimizer='adam', loss='sparse_categorical_crossentropy', metrics=['accuracy'])"
   ]
  },
  {
   "cell_type": "code",
   "execution_count": 10,
   "metadata": {
    "scrolled": true
   },
   "outputs": [
    {
     "name": "stdout",
     "output_type": "stream",
     "text": [
      "Train on 40000 samples, validate on 10000 samples\n",
      "Epoch 1/1000\n",
      "\n",
      "Epoch 00001: val_loss improved from inf to 1.22734, saving model to ../checkpoints/all_dropout_with_batch_norm.hdf5\n",
      "40000/40000 - 18s - loss: 1.5237 - accuracy: 0.4555 - val_loss: 1.2273 - val_accuracy: 0.5651\n",
      "Epoch 2/1000\n",
      "\n",
      "Epoch 00002: val_loss improved from 1.22734 to 1.02528, saving model to ../checkpoints/all_dropout_with_batch_norm.hdf5\n",
      "40000/40000 - 13s - loss: 1.1124 - accuracy: 0.6102 - val_loss: 1.0253 - val_accuracy: 0.6293\n",
      "Epoch 3/1000\n",
      "\n",
      "Epoch 00003: val_loss improved from 1.02528 to 0.90131, saving model to ../checkpoints/all_dropout_with_batch_norm.hdf5\n",
      "40000/40000 - 13s - loss: 0.9339 - accuracy: 0.6704 - val_loss: 0.9013 - val_accuracy: 0.6888\n",
      "Epoch 4/1000\n",
      "\n",
      "Epoch 00004: val_loss improved from 0.90131 to 0.77179, saving model to ../checkpoints/all_dropout_with_batch_norm.hdf5\n",
      "40000/40000 - 13s - loss: 0.8254 - accuracy: 0.7107 - val_loss: 0.7718 - val_accuracy: 0.7318\n",
      "Epoch 5/1000\n",
      "\n",
      "Epoch 00005: val_loss improved from 0.77179 to 0.72193, saving model to ../checkpoints/all_dropout_with_batch_norm.hdf5\n",
      "40000/40000 - 13s - loss: 0.7494 - accuracy: 0.7397 - val_loss: 0.7219 - val_accuracy: 0.7590\n",
      "Epoch 6/1000\n",
      "\n",
      "Epoch 00006: val_loss improved from 0.72193 to 0.70956, saving model to ../checkpoints/all_dropout_with_batch_norm.hdf5\n",
      "40000/40000 - 14s - loss: 0.6885 - accuracy: 0.7591 - val_loss: 0.7096 - val_accuracy: 0.7604\n",
      "Epoch 7/1000\n",
      "\n",
      "Epoch 00007: val_loss improved from 0.70956 to 0.64819, saving model to ../checkpoints/all_dropout_with_batch_norm.hdf5\n",
      "40000/40000 - 13s - loss: 0.6303 - accuracy: 0.7810 - val_loss: 0.6482 - val_accuracy: 0.7838\n",
      "Epoch 8/1000\n",
      "\n",
      "Epoch 00008: val_loss did not improve from 0.64819\n",
      "40000/40000 - 13s - loss: 0.5810 - accuracy: 0.7955 - val_loss: 0.7955 - val_accuracy: 0.7431\n",
      "Epoch 9/1000\n",
      "\n",
      "Epoch 00009: val_loss did not improve from 0.64819\n",
      "40000/40000 - 13s - loss: 0.5451 - accuracy: 0.8080 - val_loss: 0.6689 - val_accuracy: 0.7742\n",
      "Epoch 10/1000\n",
      "\n",
      "Epoch 00010: val_loss improved from 0.64819 to 0.61202, saving model to ../checkpoints/all_dropout_with_batch_norm.hdf5\n",
      "40000/40000 - 13s - loss: 0.5064 - accuracy: 0.8244 - val_loss: 0.6120 - val_accuracy: 0.7983\n",
      "Epoch 11/1000\n",
      "\n",
      "Epoch 00011: val_loss did not improve from 0.61202\n",
      "40000/40000 - 13s - loss: 0.4659 - accuracy: 0.8370 - val_loss: 0.6282 - val_accuracy: 0.7917\n",
      "Epoch 12/1000\n",
      "\n",
      "Epoch 00012: val_loss did not improve from 0.61202\n",
      "40000/40000 - 13s - loss: 0.4395 - accuracy: 0.8476 - val_loss: 0.6128 - val_accuracy: 0.8014\n",
      "Epoch 13/1000\n",
      "\n",
      "Epoch 00013: val_loss did not improve from 0.61202\n",
      "40000/40000 - 13s - loss: 0.4084 - accuracy: 0.8566 - val_loss: 0.6682 - val_accuracy: 0.7902\n",
      "Epoch 14/1000\n",
      "\n",
      "Epoch 00014: val_loss did not improve from 0.61202\n",
      "40000/40000 - 12s - loss: 0.3808 - accuracy: 0.8669 - val_loss: 0.6373 - val_accuracy: 0.7978\n",
      "Epoch 15/1000\n",
      "\n",
      "Epoch 00015: val_loss did not improve from 0.61202\n",
      "40000/40000 - 12s - loss: 0.3606 - accuracy: 0.8748 - val_loss: 0.6761 - val_accuracy: 0.7922\n",
      "Epoch 16/1000\n",
      "\n",
      "Epoch 00016: val_loss did not improve from 0.61202\n",
      "40000/40000 - 13s - loss: 0.3328 - accuracy: 0.8837 - val_loss: 0.8387 - val_accuracy: 0.7670\n",
      "Epoch 17/1000\n",
      "\n",
      "Epoch 00017: val_loss did not improve from 0.61202\n",
      "40000/40000 - 13s - loss: 0.3115 - accuracy: 0.8896 - val_loss: 0.7078 - val_accuracy: 0.7918\n",
      "Epoch 18/1000\n",
      "\n",
      "Epoch 00018: val_loss did not improve from 0.61202\n",
      "40000/40000 - 13s - loss: 0.2960 - accuracy: 0.8971 - val_loss: 0.6467 - val_accuracy: 0.8039\n",
      "Epoch 19/1000\n",
      "\n",
      "Epoch 00019: val_loss did not improve from 0.61202\n",
      "40000/40000 - 12s - loss: 0.2841 - accuracy: 0.9019 - val_loss: 0.7059 - val_accuracy: 0.7974\n",
      "Epoch 20/1000\n",
      "\n",
      "Epoch 00020: val_loss did not improve from 0.61202\n",
      "40000/40000 - 13s - loss: 0.2565 - accuracy: 0.9119 - val_loss: 0.6639 - val_accuracy: 0.8064\n",
      "Epoch 21/1000\n",
      "\n",
      "Epoch 00021: val_loss did not improve from 0.61202\n",
      "40000/40000 - 13s - loss: 0.2506 - accuracy: 0.9140 - val_loss: 0.6394 - val_accuracy: 0.8107\n",
      "Epoch 22/1000\n",
      "\n",
      "Epoch 00022: val_loss did not improve from 0.61202\n",
      "40000/40000 - 13s - loss: 0.2421 - accuracy: 0.9172 - val_loss: 0.6781 - val_accuracy: 0.8055\n",
      "Epoch 23/1000\n",
      "\n",
      "Epoch 00023: val_loss did not improve from 0.61202\n",
      "40000/40000 - 13s - loss: 0.2315 - accuracy: 0.9204 - val_loss: 0.6827 - val_accuracy: 0.8102\n",
      "Epoch 24/1000\n",
      "\n",
      "Epoch 00024: val_loss did not improve from 0.61202\n",
      "40000/40000 - 13s - loss: 0.2159 - accuracy: 0.9243 - val_loss: 0.7194 - val_accuracy: 0.8112\n",
      "Epoch 25/1000\n",
      "\n",
      "Epoch 00025: val_loss did not improve from 0.61202\n",
      "40000/40000 - 13s - loss: 0.2077 - accuracy: 0.9298 - val_loss: 0.7073 - val_accuracy: 0.8117\n"
     ]
    }
   ],
   "source": [
    "es_cb = tf.keras.callbacks.EarlyStopping(monitor='val_loss', patience=15)\n",
    "sm_cb = tf.keras.callbacks.ModelCheckpoint(monitor='val_loss', filepath='../checkpoints/all_dropout_with_batch_norm.hdf5', verbose=1, save_best_only=True)\n",
    "history = model.fit(train_data, train_labels, verbose=2, epochs=1000, validation_split=0.2, shuffle=True, callbacks=[es_cb, sm_cb])"
   ]
  },
  {
   "cell_type": "code",
   "execution_count": 11,
   "metadata": {},
   "outputs": [
    {
     "data": {
      "text/plain": [
       "<matplotlib.legend.Legend at 0x2b091cbdef0>"
      ]
     },
     "execution_count": 11,
     "metadata": {},
     "output_type": "execute_result"
    },
    {
     "data": {
      "image/png": "[encoded data removed]",
      "text/plain": [
       "<Figure size 432x288 with 1 Axes>"
      ]
     },
     "metadata": {
      "needs_background": "light"
     },
     "output_type": "display_data"
    }
   ],
   "source": [
    "plt.plot(history.history['loss'])\n",
    "plt.plot(history.history['val_loss'])\n",
    "plt.legend(['train', 'validate'], loc='upper right')"
   ]
  },
  {
   "cell_type": "code",
   "execution_count": 12,
   "metadata": {},
   "outputs": [
    {
     "data": {
      "text/plain": [
       "[0.6211916903495789, 0.7896]"
      ]
     },
     "execution_count": 12,
     "metadata": {},
     "output_type": "execute_result"
    }
   ],
   "source": [
    "test_labels = np.array(test_labels, dtype='uint8')\n",
    "model.load_weights('../checkpoints/all_dropout_with_batch_norm.hdf5')\n",
    "model.evaluate(test_data, test_labels, verbose=0)"
   ]
  }
 ],
 "metadata": {
  "kernelspec": {
   "display_name": "Python 3",
   "language": "python",
   "name": "python3"
  },
  "language_info": {
   "codemirror_mode": {
    "name": "ipython",
    "version": 3
   },
   "file_extension": ".py",
   "mimetype": "text/x-python",
   "name": "python",
   "nbconvert_exporter": "python",
   "pygments_lexer": "ipython3",
   "version": "3.5.4"
  }
 },
 "nbformat": 4,
 "nbformat_minor": 2
}
