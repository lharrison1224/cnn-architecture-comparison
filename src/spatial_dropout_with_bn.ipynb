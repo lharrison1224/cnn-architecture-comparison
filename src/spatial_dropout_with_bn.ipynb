{
 "cells": [
  {
   "cell_type": "code",
   "execution_count": 1,
   "metadata": {},
   "outputs": [],
   "source": [
    "from load_data import load\n",
    "import numpy as np\n",
    "import tensorflow as tf\n",
    "from tensorflow import keras\n",
    "import matplotlib.pyplot as plt"
   ]
  },
  {
   "cell_type": "code",
   "execution_count": 2,
   "metadata": {},
   "outputs": [],
   "source": [
    "from tensorflow.keras.models import Sequential, load_model\n",
    "from tensorflow.keras.layers import Dense, Conv2D, Flatten, MaxPool2D, Dropout, BatchNormalization, SpatialDropout2D"
   ]
  },
  {
   "cell_type": "code",
   "execution_count": 3,
   "metadata": {},
   "outputs": [],
   "source": [
    "(train_data, train_labels, test_data, test_labels) = load()"
   ]
  },
  {
   "cell_type": "code",
   "execution_count": 4,
   "metadata": {},
   "outputs": [
    {
     "data": {
      "text/plain": [
       "(50000, 32, 32, 3)"
      ]
     },
     "execution_count": 4,
     "metadata": {},
     "output_type": "execute_result"
    }
   ],
   "source": [
    "train_data.shape"
   ]
  },
  {
   "cell_type": "code",
   "execution_count": 5,
   "metadata": {},
   "outputs": [
    {
     "data": {
      "text/plain": [
       "<matplotlib.image.AxesImage at 0x14f23a1dcc0>"
      ]
     },
     "execution_count": 5,
     "metadata": {},
     "output_type": "execute_result"
    },
    {
     "data": {
      "image/png": "[encoded data removed]",
      "text/plain": [
       "<Figure size 432x288 with 1 Axes>"
      ]
     },
     "metadata": {
      "needs_background": "light"
     },
     "output_type": "display_data"
    }
   ],
   "source": [
    "plt.imshow(train_data[7])"
   ]
  },
  {
   "cell_type": "code",
   "execution_count": 6,
   "metadata": {},
   "outputs": [],
   "source": [
    "model = Sequential()\n",
    "model.add(Conv2D(16, kernel_size=3, padding='same', activation='relu', input_shape=(32,32,3)))\n",
    "model.add(BatchNormalization())\n",
    "model.add(Conv2D(16, kernel_size=3, padding='same', activation='relu'))\n",
    "model.add(BatchNormalization())\n",
    "model.add(MaxPool2D())\n",
    "model.add(SpatialDropout2D(0.2))\n",
    "model.add(Conv2D(32, kernel_size=3, padding='same', activation='relu'))\n",
    "model.add(BatchNormalization())\n",
    "model.add(Conv2D(32, kernel_size=3, padding='same', activation='relu'))\n",
    "model.add(BatchNormalization())\n",
    "model.add(Conv2D(32, kernel_size=3, padding='same', activation='relu'))\n",
    "model.add(BatchNormalization())\n",
    "model.add(MaxPool2D())\n",
    "model.add(SpatialDropout2D(0.2))\n",
    "model.add(Conv2D(64, kernel_size=3, padding='same', activation='relu'))\n",
    "model.add(BatchNormalization())\n",
    "model.add(Conv2D(64, kernel_size=3, padding='same', activation='relu'))\n",
    "model.add(BatchNormalization())\n",
    "model.add(Conv2D(64, kernel_size=3, padding='same', activation='relu'))\n",
    "model.add(BatchNormalization())\n",
    "model.add(MaxPool2D())\n",
    "model.add(SpatialDropout2D(0.2))"
   ]
  },
  {
   "cell_type": "code",
   "execution_count": 7,
   "metadata": {},
   "outputs": [],
   "source": [
    "model.add(Flatten())\n",
    "model.add(Dense(1024, activation='relu'))\n",
    "model.add(Dropout(0.2))\n",
    "model.add(Dense(1024, activation='relu'))\n",
    "model.add(Dense(10, activation='softmax'))"
   ]
  },
  {
   "cell_type": "code",
   "execution_count": 8,
   "metadata": {},
   "outputs": [
    {
     "name": "stdout",
     "output_type": "stream",
     "text": [
      "Model: \"sequential\"\n",
      "_________________________________________________________________\n",
      "Layer (type)                 Output Shape              Param #   \n",
      "=================================================================\n",
      "conv2d (Conv2D)              (None, 32, 32, 16)        448       \n",
      "_________________________________________________________________\n",
      "batch_normalization (BatchNo (None, 32, 32, 16)        64        \n",
      "_________________________________________________________________\n",
      "conv2d_1 (Conv2D)            (None, 32, 32, 16)        2320      \n",
      "_________________________________________________________________\n",
      "batch_normalization_1 (Batch (None, 32, 32, 16)        64        \n",
      "_________________________________________________________________\n",
      "max_pooling2d (MaxPooling2D) (None, 16, 16, 16)        0         \n",
      "_________________________________________________________________\n",
      "spatial_dropout2d (SpatialDr (None, 16, 16, 16)        0         \n",
      "_________________________________________________________________\n",
      "conv2d_2 (Conv2D)            (None, 16, 16, 32)        4640      \n",
      "_________________________________________________________________\n",
      "batch_normalization_2 (Batch (None, 16, 16, 32)        128       \n",
      "_________________________________________________________________\n",
      "conv2d_3 (Conv2D)            (None, 16, 16, 32)        9248      \n",
      "_________________________________________________________________\n",
      "batch_normalization_3 (Batch (None, 16, 16, 32)        128       \n",
      "_________________________________________________________________\n",
      "conv2d_4 (Conv2D)            (None, 16, 16, 32)        9248      \n",
      "_________________________________________________________________\n",
      "batch_normalization_4 (Batch (None, 16, 16, 32)        128       \n",
      "_________________________________________________________________\n",
      "max_pooling2d_1 (MaxPooling2 (None, 8, 8, 32)          0         \n",
      "_________________________________________________________________\n",
      "spatial_dropout2d_1 (Spatial (None, 8, 8, 32)          0         \n",
      "_________________________________________________________________\n",
      "conv2d_5 (Conv2D)            (None, 8, 8, 64)          18496     \n",
      "_________________________________________________________________\n",
      "batch_normalization_5 (Batch (None, 8, 8, 64)          256       \n",
      "_________________________________________________________________\n",
      "conv2d_6 (Conv2D)            (None, 8, 8, 64)          36928     \n",
      "_________________________________________________________________\n",
      "batch_normalization_6 (Batch (None, 8, 8, 64)          256       \n",
      "_________________________________________________________________\n",
      "conv2d_7 (Conv2D)            (None, 8, 8, 64)          36928     \n",
      "_________________________________________________________________\n",
      "batch_normalization_7 (Batch (None, 8, 8, 64)          256       \n",
      "_________________________________________________________________\n",
      "max_pooling2d_2 (MaxPooling2 (None, 4, 4, 64)          0         \n",
      "_________________________________________________________________\n",
      "spatial_dropout2d_2 (Spatial (None, 4, 4, 64)          0         \n",
      "_________________________________________________________________\n",
      "flatten (Flatten)            (None, 1024)              0         \n",
      "_________________________________________________________________\n",
      "dense (Dense)                (None, 1024)              1049600   \n",
      "_________________________________________________________________\n",
      "dropout (Dropout)            (None, 1024)              0         \n",
      "_________________________________________________________________\n",
      "dense_1 (Dense)              (None, 1024)              1049600   \n",
      "_________________________________________________________________\n",
      "dense_2 (Dense)              (None, 10)                10250     \n",
      "=================================================================\n",
      "Total params: 2,228,986\n",
      "Trainable params: 2,228,346\n",
      "Non-trainable params: 640\n",
      "_________________________________________________________________\n"
     ]
    }
   ],
   "source": [
    "model.summary()"
   ]
  },
  {
   "cell_type": "code",
   "execution_count": 9,
   "metadata": {},
   "outputs": [],
   "source": [
    "model.compile(optimizer='adam', loss='sparse_categorical_crossentropy', metrics=['accuracy'])"
   ]
  },
  {
   "cell_type": "code",
   "execution_count": 10,
   "metadata": {
    "scrolled": true
   },
   "outputs": [
    {
     "name": "stdout",
     "output_type": "stream",
     "text": [
      "Train on 40000 samples, validate on 10000 samples\n",
      "Epoch 1/1000\n",
      "\n",
      "Epoch 00001: val_loss improved from inf to 1.40486, saving model to ../checkpoints/spatial_dropout_with_bn.hdf5\n",
      "40000/40000 - 17s - loss: 1.6257 - accuracy: 0.4169 - val_loss: 1.4049 - val_accuracy: 0.5140\n",
      "Epoch 2/1000\n",
      "\n",
      "Epoch 00002: val_loss improved from 1.40486 to 1.17820, saving model to ../checkpoints/spatial_dropout_with_bn.hdf5\n",
      "40000/40000 - 12s - loss: 1.2367 - accuracy: 0.5613 - val_loss: 1.1782 - val_accuracy: 0.5957\n",
      "Epoch 3/1000\n",
      "\n",
      "Epoch 00003: val_loss improved from 1.17820 to 0.98020, saving model to ../checkpoints/spatial_dropout_with_bn.hdf5\n",
      "40000/40000 - 13s - loss: 1.0710 - accuracy: 0.6197 - val_loss: 0.9802 - val_accuracy: 0.6577\n",
      "Epoch 4/1000\n",
      "\n",
      "Epoch 00004: val_loss improved from 0.98020 to 0.87358, saving model to ../checkpoints/spatial_dropout_with_bn.hdf5\n",
      "40000/40000 - 12s - loss: 0.9573 - accuracy: 0.6651 - val_loss: 0.8736 - val_accuracy: 0.6915\n",
      "Epoch 5/1000\n",
      "\n",
      "Epoch 00005: val_loss improved from 0.87358 to 0.82514, saving model to ../checkpoints/spatial_dropout_with_bn.hdf5\n",
      "40000/40000 - 13s - loss: 0.8750 - accuracy: 0.6989 - val_loss: 0.8251 - val_accuracy: 0.7145\n",
      "Epoch 6/1000\n",
      "\n",
      "Epoch 00006: val_loss improved from 0.82514 to 0.77830, saving model to ../checkpoints/spatial_dropout_with_bn.hdf5\n",
      "40000/40000 - 15s - loss: 0.8028 - accuracy: 0.7190 - val_loss: 0.7783 - val_accuracy: 0.7323\n",
      "Epoch 7/1000\n",
      "\n",
      "Epoch 00007: val_loss improved from 0.77830 to 0.73786, saving model to ../checkpoints/spatial_dropout_with_bn.hdf5\n",
      "40000/40000 - 13s - loss: 0.7372 - accuracy: 0.7445 - val_loss: 0.7379 - val_accuracy: 0.7492\n",
      "Epoch 8/1000\n",
      "\n",
      "Epoch 00008: val_loss did not improve from 0.73786\n",
      "40000/40000 - 13s - loss: 0.6859 - accuracy: 0.7606 - val_loss: 0.7444 - val_accuracy: 0.7463\n",
      "Epoch 9/1000\n",
      "\n",
      "Epoch 00009: val_loss improved from 0.73786 to 0.69106, saving model to ../checkpoints/spatial_dropout_with_bn.hdf5\n",
      "40000/40000 - 13s - loss: 0.6339 - accuracy: 0.7765 - val_loss: 0.6911 - val_accuracy: 0.7665\n",
      "Epoch 10/1000\n",
      "\n",
      "Epoch 00010: val_loss improved from 0.69106 to 0.67898, saving model to ../checkpoints/spatial_dropout_with_bn.hdf5\n",
      "40000/40000 - 12s - loss: 0.5947 - accuracy: 0.7919 - val_loss: 0.6790 - val_accuracy: 0.7688\n",
      "Epoch 11/1000\n",
      "\n",
      "Epoch 00011: val_loss did not improve from 0.67898\n",
      "40000/40000 - 12s - loss: 0.5520 - accuracy: 0.8069 - val_loss: 0.6828 - val_accuracy: 0.7752\n",
      "Epoch 12/1000\n",
      "\n",
      "Epoch 00012: val_loss did not improve from 0.67898\n",
      "40000/40000 - 12s - loss: 0.5163 - accuracy: 0.8201 - val_loss: 0.7427 - val_accuracy: 0.7557\n",
      "Epoch 13/1000\n",
      "\n",
      "Epoch 00013: val_loss did not improve from 0.67898\n",
      "40000/40000 - 12s - loss: 0.4874 - accuracy: 0.8299 - val_loss: 0.7074 - val_accuracy: 0.7721\n",
      "Epoch 14/1000\n",
      "\n",
      "Epoch 00014: val_loss improved from 0.67898 to 0.66862, saving model to ../checkpoints/spatial_dropout_with_bn.hdf5\n",
      "40000/40000 - 13s - loss: 0.4554 - accuracy: 0.8411 - val_loss: 0.6686 - val_accuracy: 0.7803\n",
      "Epoch 15/1000\n",
      "\n",
      "Epoch 00015: val_loss did not improve from 0.66862\n",
      "40000/40000 - 12s - loss: 0.4213 - accuracy: 0.8538 - val_loss: 0.6951 - val_accuracy: 0.7798\n",
      "Epoch 16/1000\n",
      "\n",
      "Epoch 00016: val_loss did not improve from 0.66862\n",
      "40000/40000 - 12s - loss: 0.3950 - accuracy: 0.8625 - val_loss: 0.7112 - val_accuracy: 0.7760\n",
      "Epoch 17/1000\n",
      "\n",
      "Epoch 00017: val_loss did not improve from 0.66862\n",
      "40000/40000 - 12s - loss: 0.3684 - accuracy: 0.8701 - val_loss: 0.7015 - val_accuracy: 0.7883\n",
      "Epoch 18/1000\n",
      "\n",
      "Epoch 00018: val_loss did not improve from 0.66862\n",
      "40000/40000 - 12s - loss: 0.3474 - accuracy: 0.8790 - val_loss: 0.7181 - val_accuracy: 0.7827\n",
      "Epoch 19/1000\n",
      "\n",
      "Epoch 00019: val_loss did not improve from 0.66862\n",
      "40000/40000 - 12s - loss: 0.3309 - accuracy: 0.8856 - val_loss: 0.7391 - val_accuracy: 0.7794\n",
      "Epoch 20/1000\n",
      "\n",
      "Epoch 00020: val_loss did not improve from 0.66862\n",
      "40000/40000 - 12s - loss: 0.3098 - accuracy: 0.8927 - val_loss: 0.7161 - val_accuracy: 0.7883\n",
      "Epoch 21/1000\n",
      "\n",
      "Epoch 00021: val_loss did not improve from 0.66862\n",
      "40000/40000 - 12s - loss: 0.2993 - accuracy: 0.8964 - val_loss: 0.7469 - val_accuracy: 0.7768\n",
      "Epoch 22/1000\n",
      "\n",
      "Epoch 00022: val_loss did not improve from 0.66862\n",
      "40000/40000 - 12s - loss: 0.2772 - accuracy: 0.9039 - val_loss: 0.6949 - val_accuracy: 0.7900\n",
      "Epoch 23/1000\n",
      "\n",
      "Epoch 00023: val_loss did not improve from 0.66862\n",
      "40000/40000 - 12s - loss: 0.2625 - accuracy: 0.9098 - val_loss: 0.7457 - val_accuracy: 0.7816\n",
      "Epoch 24/1000\n",
      "\n",
      "Epoch 00024: val_loss did not improve from 0.66862\n",
      "40000/40000 - 12s - loss: 0.2507 - accuracy: 0.9139 - val_loss: 0.7517 - val_accuracy: 0.7913\n",
      "Epoch 25/1000\n",
      "\n",
      "Epoch 00025: val_loss did not improve from 0.66862\n",
      "40000/40000 - 13s - loss: 0.2393 - accuracy: 0.9167 - val_loss: 0.7393 - val_accuracy: 0.7864\n",
      "Epoch 26/1000\n",
      "\n",
      "Epoch 00026: val_loss did not improve from 0.66862\n",
      "40000/40000 - 12s - loss: 0.2287 - accuracy: 0.9212 - val_loss: 0.7650 - val_accuracy: 0.7908\n",
      "Epoch 27/1000\n",
      "\n",
      "Epoch 00027: val_loss did not improve from 0.66862\n",
      "40000/40000 - 12s - loss: 0.2278 - accuracy: 0.9218 - val_loss: 0.7722 - val_accuracy: 0.7868\n",
      "Epoch 28/1000\n",
      "\n",
      "Epoch 00028: val_loss did not improve from 0.66862\n",
      "40000/40000 - 12s - loss: 0.2065 - accuracy: 0.9299 - val_loss: 0.7930 - val_accuracy: 0.7830\n",
      "Epoch 29/1000\n",
      "\n",
      "Epoch 00029: val_loss did not improve from 0.66862\n",
      "40000/40000 - 13s - loss: 0.2029 - accuracy: 0.9302 - val_loss: 0.7945 - val_accuracy: 0.7852\n"
     ]
    }
   ],
   "source": [
    "es_cb = tf.keras.callbacks.EarlyStopping(monitor='val_loss', patience=15)\n",
    "sm_cb = tf.keras.callbacks.ModelCheckpoint(monitor='val_loss', filepath='../checkpoints/spatial_dropout_with_bn.hdf5', verbose=1, save_best_only=True)\n",
    "history = model.fit(train_data, train_labels, verbose=2, epochs=1000, validation_split=0.2, shuffle=True, callbacks=[es_cb, sm_cb])"
   ]
  },
  {
   "cell_type": "code",
   "execution_count": 11,
   "metadata": {},
   "outputs": [
    {
     "data": {
      "text/plain": [
       "<matplotlib.legend.Legend at 0x150f620ec50>"
      ]
     },
     "execution_count": 11,
     "metadata": {},
     "output_type": "execute_result"
    },
    {
     "data": {
      "image/png": "[encoded data removed]",
      "text/plain": [
       "<Figure size 432x288 with 1 Axes>"
      ]
     },
     "metadata": {
      "needs_background": "light"
     },
     "output_type": "display_data"
    }
   ],
   "source": [
    "plt.plot(history.history['loss'])\n",
    "plt.plot(history.history['val_loss'])\n",
    "plt.legend(['train', 'validate'], loc='upper right')"
   ]
  },
  {
   "cell_type": "code",
   "execution_count": 12,
   "metadata": {},
   "outputs": [
    {
     "data": {
      "text/plain": [
       "[0.7063337697982788, 0.7709]"
      ]
     },
     "execution_count": 12,
     "metadata": {},
     "output_type": "execute_result"
    }
   ],
   "source": [
    "test_labels = np.array(test_labels, dtype='uint8')\n",
    "model.load_weights('../checkpoints/spatial_dropout_with_bn.hdf5')\n",
    "model.evaluate(test_data, test_labels, verbose=0)"
   ]
  }
 ],
 "metadata": {
  "kernelspec": {
   "display_name": "Python 3",
   "language": "python",
   "name": "python3"
  },
  "language_info": {
   "codemirror_mode": {
    "name": "ipython",
    "version": 3
   },
   "file_extension": ".py",
   "mimetype": "text/x-python",
   "name": "python",
   "nbconvert_exporter": "python",
   "pygments_lexer": "ipython3",
   "version": "3.5.4"
  }
 },
 "nbformat": 4,
 "nbformat_minor": 2
}
