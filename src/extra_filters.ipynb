{
 "cells": [
  {
   "cell_type": "code",
   "execution_count": 1,
   "metadata": {},
   "outputs": [],
   "source": [
    "from load_data import load\n",
    "import numpy as np\n",
    "import tensorflow as tf\n",
    "from tensorflow import keras\n",
    "import matplotlib.pyplot as plt"
   ]
  },
  {
   "cell_type": "code",
   "execution_count": 2,
   "metadata": {},
   "outputs": [],
   "source": [
    "from tensorflow.keras.models import Sequential, load_model\n",
    "from tensorflow.keras.layers import Dense, Conv2D, Flatten, MaxPool2D"
   ]
  },
  {
   "cell_type": "code",
   "execution_count": 3,
   "metadata": {},
   "outputs": [],
   "source": [
    "(train_data, train_labels, test_data, test_labels) = load()"
   ]
  },
  {
   "cell_type": "code",
   "execution_count": 4,
   "metadata": {},
   "outputs": [
    {
     "data": {
      "text/plain": [
       "(50000, 32, 32, 3)"
      ]
     },
     "execution_count": 4,
     "metadata": {},
     "output_type": "execute_result"
    }
   ],
   "source": [
    "train_data.shape"
   ]
  },
  {
   "cell_type": "code",
   "execution_count": 5,
   "metadata": {},
   "outputs": [
    {
     "data": {
      "text/plain": [
       "<matplotlib.image.AxesImage at 0x20643a49ef0>"
      ]
     },
     "execution_count": 5,
     "metadata": {},
     "output_type": "execute_result"
    },
    {
     "data": {
      "image/png": "[encoded data removed]",
      "text/plain": [
       "<Figure size 432x288 with 1 Axes>"
      ]
     },
     "metadata": {
      "needs_background": "light"
     },
     "output_type": "display_data"
    }
   ],
   "source": [
    "plt.imshow(train_data[7])"
   ]
  },
  {
   "cell_type": "code",
   "execution_count": 6,
   "metadata": {},
   "outputs": [],
   "source": [
    "model = Sequential()\n",
    "model.add(Conv2D(16, kernel_size=3, padding='same', activation='relu', input_shape=(32,32,3)))\n",
    "model.add(Conv2D(16, kernel_size=3, padding='same', activation='relu'))\n",
    "model.add(MaxPool2D())\n",
    "model.add(Conv2D(32, kernel_size=3, padding='same', activation='relu'))\n",
    "model.add(Conv2D(32, kernel_size=3, padding='same', activation='relu'))\n",
    "model.add(Conv2D(32, kernel_size=3, padding='same', activation='relu'))\n",
    "model.add(MaxPool2D())\n",
    "model.add(Conv2D(64, kernel_size=3, padding='same', activation='relu'))\n",
    "model.add(Conv2D(64, kernel_size=3, padding='same', activation='relu'))\n",
    "model.add(Conv2D(64, kernel_size=3, padding='same', activation='relu'))\n",
    "model.add(MaxPool2D())"
   ]
  },
  {
   "cell_type": "code",
   "execution_count": 7,
   "metadata": {},
   "outputs": [],
   "source": [
    "model.add(Flatten())\n",
    "model.add(Dense(10, activation='softmax'))"
   ]
  },
  {
   "cell_type": "code",
   "execution_count": 8,
   "metadata": {},
   "outputs": [
    {
     "name": "stdout",
     "output_type": "stream",
     "text": [
      "Model: \"sequential\"\n",
      "_________________________________________________________________\n",
      "Layer (type)                 Output Shape              Param #   \n",
      "=================================================================\n",
      "conv2d (Conv2D)              (None, 32, 32, 16)        448       \n",
      "_________________________________________________________________\n",
      "conv2d_1 (Conv2D)            (None, 32, 32, 16)        2320      \n",
      "_________________________________________________________________\n",
      "max_pooling2d (MaxPooling2D) (None, 16, 16, 16)        0         \n",
      "_________________________________________________________________\n",
      "conv2d_2 (Conv2D)            (None, 16, 16, 32)        4640      \n",
      "_________________________________________________________________\n",
      "conv2d_3 (Conv2D)            (None, 16, 16, 32)        9248      \n",
      "_________________________________________________________________\n",
      "conv2d_4 (Conv2D)            (None, 16, 16, 32)        9248      \n",
      "_________________________________________________________________\n",
      "max_pooling2d_1 (MaxPooling2 (None, 8, 8, 32)          0         \n",
      "_________________________________________________________________\n",
      "conv2d_5 (Conv2D)            (None, 8, 8, 64)          18496     \n",
      "_________________________________________________________________\n",
      "conv2d_6 (Conv2D)            (None, 8, 8, 64)          36928     \n",
      "_________________________________________________________________\n",
      "conv2d_7 (Conv2D)            (None, 8, 8, 64)          36928     \n",
      "_________________________________________________________________\n",
      "max_pooling2d_2 (MaxPooling2 (None, 4, 4, 64)          0         \n",
      "_________________________________________________________________\n",
      "flatten (Flatten)            (None, 1024)              0         \n",
      "_________________________________________________________________\n",
      "dense (Dense)                (None, 10)                10250     \n",
      "=================================================================\n",
      "Total params: 128,506\n",
      "Trainable params: 128,506\n",
      "Non-trainable params: 0\n",
      "_________________________________________________________________\n"
     ]
    }
   ],
   "source": [
    "model.summary()"
   ]
  },
  {
   "cell_type": "code",
   "execution_count": 9,
   "metadata": {},
   "outputs": [],
   "source": [
    "model.compile(optimizer='adam', loss='sparse_categorical_crossentropy', metrics=['accuracy'])"
   ]
  },
  {
   "cell_type": "code",
   "execution_count": 10,
   "metadata": {
    "scrolled": true
   },
   "outputs": [
    {
     "name": "stdout",
     "output_type": "stream",
     "text": [
      "Train on 40000 samples, validate on 10000 samples\n",
      "Epoch 1/1000\n",
      "\n",
      "Epoch 00001: val_loss improved from inf to 1.31641, saving model to ../checkpoints/extra_filters.hdf5\n",
      "40000/40000 - 9s - loss: 1.5860 - accuracy: 0.4246 - val_loss: 1.3164 - val_accuracy: 0.5268\n",
      "Epoch 2/1000\n",
      "\n",
      "Epoch 00002: val_loss improved from 1.31641 to 1.12366, saving model to ../checkpoints/extra_filters.hdf5\n",
      "40000/40000 - 7s - loss: 1.1959 - accuracy: 0.5741 - val_loss: 1.1237 - val_accuracy: 0.5981\n",
      "Epoch 3/1000\n",
      "\n",
      "Epoch 00003: val_loss improved from 1.12366 to 1.05769, saving model to ../checkpoints/extra_filters.hdf5\n",
      "40000/40000 - 7s - loss: 1.0226 - accuracy: 0.6387 - val_loss: 1.0577 - val_accuracy: 0.6303\n",
      "Epoch 4/1000\n",
      "\n",
      "Epoch 00004: val_loss improved from 1.05769 to 0.99518, saving model to ../checkpoints/extra_filters.hdf5\n",
      "40000/40000 - 7s - loss: 0.9417 - accuracy: 0.6698 - val_loss: 0.9952 - val_accuracy: 0.6492\n",
      "Epoch 5/1000\n",
      "\n",
      "Epoch 00005: val_loss improved from 0.99518 to 0.96315, saving model to ../checkpoints/extra_filters.hdf5\n",
      "40000/40000 - 7s - loss: 0.8729 - accuracy: 0.6931 - val_loss: 0.9632 - val_accuracy: 0.6679\n",
      "Epoch 6/1000\n",
      "\n",
      "Epoch 00006: val_loss did not improve from 0.96315\n",
      "40000/40000 - 7s - loss: 0.8282 - accuracy: 0.7105 - val_loss: 0.9919 - val_accuracy: 0.6622\n",
      "Epoch 7/1000\n",
      "\n",
      "Epoch 00007: val_loss improved from 0.96315 to 0.95341, saving model to ../checkpoints/extra_filters.hdf5\n",
      "40000/40000 - 7s - loss: 0.7958 - accuracy: 0.7194 - val_loss: 0.9534 - val_accuracy: 0.6801\n",
      "Epoch 8/1000\n",
      "\n",
      "Epoch 00008: val_loss improved from 0.95341 to 0.89191, saving model to ../checkpoints/extra_filters.hdf5\n",
      "40000/40000 - 7s - loss: 0.7579 - accuracy: 0.7316 - val_loss: 0.8919 - val_accuracy: 0.6958\n",
      "Epoch 9/1000\n",
      "\n",
      "Epoch 00009: val_loss did not improve from 0.89191\n",
      "40000/40000 - 7s - loss: 0.7263 - accuracy: 0.7450 - val_loss: 0.9445 - val_accuracy: 0.6772\n",
      "Epoch 10/1000\n",
      "\n",
      "Epoch 00010: val_loss did not improve from 0.89191\n",
      "40000/40000 - 7s - loss: 0.7076 - accuracy: 0.7501 - val_loss: 0.9206 - val_accuracy: 0.6863\n",
      "Epoch 11/1000\n",
      "\n",
      "Epoch 00011: val_loss did not improve from 0.89191\n",
      "40000/40000 - 7s - loss: 0.6946 - accuracy: 0.7587 - val_loss: 0.9830 - val_accuracy: 0.6792\n",
      "Epoch 12/1000\n",
      "\n",
      "Epoch 00012: val_loss did not improve from 0.89191\n",
      "40000/40000 - 7s - loss: 0.6995 - accuracy: 0.7559 - val_loss: 0.9447 - val_accuracy: 0.6863\n",
      "Epoch 13/1000\n",
      "\n",
      "Epoch 00013: val_loss did not improve from 0.89191\n",
      "40000/40000 - 7s - loss: 0.6745 - accuracy: 0.7639 - val_loss: 1.0073 - val_accuracy: 0.6823\n",
      "Epoch 14/1000\n",
      "\n",
      "Epoch 00014: val_loss did not improve from 0.89191\n",
      "40000/40000 - 7s - loss: 0.6530 - accuracy: 0.7720 - val_loss: 0.9961 - val_accuracy: 0.6734\n",
      "Epoch 15/1000\n",
      "\n",
      "Epoch 00015: val_loss did not improve from 0.89191\n",
      "40000/40000 - 7s - loss: 0.6592 - accuracy: 0.7699 - val_loss: 0.9786 - val_accuracy: 0.6824\n",
      "Epoch 16/1000\n",
      "\n",
      "Epoch 00016: val_loss did not improve from 0.89191\n",
      "40000/40000 - 7s - loss: 0.6478 - accuracy: 0.7762 - val_loss: 1.0490 - val_accuracy: 0.6702\n",
      "Epoch 17/1000\n",
      "\n",
      "Epoch 00017: val_loss did not improve from 0.89191\n",
      "40000/40000 - 7s - loss: 0.6401 - accuracy: 0.7746 - val_loss: 1.0049 - val_accuracy: 0.6839\n",
      "Epoch 18/1000\n",
      "\n",
      "Epoch 00018: val_loss did not improve from 0.89191\n",
      "40000/40000 - 7s - loss: 0.6405 - accuracy: 0.7754 - val_loss: 0.9974 - val_accuracy: 0.6841\n",
      "Epoch 19/1000\n",
      "\n",
      "Epoch 00019: val_loss did not improve from 0.89191\n",
      "40000/40000 - 7s - loss: 0.6268 - accuracy: 0.7832 - val_loss: 0.9563 - val_accuracy: 0.6923\n",
      "Epoch 20/1000\n",
      "\n",
      "Epoch 00020: val_loss did not improve from 0.89191\n",
      "40000/40000 - 7s - loss: 0.6175 - accuracy: 0.7833 - val_loss: 0.9743 - val_accuracy: 0.6863\n",
      "Epoch 21/1000\n",
      "\n",
      "Epoch 00021: val_loss did not improve from 0.89191\n",
      "40000/40000 - 7s - loss: 0.5922 - accuracy: 0.7945 - val_loss: 1.0086 - val_accuracy: 0.6872\n",
      "Epoch 22/1000\n",
      "\n",
      "Epoch 00022: val_loss did not improve from 0.89191\n",
      "40000/40000 - 7s - loss: 0.5878 - accuracy: 0.7955 - val_loss: 0.9801 - val_accuracy: 0.6889\n",
      "Epoch 23/1000\n",
      "\n",
      "Epoch 00023: val_loss did not improve from 0.89191\n",
      "40000/40000 - 7s - loss: 0.5812 - accuracy: 0.7972 - val_loss: 1.0466 - val_accuracy: 0.6827\n"
     ]
    }
   ],
   "source": [
    "es_cb = tf.keras.callbacks.EarlyStopping(monitor='val_loss', patience=15)\n",
    "sm_cb = tf.keras.callbacks.ModelCheckpoint(monitor='val_loss', filepath='../checkpoints/extra_filters.hdf5', verbose=1, save_best_only=True)\n",
    "history = model.fit(train_data, train_labels, verbose=2, epochs=1000, validation_split=0.2, shuffle=True, callbacks=[es_cb, sm_cb])"
   ]
  },
  {
   "cell_type": "code",
   "execution_count": 11,
   "metadata": {},
   "outputs": [
    {
     "data": {
      "text/plain": [
       "Text(0, 0.5, 'Loss (Categorical Cross Entropy)')"
      ]
     },
     "execution_count": 11,
     "metadata": {},
     "output_type": "execute_result"
    },
    {
     "data": {
      "image/png": "[encoded data removed]",
      "text/plain": [
       "<Figure size 432x288 with 1 Axes>"
      ]
     },
     "metadata": {
      "needs_background": "light"
     },
     "output_type": "display_data"
    }
   ],
   "source": [
    "plt.plot(history.history['loss'])\n",
    "plt.plot(history.history['val_loss'])\n",
    "plt.legend(['train', 'validate'], loc='upper right')\n",
    "plt.ylim(0, 1.8)\n",
    "plt.grid(True)\n",
    "plt.xlabel('Epoch')\n",
    "plt.ylabel('Loss (Categorical Cross Entropy)')"
   ]
  },
  {
   "cell_type": "code",
   "execution_count": 12,
   "metadata": {},
   "outputs": [
    {
     "data": {
      "text/plain": [
       "[0.9223542194366455, 0.6845]"
      ]
     },
     "execution_count": 12,
     "metadata": {},
     "output_type": "execute_result"
    }
   ],
   "source": [
    "test_labels = np.array(test_labels, dtype='uint8')\n",
    "model.load_weights('../checkpoints/extra_filters.hdf5')\n",
    "model.evaluate(test_data, test_labels, verbose=0)"
   ]
  }
 ],
 "metadata": {
  "kernelspec": {
   "display_name": "Python 3",
   "language": "python",
   "name": "python3"
  },
  "language_info": {
   "codemirror_mode": {
    "name": "ipython",
    "version": 3
   },
   "file_extension": ".py",
   "mimetype": "text/x-python",
   "name": "python",
   "nbconvert_exporter": "python",
   "pygments_lexer": "ipython3",
   "version": "3.5.4"
  }
 },
 "nbformat": 4,
 "nbformat_minor": 2
}
