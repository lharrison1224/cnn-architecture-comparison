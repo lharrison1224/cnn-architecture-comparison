{
 "cells": [
  {
   "cell_type": "code",
   "execution_count": 1,
   "metadata": {},
   "outputs": [],
   "source": [
    "from load_data import load\n",
    "import numpy as np\n",
    "import tensorflow as tf\n",
    "from tensorflow import keras\n",
    "import matplotlib.pyplot as plt"
   ]
  },
  {
   "cell_type": "code",
   "execution_count": 16,
   "metadata": {},
   "outputs": [],
   "source": [
    "from tensorflow.keras.models import Sequential\n",
    "from tensorflow.keras.layers import Dense, Conv2D, Flatten, MaxPool2D, Dropout, SpatialDropout2D, BatchNormalization\n",
    "from tensorflow.keras import regularizers"
   ]
  },
  {
   "cell_type": "code",
   "execution_count": 3,
   "metadata": {},
   "outputs": [],
   "source": [
    "(train_data, train_labels, test_data, test_labels) = load()"
   ]
  },
  {
   "cell_type": "code",
   "execution_count": 52,
   "metadata": {},
   "outputs": [],
   "source": [
    "model = Sequential()\n",
    "model.add(Conv2D(32, kernel_size=3, padding='same', activation='relu', input_shape=(32,32,3)))\n",
    "model.add(BatchNormalization())\n",
    "model.add(Conv2D(32, kernel_size=3, padding='same', activation='relu'))\n",
    "model.add(BatchNormalization())\n",
    "model.add(Conv2D(64, kernel_size=3, dilation_rate=2, activation='relu'))\n",
    "model.add(BatchNormalization())\n",
    "model.add(Conv2D(64, kernel_size=3, padding='same', activation='relu'))\n",
    "model.add(BatchNormalization())\n",
    "model.add(Conv2D(64, kernel_size=3, padding='same', activation='relu'))\n",
    "model.add(BatchNormalization())\n",
    "model.add(Conv2D(128, kernel_size=3, dilation_rate=4, activation='relu'))\n",
    "model.add(BatchNormalization())\n",
    "model.add(Conv2D(128, kernel_size=3, padding='same', activation='relu'))\n",
    "model.add(BatchNormalization())\n",
    "model.add(Conv2D(128, kernel_size=3, padding='same', activation='relu'))\n",
    "model.add(BatchNormalization())\n",
    "model.add(Conv2D(256, kernel_size=3, dilation_rate=4, activation='relu'))\n",
    "model.add(BatchNormalization())\n",
    "model.add(Conv2D(256, kernel_size=3, padding='same', activation='relu'))\n",
    "model.add(BatchNormalization())\n",
    "model.add(Conv2D(256, kernel_size=3, padding='same', activation='relu'))\n",
    "model.add(BatchNormalization())\n",
    "model.add(Conv2D(256, kernel_size=3, dilation_rate=4, activation='relu'))\n",
    "model.add(BatchNormalization())\n",
    "model.add(Conv2D(256, kernel_size=3, padding='same', activation='relu'))\n",
    "model.add(BatchNormalization())\n",
    "model.add(Conv2D(256, kernel_size=3, padding='same', activation='relu'))\n",
    "model.add(BatchNormalization())\n",
    "model.add(Flatten())\n",
    "model.add(Dense(1024, activation='relu'))\n",
    "model.add(Dense(1024, activation='relu'))\n",
    "model.add(Dense(10, activation='softmax'))"
   ]
  },
  {
   "cell_type": "code",
   "execution_count": 53,
   "metadata": {},
   "outputs": [
    {
     "name": "stdout",
     "output_type": "stream",
     "text": [
      "Model: \"sequential_16\"\n",
      "_________________________________________________________________\n",
      "Layer (type)                 Output Shape              Param #   \n",
      "=================================================================\n",
      "conv2d_139 (Conv2D)          (None, 32, 32, 32)        896       \n",
      "_________________________________________________________________\n",
      "batch_normalization_41 (Batc (None, 32, 32, 32)        128       \n",
      "_________________________________________________________________\n",
      "conv2d_140 (Conv2D)          (None, 32, 32, 32)        9248      \n",
      "_________________________________________________________________\n",
      "batch_normalization_42 (Batc (None, 32, 32, 32)        128       \n",
      "_________________________________________________________________\n",
      "conv2d_141 (Conv2D)          (None, 28, 28, 64)        18496     \n",
      "_________________________________________________________________\n",
      "batch_normalization_43 (Batc (None, 28, 28, 64)        256       \n",
      "_________________________________________________________________\n",
      "conv2d_142 (Conv2D)          (None, 28, 28, 64)        36928     \n",
      "_________________________________________________________________\n",
      "batch_normalization_44 (Batc (None, 28, 28, 64)        256       \n",
      "_________________________________________________________________\n",
      "conv2d_143 (Conv2D)          (None, 28, 28, 64)        36928     \n",
      "_________________________________________________________________\n",
      "batch_normalization_45 (Batc (None, 28, 28, 64)        256       \n",
      "_________________________________________________________________\n",
      "conv2d_144 (Conv2D)          (None, 20, 20, 128)       73856     \n",
      "_________________________________________________________________\n",
      "batch_normalization_46 (Batc (None, 20, 20, 128)       512       \n",
      "_________________________________________________________________\n",
      "conv2d_145 (Conv2D)          (None, 20, 20, 128)       147584    \n",
      "_________________________________________________________________\n",
      "batch_normalization_47 (Batc (None, 20, 20, 128)       512       \n",
      "_________________________________________________________________\n",
      "conv2d_146 (Conv2D)          (None, 20, 20, 128)       147584    \n",
      "_________________________________________________________________\n",
      "batch_normalization_48 (Batc (None, 20, 20, 128)       512       \n",
      "_________________________________________________________________\n",
      "conv2d_147 (Conv2D)          (None, 12, 12, 256)       295168    \n",
      "_________________________________________________________________\n",
      "batch_normalization_49 (Batc (None, 12, 12, 256)       1024      \n",
      "_________________________________________________________________\n",
      "conv2d_148 (Conv2D)          (None, 12, 12, 256)       590080    \n",
      "_________________________________________________________________\n",
      "batch_normalization_50 (Batc (None, 12, 12, 256)       1024      \n",
      "_________________________________________________________________\n",
      "conv2d_149 (Conv2D)          (None, 12, 12, 256)       590080    \n",
      "_________________________________________________________________\n",
      "batch_normalization_51 (Batc (None, 12, 12, 256)       1024      \n",
      "_________________________________________________________________\n",
      "conv2d_150 (Conv2D)          (None, 4, 4, 256)         590080    \n",
      "_________________________________________________________________\n",
      "batch_normalization_52 (Batc (None, 4, 4, 256)         1024      \n",
      "_________________________________________________________________\n",
      "conv2d_151 (Conv2D)          (None, 4, 4, 256)         590080    \n",
      "_________________________________________________________________\n",
      "batch_normalization_53 (Batc (None, 4, 4, 256)         1024      \n",
      "_________________________________________________________________\n",
      "conv2d_152 (Conv2D)          (None, 4, 4, 256)         590080    \n",
      "_________________________________________________________________\n",
      "batch_normalization_54 (Batc (None, 4, 4, 256)         1024      \n",
      "_________________________________________________________________\n",
      "flatten_14 (Flatten)         (None, 4096)              0         \n",
      "_________________________________________________________________\n",
      "dense_42 (Dense)             (None, 1024)              4195328   \n",
      "_________________________________________________________________\n",
      "dense_43 (Dense)             (None, 1024)              1049600   \n",
      "_________________________________________________________________\n",
      "dense_44 (Dense)             (None, 10)                10250     \n",
      "=================================================================\n",
      "Total params: 8,980,970\n",
      "Trainable params: 8,976,618\n",
      "Non-trainable params: 4,352\n",
      "_________________________________________________________________\n"
     ]
    }
   ],
   "source": [
    "model.summary()"
   ]
  },
  {
   "cell_type": "code",
   "execution_count": 58,
   "metadata": {},
   "outputs": [],
   "source": [
    "model.compile(optimizer='adam', loss='sparse_categorical_crossentropy', metrics=['accuracy'])"
   ]
  },
  {
   "cell_type": "code",
   "execution_count": 59,
   "metadata": {},
   "outputs": [
    {
     "name": "stdout",
     "output_type": "stream",
     "text": [
      "Train on 40000 samples, validate on 10000 samples\n",
      "Epoch 1/30\n",
      "\n",
      "Epoch 00001: val_loss improved from inf to 0.69719, saving model to ../models/dilated_weights.hdf5\n",
      "40000/40000 - 44s - loss: 0.5493 - accuracy: 0.8196 - val_loss: 0.6972 - val_accuracy: 0.7840\n",
      "Epoch 2/30\n",
      "\n",
      "Epoch 00002: val_loss improved from 0.69719 to 0.66492, saving model to ../models/dilated_weights.hdf5\n",
      "40000/40000 - 41s - loss: 0.4891 - accuracy: 0.8371 - val_loss: 0.6649 - val_accuracy: 0.7846\n",
      "Epoch 3/30\n",
      "\n",
      "Epoch 00003: val_loss improved from 0.66492 to 0.65351, saving model to ../models/dilated_weights.hdf5\n",
      "40000/40000 - 41s - loss: 0.4292 - accuracy: 0.8573 - val_loss: 0.6535 - val_accuracy: 0.7954\n",
      "Epoch 4/30\n",
      "\n",
      "Epoch 00004: val_loss did not improve from 0.65351\n",
      "40000/40000 - 41s - loss: 0.3778 - accuracy: 0.8740 - val_loss: 0.6657 - val_accuracy: 0.7894\n",
      "Epoch 5/30\n",
      "\n",
      "Epoch 00005: val_loss did not improve from 0.65351\n",
      "40000/40000 - 41s - loss: 0.3452 - accuracy: 0.8858 - val_loss: 0.6894 - val_accuracy: 0.7843\n",
      "Epoch 6/30\n",
      "\n",
      "Epoch 00006: val_loss did not improve from 0.65351\n",
      "40000/40000 - 41s - loss: 0.3043 - accuracy: 0.8988 - val_loss: 0.6917 - val_accuracy: 0.7945\n",
      "Epoch 7/30\n",
      "\n",
      "Epoch 00007: val_loss did not improve from 0.65351\n",
      "40000/40000 - 41s - loss: 0.2631 - accuracy: 0.9136 - val_loss: 0.6761 - val_accuracy: 0.8052\n",
      "Epoch 8/30\n",
      "\n",
      "Epoch 00008: val_loss did not improve from 0.65351\n",
      "40000/40000 - 41s - loss: 0.2378 - accuracy: 0.9220 - val_loss: 0.6956 - val_accuracy: 0.8097\n",
      "Epoch 9/30\n",
      "\n",
      "Epoch 00009: val_loss did not improve from 0.65351\n",
      "40000/40000 - 41s - loss: 0.2138 - accuracy: 0.9283 - val_loss: 0.6964 - val_accuracy: 0.8009\n",
      "Epoch 10/30\n",
      "\n",
      "Epoch 00010: val_loss did not improve from 0.65351\n",
      "40000/40000 - 41s - loss: 0.1920 - accuracy: 0.9358 - val_loss: 0.7182 - val_accuracy: 0.8012\n",
      "Epoch 11/30\n",
      "\n",
      "Epoch 00011: val_loss did not improve from 0.65351\n",
      "40000/40000 - 41s - loss: 0.1770 - accuracy: 0.9414 - val_loss: 0.7101 - val_accuracy: 0.8119\n",
      "Epoch 12/30\n",
      "\n",
      "Epoch 00012: val_loss did not improve from 0.65351\n",
      "40000/40000 - 41s - loss: 0.1593 - accuracy: 0.9471 - val_loss: 0.7663 - val_accuracy: 0.8156\n",
      "Epoch 13/30\n",
      "\n",
      "Epoch 00013: val_loss did not improve from 0.65351\n",
      "40000/40000 - 41s - loss: 0.1447 - accuracy: 0.9524 - val_loss: 0.7605 - val_accuracy: 0.8073\n"
     ]
    }
   ],
   "source": [
    "es_cb = tf.keras.callbacks.EarlyStopping(monitor='val_loss', patience=10)\n",
    "sm_cb = tf.keras.callbacks.ModelCheckpoint(monitor='val_loss', filepath='../models/dilated_weights.hdf5', verbose=1, save_best_only=True)\n",
    "history = model.fit(train_data, train_labels, epochs=30, verbose=2, validation_split=0.2, shuffle=True, callbacks=[es_cb, sm_cb])"
   ]
  },
  {
   "cell_type": "code",
   "execution_count": 60,
   "metadata": {},
   "outputs": [
    {
     "data": {
      "text/plain": [
       "<matplotlib.legend.Legend at 0x27b66a23eb8>"
      ]
     },
     "execution_count": 60,
     "metadata": {},
     "output_type": "execute_result"
    },
    {
     "data": {
      "image/png": "[encoded data removed]",
      "text/plain": [
       "<Figure size 432x288 with 1 Axes>"
      ]
     },
     "metadata": {
      "needs_background": "light"
     },
     "output_type": "display_data"
    }
   ],
   "source": [
    "plt.plot(history.history['loss'])\n",
    "plt.plot(history.history['val_loss'])\n",
    "plt.legend(['train', 'validate'], loc='upper right')"
   ]
  },
  {
   "cell_type": "code",
   "execution_count": 61,
   "metadata": {},
   "outputs": [
    {
     "data": {
      "text/plain": [
       "[0.6606714898586273, 0.7985]"
      ]
     },
     "execution_count": 61,
     "metadata": {},
     "output_type": "execute_result"
    }
   ],
   "source": [
    "test_labels = np.array(test_labels, dtype='uint8')\n",
    "model.load_weights('../models/dilated_weights.hdf5')\n",
    "model.evaluate(test_data, test_labels, verbose=0)"
   ]
  },
  {
   "cell_type": "code",
   "execution_count": null,
   "metadata": {},
   "outputs": [],
   "source": []
  }
 ],
 "metadata": {
  "kernelspec": {
   "display_name": "Python 3",
   "language": "python",
   "name": "python3"
  },
  "language_info": {
   "codemirror_mode": {
    "name": "ipython",
    "version": 3
   },
   "file_extension": ".py",
   "mimetype": "text/x-python",
   "name": "python",
   "nbconvert_exporter": "python",
   "pygments_lexer": "ipython3",
   "version": "3.6.8"
  }
 },
 "nbformat": 4,
 "nbformat_minor": 2
}
