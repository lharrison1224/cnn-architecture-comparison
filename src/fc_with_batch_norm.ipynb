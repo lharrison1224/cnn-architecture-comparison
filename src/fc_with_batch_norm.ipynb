{
 "cells": [
  {
   "cell_type": "code",
   "execution_count": 1,
   "metadata": {},
   "outputs": [],
   "source": [
    "from load_data import load\n",
    "import numpy as np\n",
    "import tensorflow as tf\n",
    "from tensorflow import keras\n",
    "import matplotlib.pyplot as plt"
   ]
  },
  {
   "cell_type": "code",
   "execution_count": 2,
   "metadata": {},
   "outputs": [],
   "source": [
    "from tensorflow.keras.models import Sequential, load_model\n",
    "from tensorflow.keras.layers import Dense, Conv2D, Flatten, MaxPool2D, Dropout, BatchNormalization"
   ]
  },
  {
   "cell_type": "code",
   "execution_count": 3,
   "metadata": {},
   "outputs": [],
   "source": [
    "(train_data, train_labels, test_data, test_labels) = load()"
   ]
  },
  {
   "cell_type": "code",
   "execution_count": 4,
   "metadata": {},
   "outputs": [
    {
     "data": {
      "text/plain": [
       "(50000, 32, 32, 3)"
      ]
     },
     "execution_count": 4,
     "metadata": {},
     "output_type": "execute_result"
    }
   ],
   "source": [
    "train_data.shape"
   ]
  },
  {
   "cell_type": "code",
   "execution_count": 5,
   "metadata": {},
   "outputs": [
    {
     "data": {
      "text/plain": [
       "<matplotlib.image.AxesImage at 0x1e7aa4a8f28>"
      ]
     },
     "execution_count": 5,
     "metadata": {},
     "output_type": "execute_result"
    },
    {
     "data": {
      "image/png": "[encoded data removed]",
      "text/plain": [
       "<Figure size 432x288 with 1 Axes>"
      ]
     },
     "metadata": {
      "needs_background": "light"
     },
     "output_type": "display_data"
    }
   ],
   "source": [
    "plt.imshow(train_data[7])"
   ]
  },
  {
   "cell_type": "code",
   "execution_count": 6,
   "metadata": {},
   "outputs": [],
   "source": [
    "model = Sequential()\n",
    "model.add(Conv2D(16, kernel_size=3, padding='same', activation='relu', input_shape=(32,32,3)))\n",
    "model.add(BatchNormalization())\n",
    "model.add(Conv2D(16, kernel_size=3, padding='same', activation='relu'))\n",
    "model.add(BatchNormalization())\n",
    "model.add(MaxPool2D())\n",
    "model.add(Conv2D(32, kernel_size=3, padding='same', activation='relu'))\n",
    "model.add(BatchNormalization())\n",
    "model.add(Conv2D(32, kernel_size=3, padding='same', activation='relu'))\n",
    "model.add(BatchNormalization())\n",
    "model.add(Conv2D(32, kernel_size=3, padding='same', activation='relu'))\n",
    "model.add(BatchNormalization())\n",
    "model.add(MaxPool2D())\n",
    "model.add(Conv2D(64, kernel_size=3, padding='same', activation='relu'))\n",
    "model.add(BatchNormalization())\n",
    "model.add(Conv2D(64, kernel_size=3, padding='same', activation='relu'))\n",
    "model.add(BatchNormalization())\n",
    "model.add(Conv2D(64, kernel_size=3, padding='same', activation='relu'))\n",
    "model.add(BatchNormalization())\n",
    "model.add(MaxPool2D())"
   ]
  },
  {
   "cell_type": "code",
   "execution_count": 7,
   "metadata": {},
   "outputs": [],
   "source": [
    "model.add(Flatten())\n",
    "model.add(Dropout(0.2))\n",
    "model.add(Dense(1024, activation='relu'))\n",
    "model.add(Dropout(0.2))\n",
    "model.add(Dense(1024, activation='relu'))\n",
    "model.add(Dense(10, activation='softmax'))"
   ]
  },
  {
   "cell_type": "code",
   "execution_count": 8,
   "metadata": {},
   "outputs": [
    {
     "name": "stdout",
     "output_type": "stream",
     "text": [
      "Model: \"sequential\"\n",
      "_________________________________________________________________\n",
      "Layer (type)                 Output Shape              Param #   \n",
      "=================================================================\n",
      "conv2d (Conv2D)              (None, 32, 32, 16)        448       \n",
      "_________________________________________________________________\n",
      "batch_normalization (BatchNo (None, 32, 32, 16)        64        \n",
      "_________________________________________________________________\n",
      "conv2d_1 (Conv2D)            (None, 32, 32, 16)        2320      \n",
      "_________________________________________________________________\n",
      "batch_normalization_1 (Batch (None, 32, 32, 16)        64        \n",
      "_________________________________________________________________\n",
      "max_pooling2d (MaxPooling2D) (None, 16, 16, 16)        0         \n",
      "_________________________________________________________________\n",
      "conv2d_2 (Conv2D)            (None, 16, 16, 32)        4640      \n",
      "_________________________________________________________________\n",
      "batch_normalization_2 (Batch (None, 16, 16, 32)        128       \n",
      "_________________________________________________________________\n",
      "conv2d_3 (Conv2D)            (None, 16, 16, 32)        9248      \n",
      "_________________________________________________________________\n",
      "batch_normalization_3 (Batch (None, 16, 16, 32)        128       \n",
      "_________________________________________________________________\n",
      "conv2d_4 (Conv2D)            (None, 16, 16, 32)        9248      \n",
      "_________________________________________________________________\n",
      "batch_normalization_4 (Batch (None, 16, 16, 32)        128       \n",
      "_________________________________________________________________\n",
      "max_pooling2d_1 (MaxPooling2 (None, 8, 8, 32)          0         \n",
      "_________________________________________________________________\n",
      "conv2d_5 (Conv2D)            (None, 8, 8, 64)          18496     \n",
      "_________________________________________________________________\n",
      "batch_normalization_5 (Batch (None, 8, 8, 64)          256       \n",
      "_________________________________________________________________\n",
      "conv2d_6 (Conv2D)            (None, 8, 8, 64)          36928     \n",
      "_________________________________________________________________\n",
      "batch_normalization_6 (Batch (None, 8, 8, 64)          256       \n",
      "_________________________________________________________________\n",
      "conv2d_7 (Conv2D)            (None, 8, 8, 64)          36928     \n",
      "_________________________________________________________________\n",
      "batch_normalization_7 (Batch (None, 8, 8, 64)          256       \n",
      "_________________________________________________________________\n",
      "max_pooling2d_2 (MaxPooling2 (None, 4, 4, 64)          0         \n",
      "_________________________________________________________________\n",
      "flatten (Flatten)            (None, 1024)              0         \n",
      "_________________________________________________________________\n",
      "dropout (Dropout)            (None, 1024)              0         \n",
      "_________________________________________________________________\n",
      "dense (Dense)                (None, 1024)              1049600   \n",
      "_________________________________________________________________\n",
      "dropout_1 (Dropout)          (None, 1024)              0         \n",
      "_________________________________________________________________\n",
      "dense_1 (Dense)              (None, 1024)              1049600   \n",
      "_________________________________________________________________\n",
      "dense_2 (Dense)              (None, 10)                10250     \n",
      "=================================================================\n",
      "Total params: 2,228,986\n",
      "Trainable params: 2,228,346\n",
      "Non-trainable params: 640\n",
      "_________________________________________________________________\n"
     ]
    }
   ],
   "source": [
    "model.summary()"
   ]
  },
  {
   "cell_type": "code",
   "execution_count": 9,
   "metadata": {},
   "outputs": [],
   "source": [
    "model.compile(optimizer='adam', loss='sparse_categorical_crossentropy', metrics=['accuracy'])"
   ]
  },
  {
   "cell_type": "code",
   "execution_count": 10,
   "metadata": {
    "scrolled": true
   },
   "outputs": [
    {
     "name": "stdout",
     "output_type": "stream",
     "text": [
      "Train on 40000 samples, validate on 10000 samples\n",
      "Epoch 1/1000\n",
      "\n",
      "Epoch 00001: val_loss improved from inf to 1.10652, saving model to ../checkpoints/fc_with_batch_norm.hdf5\n",
      "40000/40000 - 13s - loss: 1.4175 - accuracy: 0.4919 - val_loss: 1.1065 - val_accuracy: 0.6009\n",
      "Epoch 2/1000\n",
      "\n",
      "Epoch 00002: val_loss improved from 1.10652 to 0.88660, saving model to ../checkpoints/fc_with_batch_norm.hdf5\n",
      "40000/40000 - 10s - loss: 1.0076 - accuracy: 0.6474 - val_loss: 0.8866 - val_accuracy: 0.6899\n",
      "Epoch 3/1000\n",
      "\n",
      "Epoch 00003: val_loss improved from 0.88660 to 0.82482, saving model to ../checkpoints/fc_with_batch_norm.hdf5\n",
      "40000/40000 - 10s - loss: 0.8407 - accuracy: 0.7067 - val_loss: 0.8248 - val_accuracy: 0.7170\n",
      "Epoch 4/1000\n",
      "\n",
      "Epoch 00004: val_loss improved from 0.82482 to 0.78749, saving model to ../checkpoints/fc_with_batch_norm.hdf5\n",
      "40000/40000 - 10s - loss: 0.7316 - accuracy: 0.7462 - val_loss: 0.7875 - val_accuracy: 0.7322\n",
      "Epoch 5/1000\n",
      "\n",
      "Epoch 00005: val_loss did not improve from 0.78749\n",
      "40000/40000 - 10s - loss: 0.6413 - accuracy: 0.7771 - val_loss: 0.8145 - val_accuracy: 0.7292\n",
      "Epoch 6/1000\n",
      "\n",
      "Epoch 00006: val_loss improved from 0.78749 to 0.67878, saving model to ../checkpoints/fc_with_batch_norm.hdf5\n",
      "40000/40000 - 10s - loss: 0.5724 - accuracy: 0.8009 - val_loss: 0.6788 - val_accuracy: 0.7719\n",
      "Epoch 7/1000\n",
      "\n",
      "Epoch 00007: val_loss did not improve from 0.67878\n",
      "40000/40000 - 10s - loss: 0.5049 - accuracy: 0.8231 - val_loss: 0.6940 - val_accuracy: 0.7725\n",
      "Epoch 8/1000\n",
      "\n",
      "Epoch 00008: val_loss did not improve from 0.67878\n",
      "40000/40000 - 10s - loss: 0.4557 - accuracy: 0.8405 - val_loss: 0.6926 - val_accuracy: 0.7719\n",
      "Epoch 9/1000\n",
      "\n",
      "Epoch 00009: val_loss improved from 0.67878 to 0.67230, saving model to ../checkpoints/fc_with_batch_norm.hdf5\n",
      "40000/40000 - 11s - loss: 0.4152 - accuracy: 0.8551 - val_loss: 0.6723 - val_accuracy: 0.7845\n",
      "Epoch 10/1000\n",
      "\n",
      "Epoch 00010: val_loss did not improve from 0.67230\n",
      "40000/40000 - 10s - loss: 0.3657 - accuracy: 0.8726 - val_loss: 0.7093 - val_accuracy: 0.7858\n",
      "Epoch 11/1000\n",
      "\n",
      "Epoch 00011: val_loss did not improve from 0.67230\n",
      "40000/40000 - 10s - loss: 0.3337 - accuracy: 0.8838 - val_loss: 0.7273 - val_accuracy: 0.7782\n",
      "Epoch 12/1000\n",
      "\n",
      "Epoch 00012: val_loss did not improve from 0.67230\n",
      "40000/40000 - 10s - loss: 0.2961 - accuracy: 0.8975 - val_loss: 0.6811 - val_accuracy: 0.7988\n",
      "Epoch 13/1000\n",
      "\n",
      "Epoch 00013: val_loss improved from 0.67230 to 0.66670, saving model to ../checkpoints/fc_with_batch_norm.hdf5\n",
      "40000/40000 - 10s - loss: 0.2672 - accuracy: 0.9080 - val_loss: 0.6667 - val_accuracy: 0.8084\n",
      "Epoch 14/1000\n",
      "\n",
      "Epoch 00014: val_loss did not improve from 0.66670\n",
      "40000/40000 - 10s - loss: 0.2526 - accuracy: 0.9121 - val_loss: 0.7019 - val_accuracy: 0.7997\n",
      "Epoch 15/1000\n",
      "\n",
      "Epoch 00015: val_loss did not improve from 0.66670\n",
      "40000/40000 - 10s - loss: 0.2320 - accuracy: 0.9215 - val_loss: 0.7866 - val_accuracy: 0.7880\n",
      "Epoch 16/1000\n",
      "\n",
      "Epoch 00016: val_loss did not improve from 0.66670\n",
      "40000/40000 - 10s - loss: 0.2130 - accuracy: 0.9271 - val_loss: 0.7482 - val_accuracy: 0.7954\n",
      "Epoch 17/1000\n",
      "\n",
      "Epoch 00017: val_loss did not improve from 0.66670\n",
      "40000/40000 - 10s - loss: 0.1973 - accuracy: 0.9328 - val_loss: 0.8244 - val_accuracy: 0.7887\n",
      "Epoch 18/1000\n",
      "\n",
      "Epoch 00018: val_loss did not improve from 0.66670\n",
      "40000/40000 - 10s - loss: 0.1826 - accuracy: 0.9390 - val_loss: 0.7921 - val_accuracy: 0.7982\n",
      "Epoch 19/1000\n",
      "\n",
      "Epoch 00019: val_loss did not improve from 0.66670\n",
      "40000/40000 - 10s - loss: 0.1767 - accuracy: 0.9404 - val_loss: 0.8355 - val_accuracy: 0.7925\n",
      "Epoch 20/1000\n",
      "\n",
      "Epoch 00020: val_loss did not improve from 0.66670\n",
      "40000/40000 - 10s - loss: 0.1633 - accuracy: 0.9448 - val_loss: 0.7532 - val_accuracy: 0.8046\n",
      "Epoch 21/1000\n",
      "\n",
      "Epoch 00021: val_loss did not improve from 0.66670\n",
      "40000/40000 - 10s - loss: 0.1505 - accuracy: 0.9485 - val_loss: 0.7928 - val_accuracy: 0.8083\n",
      "Epoch 22/1000\n",
      "\n",
      "Epoch 00022: val_loss did not improve from 0.66670\n",
      "40000/40000 - 10s - loss: 0.1466 - accuracy: 0.9507 - val_loss: 0.7849 - val_accuracy: 0.8029\n",
      "Epoch 23/1000\n",
      "\n",
      "Epoch 00023: val_loss did not improve from 0.66670\n",
      "40000/40000 - 10s - loss: 0.1388 - accuracy: 0.9533 - val_loss: 0.8112 - val_accuracy: 0.8030\n",
      "Epoch 24/1000\n",
      "\n",
      "Epoch 00024: val_loss did not improve from 0.66670\n",
      "40000/40000 - 10s - loss: 0.1289 - accuracy: 0.9562 - val_loss: 0.8447 - val_accuracy: 0.7970\n",
      "Epoch 25/1000\n",
      "\n",
      "Epoch 00025: val_loss did not improve from 0.66670\n",
      "40000/40000 - 10s - loss: 0.1317 - accuracy: 0.9554 - val_loss: 0.8209 - val_accuracy: 0.8035\n",
      "Epoch 26/1000\n",
      "\n",
      "Epoch 00026: val_loss did not improve from 0.66670\n",
      "40000/40000 - 10s - loss: 0.1287 - accuracy: 0.9582 - val_loss: 0.8785 - val_accuracy: 0.8006\n",
      "Epoch 27/1000\n",
      "\n",
      "Epoch 00027: val_loss did not improve from 0.66670\n",
      "40000/40000 - 10s - loss: 0.1180 - accuracy: 0.9610 - val_loss: 0.8251 - val_accuracy: 0.8115\n",
      "Epoch 28/1000\n",
      "\n",
      "Epoch 00028: val_loss did not improve from 0.66670\n",
      "40000/40000 - 10s - loss: 0.1172 - accuracy: 0.9611 - val_loss: 0.8608 - val_accuracy: 0.8042\n"
     ]
    }
   ],
   "source": [
    "es_cb = tf.keras.callbacks.EarlyStopping(monitor='val_loss', patience=15)\n",
    "sm_cb = tf.keras.callbacks.ModelCheckpoint(monitor='val_loss', filepath='../checkpoints/fc_with_batch_norm.hdf5', verbose=1, save_best_only=True)\n",
    "history = model.fit(train_data, train_labels, verbose=2, epochs=1000, validation_split=0.2, shuffle=True, callbacks=[es_cb, sm_cb])"
   ]
  },
  {
   "cell_type": "code",
   "execution_count": 11,
   "metadata": {},
   "outputs": [
    {
     "data": {
      "text/plain": [
       "Text(0, 0.5, 'Loss (Categorical Cross Entropy)')"
      ]
     },
     "execution_count": 11,
     "metadata": {},
     "output_type": "execute_result"
    },
    {
     "data": {
      "image/png": "[encoded data removed]",
      "text/plain": [
       "<Figure size 432x288 with 1 Axes>"
      ]
     },
     "metadata": {
      "needs_background": "light"
     },
     "output_type": "display_data"
    }
   ],
   "source": [
    "plt.plot(history.history['loss'])\n",
    "plt.plot(history.history['val_loss'])\n",
    "plt.legend(['train', 'validate'], loc='upper right')\n",
    "plt.ylim(0, 1.8)\n",
    "plt.grid(True)\n",
    "plt.xlabel('Epoch')\n",
    "plt.ylabel('Loss (Categorical Cross Entropy)')"
   ]
  },
  {
   "cell_type": "code",
   "execution_count": 12,
   "metadata": {},
   "outputs": [
    {
     "data": {
      "text/plain": [
       "[0.7091030087947845, 0.7912]"
      ]
     },
     "execution_count": 12,
     "metadata": {},
     "output_type": "execute_result"
    }
   ],
   "source": [
    "test_labels = np.array(test_labels, dtype='uint8')\n",
    "model.load_weights('../checkpoints/fc_with_batch_norm.hdf5')\n",
    "model.evaluate(test_data, test_labels, verbose=0)"
   ]
  }
 ],
 "metadata": {
  "kernelspec": {
   "display_name": "Python 3",
   "language": "python",
   "name": "python3"
  },
  "language_info": {
   "codemirror_mode": {
    "name": "ipython",
    "version": 3
   },
   "file_extension": ".py",
   "mimetype": "text/x-python",
   "name": "python",
   "nbconvert_exporter": "python",
   "pygments_lexer": "ipython3",
   "version": "3.5.4"
  }
 },
 "nbformat": 4,
 "nbformat_minor": 2
}
