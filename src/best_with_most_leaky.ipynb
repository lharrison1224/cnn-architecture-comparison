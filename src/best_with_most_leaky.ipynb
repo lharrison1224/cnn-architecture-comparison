{
 "cells": [
  {
   "cell_type": "code",
   "execution_count": 1,
   "metadata": {},
   "outputs": [],
   "source": [
    "from load_data import load\n",
    "import numpy as np\n",
    "import tensorflow as tf\n",
    "from tensorflow import keras\n",
    "import matplotlib.pyplot as plt"
   ]
  },
  {
   "cell_type": "code",
   "execution_count": 2,
   "metadata": {},
   "outputs": [],
   "source": [
    "from tensorflow.keras.models import Sequential, load_model\n",
    "from tensorflow.keras.layers import Dense, Conv2D, Flatten, MaxPool2D, Dropout, BatchNormalization, LeakyReLU"
   ]
  },
  {
   "cell_type": "code",
   "execution_count": 3,
   "metadata": {},
   "outputs": [],
   "source": [
    "(train_data, train_labels, test_data, test_labels) = load()"
   ]
  },
  {
   "cell_type": "code",
   "execution_count": 4,
   "metadata": {},
   "outputs": [
    {
     "data": {
      "text/plain": [
       "(50000, 32, 32, 3)"
      ]
     },
     "execution_count": 4,
     "metadata": {},
     "output_type": "execute_result"
    }
   ],
   "source": [
    "train_data.shape"
   ]
  },
  {
   "cell_type": "code",
   "execution_count": 5,
   "metadata": {},
   "outputs": [
    {
     "data": {
      "text/plain": [
       "<matplotlib.image.AxesImage at 0x25ed1555c88>"
      ]
     },
     "execution_count": 5,
     "metadata": {},
     "output_type": "execute_result"
    },
    {
     "data": {
      "image/png": "[encoded data removed]",
      "text/plain": [
       "<Figure size 432x288 with 1 Axes>"
      ]
     },
     "metadata": {
      "needs_background": "light"
     },
     "output_type": "display_data"
    }
   ],
   "source": [
    "plt.imshow(train_data[7])"
   ]
  },
  {
   "cell_type": "code",
   "execution_count": 6,
   "metadata": {},
   "outputs": [],
   "source": [
    "model = Sequential()\n",
    "model.add(Conv2D(16, kernel_size=3, padding='same', input_shape=(32,32,3)))\n",
    "model.add(LeakyReLU(alpha=0.3))\n",
    "model.add(BatchNormalization())\n",
    "model.add(Conv2D(16, kernel_size=3, padding='same'))\n",
    "model.add(LeakyReLU(alpha=0.3))\n",
    "model.add(BatchNormalization())\n",
    "model.add(MaxPool2D())\n",
    "model.add(Dropout(0.2))\n",
    "model.add(Conv2D(32, kernel_size=3, padding='same'))\n",
    "model.add(LeakyReLU(alpha=0.3))\n",
    "model.add(BatchNormalization())\n",
    "model.add(Conv2D(32, kernel_size=3, padding='same'))\n",
    "model.add(LeakyReLU(alpha=0.3))\n",
    "model.add(BatchNormalization())\n",
    "model.add(Conv2D(32, kernel_size=3, padding='same'))\n",
    "model.add(LeakyReLU(alpha=0.3))\n",
    "model.add(BatchNormalization())\n",
    "model.add(MaxPool2D())\n",
    "model.add(Dropout(0.2))\n",
    "model.add(Conv2D(64, kernel_size=3, padding='same'))\n",
    "model.add(LeakyReLU(alpha=0.3))\n",
    "model.add(BatchNormalization())\n",
    "model.add(Conv2D(64, kernel_size=3, padding='same'))\n",
    "model.add(LeakyReLU(alpha=0.3))\n",
    "model.add(BatchNormalization())\n",
    "model.add(Conv2D(64, kernel_size=3, padding='same'))\n",
    "model.add(LeakyReLU(alpha=0.3))\n",
    "model.add(BatchNormalization())\n",
    "model.add(MaxPool2D())"
   ]
  },
  {
   "cell_type": "code",
   "execution_count": 7,
   "metadata": {},
   "outputs": [],
   "source": [
    "model.add(Flatten())\n",
    "model.add(Dropout(0.2))\n",
    "model.add(Dense(1024))\n",
    "model.add(LeakyReLU(alpha=0.3))\n",
    "model.add(Dropout(0.2))\n",
    "model.add(Dense(1024))\n",
    "model.add(LeakyReLU(alpha=0.3))\n",
    "model.add(Dense(10, activation='softmax'))"
   ]
  },
  {
   "cell_type": "code",
   "execution_count": 8,
   "metadata": {},
   "outputs": [
    {
     "name": "stdout",
     "output_type": "stream",
     "text": [
      "Model: \"sequential\"\n",
      "_________________________________________________________________\n",
      "Layer (type)                 Output Shape              Param #   \n",
      "=================================================================\n",
      "conv2d (Conv2D)              (None, 32, 32, 16)        448       \n",
      "_________________________________________________________________\n",
      "leaky_re_lu (LeakyReLU)      (None, 32, 32, 16)        0         \n",
      "_________________________________________________________________\n",
      "batch_normalization (BatchNo (None, 32, 32, 16)        64        \n",
      "_________________________________________________________________\n",
      "conv2d_1 (Conv2D)            (None, 32, 32, 16)        2320      \n",
      "_________________________________________________________________\n",
      "leaky_re_lu_1 (LeakyReLU)    (None, 32, 32, 16)        0         \n",
      "_________________________________________________________________\n",
      "batch_normalization_1 (Batch (None, 32, 32, 16)        64        \n",
      "_________________________________________________________________\n",
      "max_pooling2d (MaxPooling2D) (None, 16, 16, 16)        0         \n",
      "_________________________________________________________________\n",
      "dropout (Dropout)            (None, 16, 16, 16)        0         \n",
      "_________________________________________________________________\n",
      "conv2d_2 (Conv2D)            (None, 16, 16, 32)        4640      \n",
      "_________________________________________________________________\n",
      "leaky_re_lu_2 (LeakyReLU)    (None, 16, 16, 32)        0         \n",
      "_________________________________________________________________\n",
      "batch_normalization_2 (Batch (None, 16, 16, 32)        128       \n",
      "_________________________________________________________________\n",
      "conv2d_3 (Conv2D)            (None, 16, 16, 32)        9248      \n",
      "_________________________________________________________________\n",
      "leaky_re_lu_3 (LeakyReLU)    (None, 16, 16, 32)        0         \n",
      "_________________________________________________________________\n",
      "batch_normalization_3 (Batch (None, 16, 16, 32)        128       \n",
      "_________________________________________________________________\n",
      "conv2d_4 (Conv2D)            (None, 16, 16, 32)        9248      \n",
      "_________________________________________________________________\n",
      "leaky_re_lu_4 (LeakyReLU)    (None, 16, 16, 32)        0         \n",
      "_________________________________________________________________\n",
      "batch_normalization_4 (Batch (None, 16, 16, 32)        128       \n",
      "_________________________________________________________________\n",
      "max_pooling2d_1 (MaxPooling2 (None, 8, 8, 32)          0         \n",
      "_________________________________________________________________\n",
      "dropout_1 (Dropout)          (None, 8, 8, 32)          0         \n",
      "_________________________________________________________________\n",
      "conv2d_5 (Conv2D)            (None, 8, 8, 64)          18496     \n",
      "_________________________________________________________________\n",
      "leaky_re_lu_5 (LeakyReLU)    (None, 8, 8, 64)          0         \n",
      "_________________________________________________________________\n",
      "batch_normalization_5 (Batch (None, 8, 8, 64)          256       \n",
      "_________________________________________________________________\n",
      "conv2d_6 (Conv2D)            (None, 8, 8, 64)          36928     \n",
      "_________________________________________________________________\n",
      "leaky_re_lu_6 (LeakyReLU)    (None, 8, 8, 64)          0         \n",
      "_________________________________________________________________\n",
      "batch_normalization_6 (Batch (None, 8, 8, 64)          256       \n",
      "_________________________________________________________________\n",
      "conv2d_7 (Conv2D)            (None, 8, 8, 64)          36928     \n",
      "_________________________________________________________________\n",
      "leaky_re_lu_7 (LeakyReLU)    (None, 8, 8, 64)          0         \n",
      "_________________________________________________________________\n",
      "batch_normalization_7 (Batch (None, 8, 8, 64)          256       \n",
      "_________________________________________________________________\n",
      "max_pooling2d_2 (MaxPooling2 (None, 4, 4, 64)          0         \n",
      "_________________________________________________________________\n",
      "flatten (Flatten)            (None, 1024)              0         \n",
      "_________________________________________________________________\n",
      "dropout_2 (Dropout)          (None, 1024)              0         \n",
      "_________________________________________________________________\n",
      "dense (Dense)                (None, 1024)              1049600   \n",
      "_________________________________________________________________\n",
      "leaky_re_lu_8 (LeakyReLU)    (None, 1024)              0         \n",
      "_________________________________________________________________\n",
      "dropout_3 (Dropout)          (None, 1024)              0         \n",
      "_________________________________________________________________\n",
      "dense_1 (Dense)              (None, 1024)              1049600   \n",
      "_________________________________________________________________\n",
      "leaky_re_lu_9 (LeakyReLU)    (None, 1024)              0         \n",
      "_________________________________________________________________\n",
      "dense_2 (Dense)              (None, 10)                10250     \n",
      "=================================================================\n",
      "Total params: 2,228,986\n",
      "Trainable params: 2,228,346\n",
      "Non-trainable params: 640\n",
      "_________________________________________________________________\n"
     ]
    }
   ],
   "source": [
    "model.summary()"
   ]
  },
  {
   "cell_type": "code",
   "execution_count": 9,
   "metadata": {},
   "outputs": [],
   "source": [
    "model.compile(optimizer='adam', loss='sparse_categorical_crossentropy', metrics=['accuracy'])"
   ]
  },
  {
   "cell_type": "code",
   "execution_count": 10,
   "metadata": {
    "scrolled": true
   },
   "outputs": [
    {
     "name": "stdout",
     "output_type": "stream",
     "text": [
      "Train on 40000 samples, validate on 10000 samples\n",
      "Epoch 1/1000\n",
      "\n",
      "Epoch 00001: val_loss improved from inf to 1.53631, saving model to ../checkpoints/best_with_most_leaky.hdf5\n",
      "40000/40000 - 17s - loss: 1.5616 - accuracy: 0.4695 - val_loss: 1.5363 - val_accuracy: 0.5256\n",
      "Epoch 2/1000\n",
      "\n",
      "Epoch 00002: val_loss improved from 1.53631 to 1.00430, saving model to ../checkpoints/best_with_most_leaky.hdf5\n",
      "40000/40000 - 13s - loss: 1.1215 - accuracy: 0.6042 - val_loss: 1.0043 - val_accuracy: 0.6405\n",
      "Epoch 3/1000\n",
      "\n",
      "Epoch 00003: val_loss improved from 1.00430 to 0.92823, saving model to ../checkpoints/best_with_most_leaky.hdf5\n",
      "40000/40000 - 13s - loss: 0.9841 - accuracy: 0.6561 - val_loss: 0.9282 - val_accuracy: 0.6786\n",
      "Epoch 4/1000\n",
      "\n",
      "Epoch 00004: val_loss improved from 0.92823 to 0.82009, saving model to ../checkpoints/best_with_most_leaky.hdf5\n",
      "40000/40000 - 13s - loss: 0.8902 - accuracy: 0.6882 - val_loss: 0.8201 - val_accuracy: 0.7157\n",
      "Epoch 5/1000\n",
      "\n",
      "Epoch 00005: val_loss improved from 0.82009 to 0.76084, saving model to ../checkpoints/best_with_most_leaky.hdf5\n",
      "40000/40000 - 13s - loss: 0.8172 - accuracy: 0.7153 - val_loss: 0.7608 - val_accuracy: 0.7389\n",
      "Epoch 6/1000\n",
      "\n",
      "Epoch 00006: val_loss improved from 0.76084 to 0.75894, saving model to ../checkpoints/best_with_most_leaky.hdf5\n",
      "40000/40000 - 13s - loss: 0.7695 - accuracy: 0.7312 - val_loss: 0.7589 - val_accuracy: 0.7363\n",
      "Epoch 7/1000\n",
      "\n",
      "Epoch 00007: val_loss improved from 0.75894 to 0.71520, saving model to ../checkpoints/best_with_most_leaky.hdf5\n",
      "40000/40000 - 14s - loss: 0.7155 - accuracy: 0.7499 - val_loss: 0.7152 - val_accuracy: 0.7495\n",
      "Epoch 8/1000\n",
      "\n",
      "Epoch 00008: val_loss improved from 0.71520 to 0.68415, saving model to ../checkpoints/best_with_most_leaky.hdf5\n",
      "40000/40000 - 13s - loss: 0.6802 - accuracy: 0.7626 - val_loss: 0.6842 - val_accuracy: 0.7606\n",
      "Epoch 9/1000\n",
      "\n",
      "Epoch 00009: val_loss improved from 0.68415 to 0.63026, saving model to ../checkpoints/best_with_most_leaky.hdf5\n",
      "40000/40000 - 13s - loss: 0.6464 - accuracy: 0.7734 - val_loss: 0.6303 - val_accuracy: 0.7836\n",
      "Epoch 10/1000\n",
      "\n",
      "Epoch 00010: val_loss did not improve from 0.63026\n",
      "40000/40000 - 13s - loss: 0.6101 - accuracy: 0.7867 - val_loss: 0.6439 - val_accuracy: 0.7849\n",
      "Epoch 11/1000\n",
      "\n",
      "Epoch 00011: val_loss did not improve from 0.63026\n",
      "40000/40000 - 13s - loss: 0.5820 - accuracy: 0.7951 - val_loss: 0.6593 - val_accuracy: 0.7777\n",
      "Epoch 12/1000\n",
      "\n",
      "Epoch 00012: val_loss did not improve from 0.63026\n",
      "40000/40000 - 13s - loss: 0.5602 - accuracy: 0.8059 - val_loss: 0.6390 - val_accuracy: 0.7834\n",
      "Epoch 13/1000\n",
      "\n",
      "Epoch 00013: val_loss improved from 0.63026 to 0.58882, saving model to ../checkpoints/best_with_most_leaky.hdf5\n",
      "40000/40000 - 13s - loss: 0.5407 - accuracy: 0.8148 - val_loss: 0.5888 - val_accuracy: 0.8020\n",
      "Epoch 14/1000\n",
      "\n",
      "Epoch 00014: val_loss improved from 0.58882 to 0.58714, saving model to ../checkpoints/best_with_most_leaky.hdf5\n",
      "40000/40000 - 13s - loss: 0.5212 - accuracy: 0.8174 - val_loss: 0.5871 - val_accuracy: 0.8055\n",
      "Epoch 15/1000\n",
      "\n",
      "Epoch 00015: val_loss did not improve from 0.58714\n",
      "40000/40000 - 13s - loss: 0.5063 - accuracy: 0.8214 - val_loss: 0.6093 - val_accuracy: 0.7979\n",
      "Epoch 16/1000\n",
      "\n",
      "Epoch 00016: val_loss improved from 0.58714 to 0.58387, saving model to ../checkpoints/best_with_most_leaky.hdf5\n",
      "40000/40000 - 13s - loss: 0.4883 - accuracy: 0.8274 - val_loss: 0.5839 - val_accuracy: 0.8087\n",
      "Epoch 17/1000\n",
      "\n",
      "Epoch 00017: val_loss improved from 0.58387 to 0.57009, saving model to ../checkpoints/best_with_most_leaky.hdf5\n",
      "40000/40000 - 13s - loss: 0.4703 - accuracy: 0.8336 - val_loss: 0.5701 - val_accuracy: 0.8089\n",
      "Epoch 18/1000\n",
      "\n",
      "Epoch 00018: val_loss improved from 0.57009 to 0.54555, saving model to ../checkpoints/best_with_most_leaky.hdf5\n",
      "40000/40000 - 13s - loss: 0.4609 - accuracy: 0.8383 - val_loss: 0.5455 - val_accuracy: 0.8213\n",
      "Epoch 19/1000\n",
      "\n",
      "Epoch 00019: val_loss did not improve from 0.54555\n",
      "40000/40000 - 13s - loss: 0.4439 - accuracy: 0.8425 - val_loss: 0.6276 - val_accuracy: 0.8015\n",
      "Epoch 20/1000\n",
      "\n",
      "Epoch 00020: val_loss did not improve from 0.54555\n",
      "40000/40000 - 13s - loss: 0.4338 - accuracy: 0.8486 - val_loss: 0.5534 - val_accuracy: 0.8174\n",
      "Epoch 21/1000\n",
      "\n",
      "Epoch 00021: val_loss did not improve from 0.54555\n",
      "40000/40000 - 13s - loss: 0.4175 - accuracy: 0.8534 - val_loss: 0.6332 - val_accuracy: 0.7925\n",
      "Epoch 22/1000\n",
      "\n",
      "Epoch 00022: val_loss did not improve from 0.54555\n",
      "40000/40000 - 13s - loss: 0.4118 - accuracy: 0.8534 - val_loss: 0.5794 - val_accuracy: 0.8095\n",
      "Epoch 23/1000\n",
      "\n",
      "Epoch 00023: val_loss improved from 0.54555 to 0.51339, saving model to ../checkpoints/best_with_most_leaky.hdf5\n",
      "40000/40000 - 13s - loss: 0.4029 - accuracy: 0.8576 - val_loss: 0.5134 - val_accuracy: 0.8249\n",
      "Epoch 24/1000\n",
      "\n",
      "Epoch 00024: val_loss did not improve from 0.51339\n",
      "40000/40000 - 13s - loss: 0.3878 - accuracy: 0.8636 - val_loss: 0.5398 - val_accuracy: 0.8245\n",
      "Epoch 25/1000\n",
      "\n",
      "Epoch 00025: val_loss did not improve from 0.51339\n",
      "40000/40000 - 13s - loss: 0.3823 - accuracy: 0.8652 - val_loss: 0.5895 - val_accuracy: 0.8133\n",
      "Epoch 26/1000\n",
      "\n",
      "Epoch 00026: val_loss did not improve from 0.51339\n",
      "40000/40000 - 13s - loss: 0.3706 - accuracy: 0.8674 - val_loss: 0.5792 - val_accuracy: 0.8189\n",
      "Epoch 27/1000\n",
      "\n",
      "Epoch 00027: val_loss did not improve from 0.51339\n",
      "40000/40000 - 13s - loss: 0.3623 - accuracy: 0.8715 - val_loss: 0.6069 - val_accuracy: 0.8082\n",
      "Epoch 28/1000\n",
      "\n",
      "Epoch 00028: val_loss did not improve from 0.51339\n",
      "40000/40000 - 13s - loss: 0.3515 - accuracy: 0.8755 - val_loss: 0.6001 - val_accuracy: 0.8164\n",
      "Epoch 29/1000\n",
      "\n",
      "Epoch 00029: val_loss did not improve from 0.51339\n",
      "40000/40000 - 13s - loss: 0.3418 - accuracy: 0.8802 - val_loss: 0.5842 - val_accuracy: 0.8188\n",
      "Epoch 30/1000\n",
      "\n",
      "Epoch 00030: val_loss did not improve from 0.51339\n",
      "40000/40000 - 13s - loss: 0.3414 - accuracy: 0.8778 - val_loss: 0.6086 - val_accuracy: 0.8177\n",
      "Epoch 31/1000\n",
      "\n",
      "Epoch 00031: val_loss did not improve from 0.51339\n",
      "40000/40000 - 13s - loss: 0.3320 - accuracy: 0.8831 - val_loss: 0.5419 - val_accuracy: 0.8277\n",
      "Epoch 32/1000\n",
      "\n",
      "Epoch 00032: val_loss did not improve from 0.51339\n",
      "40000/40000 - 13s - loss: 0.3215 - accuracy: 0.8850 - val_loss: 0.5597 - val_accuracy: 0.8367\n",
      "Epoch 33/1000\n",
      "\n",
      "Epoch 00033: val_loss did not improve from 0.51339\n",
      "40000/40000 - 13s - loss: 0.3229 - accuracy: 0.8862 - val_loss: 0.5467 - val_accuracy: 0.8271\n",
      "Epoch 34/1000\n",
      "\n",
      "Epoch 00034: val_loss did not improve from 0.51339\n",
      "40000/40000 - 13s - loss: 0.3078 - accuracy: 0.8912 - val_loss: 0.5645 - val_accuracy: 0.8261\n",
      "Epoch 35/1000\n",
      "\n",
      "Epoch 00035: val_loss did not improve from 0.51339\n",
      "40000/40000 - 14s - loss: 0.3056 - accuracy: 0.8908 - val_loss: 0.6031 - val_accuracy: 0.8194\n",
      "Epoch 36/1000\n",
      "\n",
      "Epoch 00036: val_loss did not improve from 0.51339\n",
      "40000/40000 - 13s - loss: 0.3008 - accuracy: 0.8942 - val_loss: 0.5782 - val_accuracy: 0.8308\n",
      "Epoch 37/1000\n",
      "\n",
      "Epoch 00037: val_loss did not improve from 0.51339\n",
      "40000/40000 - 13s - loss: 0.2958 - accuracy: 0.8946 - val_loss: 0.5857 - val_accuracy: 0.8191\n",
      "Epoch 38/1000\n",
      "\n",
      "Epoch 00038: val_loss did not improve from 0.51339\n",
      "40000/40000 - 12s - loss: 0.2892 - accuracy: 0.8980 - val_loss: 0.5938 - val_accuracy: 0.8305\n"
     ]
    }
   ],
   "source": [
    "es_cb = tf.keras.callbacks.EarlyStopping(monitor='val_loss', patience=15)\n",
    "sm_cb = tf.keras.callbacks.ModelCheckpoint(monitor='val_loss', filepath='../checkpoints/best_with_most_leaky.hdf5', verbose=1, save_best_only=True)\n",
    "history = model.fit(train_data, train_labels, verbose=2, epochs=1000, validation_split=0.2, shuffle=True, callbacks=[es_cb, sm_cb])"
   ]
  },
  {
   "cell_type": "code",
   "execution_count": 11,
   "metadata": {},
   "outputs": [
    {
     "data": {
      "text/plain": [
       "<matplotlib.legend.Legend at 0x260754eac50>"
      ]
     },
     "execution_count": 11,
     "metadata": {},
     "output_type": "execute_result"
    },
    {
     "data": {
      "image/png": "[encoded data removed]",
      "text/plain": [
       "<Figure size 432x288 with 1 Axes>"
      ]
     },
     "metadata": {
      "needs_background": "light"
     },
     "output_type": "display_data"
    }
   ],
   "source": [
    "plt.plot(history.history['loss'])\n",
    "plt.plot(history.history['val_loss'])\n",
    "plt.legend(['train', 'validate'], loc='upper right')"
   ]
  },
  {
   "cell_type": "code",
   "execution_count": 12,
   "metadata": {},
   "outputs": [
    {
     "data": {
      "text/plain": [
       "[0.5409280815601348, 0.8171]"
      ]
     },
     "execution_count": 12,
     "metadata": {},
     "output_type": "execute_result"
    }
   ],
   "source": [
    "test_labels = np.array(test_labels, dtype='uint8')\n",
    "model.load_weights('../checkpoints/best_with_most_leaky.hdf5')\n",
    "model.evaluate(test_data, test_labels, verbose=0)"
   ]
  }
 ],
 "metadata": {
  "kernelspec": {
   "display_name": "Python 3",
   "language": "python",
   "name": "python3"
  },
  "language_info": {
   "codemirror_mode": {
    "name": "ipython",
    "version": 3
   },
   "file_extension": ".py",
   "mimetype": "text/x-python",
   "name": "python",
   "nbconvert_exporter": "python",
   "pygments_lexer": "ipython3",
   "version": "3.5.4"
  }
 },
 "nbformat": 4,
 "nbformat_minor": 2
}
