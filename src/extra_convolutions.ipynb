{
 "cells": [
  {
   "cell_type": "code",
   "execution_count": 1,
   "metadata": {},
   "outputs": [],
   "source": [
    "from load_data import load\n",
    "import numpy as np\n",
    "import tensorflow as tf\n",
    "from tensorflow import keras\n",
    "import matplotlib.pyplot as plt"
   ]
  },
  {
   "cell_type": "code",
   "execution_count": 2,
   "metadata": {},
   "outputs": [],
   "source": [
    "from tensorflow.keras.models import Sequential, load_model\n",
    "from tensorflow.keras.layers import Dense, Conv2D, Flatten, MaxPool2D"
   ]
  },
  {
   "cell_type": "code",
   "execution_count": 3,
   "metadata": {},
   "outputs": [],
   "source": [
    "(train_data, train_labels, test_data, test_labels) = load()"
   ]
  },
  {
   "cell_type": "code",
   "execution_count": 4,
   "metadata": {},
   "outputs": [
    {
     "data": {
      "text/plain": [
       "(50000, 32, 32, 3)"
      ]
     },
     "execution_count": 4,
     "metadata": {},
     "output_type": "execute_result"
    }
   ],
   "source": [
    "train_data.shape"
   ]
  },
  {
   "cell_type": "code",
   "execution_count": 5,
   "metadata": {},
   "outputs": [
    {
     "data": {
      "text/plain": [
       "<matplotlib.image.AxesImage at 0x16088487f28>"
      ]
     },
     "execution_count": 5,
     "metadata": {},
     "output_type": "execute_result"
    },
    {
     "data": {
      "image/png": "[encoded data removed]",
      "text/plain": [
       "<Figure size 432x288 with 1 Axes>"
      ]
     },
     "metadata": {
      "needs_background": "light"
     },
     "output_type": "display_data"
    }
   ],
   "source": [
    "plt.imshow(train_data[7])"
   ]
  },
  {
   "cell_type": "code",
   "execution_count": 6,
   "metadata": {},
   "outputs": [],
   "source": [
    "model = Sequential()\n",
    "model.add(Conv2D(8, kernel_size=3, padding='same', activation='relu', input_shape=(32,32,3)))\n",
    "model.add(Conv2D(8, kernel_size=3, padding='same', activation='relu'))\n",
    "model.add(Conv2D(8, kernel_size=3, padding='same', activation='relu'))\n",
    "model.add(Conv2D(8, kernel_size=3, padding='same', activation='relu'))\n",
    "model.add(MaxPool2D())\n",
    "model.add(Conv2D(16, kernel_size=3, padding='same', activation='relu'))\n",
    "model.add(Conv2D(16, kernel_size=3, padding='same', activation='relu'))\n",
    "model.add(Conv2D(16, kernel_size=3, padding='same', activation='relu'))\n",
    "model.add(Conv2D(16, kernel_size=3, padding='same', activation='relu'))\n",
    "model.add(MaxPool2D())\n",
    "model.add(Conv2D(32, kernel_size=3, padding='same', activation='relu'))\n",
    "model.add(Conv2D(32, kernel_size=3, padding='same', activation='relu'))\n",
    "model.add(Conv2D(32, kernel_size=3, padding='same', activation='relu'))\n",
    "model.add(Conv2D(32, kernel_size=3, padding='same', activation='relu'))\n",
    "model.add(MaxPool2D())"
   ]
  },
  {
   "cell_type": "code",
   "execution_count": 7,
   "metadata": {},
   "outputs": [],
   "source": [
    "model.add(Flatten())\n",
    "model.add(Dense(10, activation='softmax'))"
   ]
  },
  {
   "cell_type": "code",
   "execution_count": 8,
   "metadata": {},
   "outputs": [
    {
     "name": "stdout",
     "output_type": "stream",
     "text": [
      "Model: \"sequential\"\n",
      "_________________________________________________________________\n",
      "Layer (type)                 Output Shape              Param #   \n",
      "=================================================================\n",
      "conv2d (Conv2D)              (None, 32, 32, 8)         224       \n",
      "_________________________________________________________________\n",
      "conv2d_1 (Conv2D)            (None, 32, 32, 8)         584       \n",
      "_________________________________________________________________\n",
      "conv2d_2 (Conv2D)            (None, 32, 32, 8)         584       \n",
      "_________________________________________________________________\n",
      "conv2d_3 (Conv2D)            (None, 32, 32, 8)         584       \n",
      "_________________________________________________________________\n",
      "max_pooling2d (MaxPooling2D) (None, 16, 16, 8)         0         \n",
      "_________________________________________________________________\n",
      "conv2d_4 (Conv2D)            (None, 16, 16, 16)        1168      \n",
      "_________________________________________________________________\n",
      "conv2d_5 (Conv2D)            (None, 16, 16, 16)        2320      \n",
      "_________________________________________________________________\n",
      "conv2d_6 (Conv2D)            (None, 16, 16, 16)        2320      \n",
      "_________________________________________________________________\n",
      "conv2d_7 (Conv2D)            (None, 16, 16, 16)        2320      \n",
      "_________________________________________________________________\n",
      "max_pooling2d_1 (MaxPooling2 (None, 8, 8, 16)          0         \n",
      "_________________________________________________________________\n",
      "conv2d_8 (Conv2D)            (None, 8, 8, 32)          4640      \n",
      "_________________________________________________________________\n",
      "conv2d_9 (Conv2D)            (None, 8, 8, 32)          9248      \n",
      "_________________________________________________________________\n",
      "conv2d_10 (Conv2D)           (None, 8, 8, 32)          9248      \n",
      "_________________________________________________________________\n",
      "conv2d_11 (Conv2D)           (None, 8, 8, 32)          9248      \n",
      "_________________________________________________________________\n",
      "max_pooling2d_2 (MaxPooling2 (None, 4, 4, 32)          0         \n",
      "_________________________________________________________________\n",
      "flatten (Flatten)            (None, 512)               0         \n",
      "_________________________________________________________________\n",
      "dense (Dense)                (None, 10)                5130      \n",
      "=================================================================\n",
      "Total params: 47,618\n",
      "Trainable params: 47,618\n",
      "Non-trainable params: 0\n",
      "_________________________________________________________________\n"
     ]
    }
   ],
   "source": [
    "model.summary()"
   ]
  },
  {
   "cell_type": "code",
   "execution_count": 9,
   "metadata": {},
   "outputs": [],
   "source": [
    "model.compile(optimizer='adam', loss='sparse_categorical_crossentropy', metrics=['accuracy'])"
   ]
  },
  {
   "cell_type": "code",
   "execution_count": 10,
   "metadata": {
    "scrolled": true
   },
   "outputs": [
    {
     "name": "stdout",
     "output_type": "stream",
     "text": [
      "Train on 40000 samples, validate on 10000 samples\n",
      "Epoch 1/1000\n",
      "\n",
      "Epoch 00001: val_loss improved from inf to 1.44800, saving model to ../checkpoints/extra_convolutions.hdf5\n",
      "40000/40000 - 10s - loss: 1.7356 - accuracy: 0.3655 - val_loss: 1.4480 - val_accuracy: 0.4774\n",
      "Epoch 2/1000\n",
      "\n",
      "Epoch 00002: val_loss improved from 1.44800 to 1.31450, saving model to ../checkpoints/extra_convolutions.hdf5\n",
      "40000/40000 - 8s - loss: 1.3779 - accuracy: 0.5038 - val_loss: 1.3145 - val_accuracy: 0.5366\n",
      "Epoch 3/1000\n",
      "\n",
      "Epoch 00003: val_loss improved from 1.31450 to 1.18528, saving model to ../checkpoints/extra_convolutions.hdf5\n",
      "40000/40000 - 8s - loss: 1.2447 - accuracy: 0.5547 - val_loss: 1.1853 - val_accuracy: 0.5769\n",
      "Epoch 4/1000\n",
      "\n",
      "Epoch 00004: val_loss improved from 1.18528 to 1.15452, saving model to ../checkpoints/extra_convolutions.hdf5\n",
      "40000/40000 - 8s - loss: 1.1575 - accuracy: 0.5900 - val_loss: 1.1545 - val_accuracy: 0.5948\n",
      "Epoch 5/1000\n",
      "\n",
      "Epoch 00005: val_loss improved from 1.15452 to 1.10740, saving model to ../checkpoints/extra_convolutions.hdf5\n",
      "40000/40000 - 8s - loss: 1.0950 - accuracy: 0.6113 - val_loss: 1.1074 - val_accuracy: 0.6103\n",
      "Epoch 6/1000\n",
      "\n",
      "Epoch 00006: val_loss improved from 1.10740 to 1.09810, saving model to ../checkpoints/extra_convolutions.hdf5\n",
      "40000/40000 - 8s - loss: 1.0450 - accuracy: 0.6296 - val_loss: 1.0981 - val_accuracy: 0.6077\n",
      "Epoch 7/1000\n",
      "\n",
      "Epoch 00007: val_loss improved from 1.09810 to 1.08048, saving model to ../checkpoints/extra_convolutions.hdf5\n",
      "40000/40000 - 8s - loss: 1.0050 - accuracy: 0.6409 - val_loss: 1.0805 - val_accuracy: 0.6217\n",
      "Epoch 8/1000\n",
      "\n",
      "Epoch 00008: val_loss improved from 1.08048 to 1.06584, saving model to ../checkpoints/extra_convolutions.hdf5\n",
      "40000/40000 - 8s - loss: 0.9803 - accuracy: 0.6526 - val_loss: 1.0658 - val_accuracy: 0.6220\n",
      "Epoch 9/1000\n",
      "\n",
      "Epoch 00009: val_loss did not improve from 1.06584\n",
      "40000/40000 - 8s - loss: 0.9517 - accuracy: 0.6629 - val_loss: 1.0704 - val_accuracy: 0.6270\n",
      "Epoch 10/1000\n",
      "\n",
      "Epoch 00010: val_loss improved from 1.06584 to 1.00464, saving model to ../checkpoints/extra_convolutions.hdf5\n",
      "40000/40000 - 8s - loss: 0.9280 - accuracy: 0.6730 - val_loss: 1.0046 - val_accuracy: 0.6438\n",
      "Epoch 11/1000\n",
      "\n",
      "Epoch 00011: val_loss improved from 1.00464 to 0.98941, saving model to ../checkpoints/extra_convolutions.hdf5\n",
      "40000/40000 - 8s - loss: 0.9073 - accuracy: 0.6784 - val_loss: 0.9894 - val_accuracy: 0.6511\n",
      "Epoch 12/1000\n",
      "\n",
      "Epoch 00012: val_loss did not improve from 0.98941\n",
      "40000/40000 - 8s - loss: 0.8834 - accuracy: 0.6879 - val_loss: 1.0499 - val_accuracy: 0.6329\n",
      "Epoch 13/1000\n",
      "\n",
      "Epoch 00013: val_loss did not improve from 0.98941\n",
      "40000/40000 - 8s - loss: 0.8600 - accuracy: 0.6970 - val_loss: 1.0373 - val_accuracy: 0.6362\n",
      "Epoch 14/1000\n",
      "\n",
      "Epoch 00014: val_loss did not improve from 0.98941\n",
      "40000/40000 - 8s - loss: 0.8584 - accuracy: 0.6956 - val_loss: 0.9920 - val_accuracy: 0.6519\n",
      "Epoch 15/1000\n",
      "\n",
      "Epoch 00015: val_loss did not improve from 0.98941\n",
      "40000/40000 - 8s - loss: 0.8304 - accuracy: 0.7063 - val_loss: 1.0037 - val_accuracy: 0.6515\n",
      "Epoch 16/1000\n",
      "\n",
      "Epoch 00016: val_loss improved from 0.98941 to 0.96063, saving model to ../checkpoints/extra_convolutions.hdf5\n",
      "40000/40000 - 8s - loss: 0.8176 - accuracy: 0.7101 - val_loss: 0.9606 - val_accuracy: 0.6650\n",
      "Epoch 17/1000\n",
      "\n",
      "Epoch 00017: val_loss did not improve from 0.96063\n",
      "40000/40000 - 8s - loss: 0.8136 - accuracy: 0.7128 - val_loss: 0.9924 - val_accuracy: 0.6558\n",
      "Epoch 18/1000\n",
      "\n",
      "Epoch 00018: val_loss improved from 0.96063 to 0.95141, saving model to ../checkpoints/extra_convolutions.hdf5\n",
      "40000/40000 - 8s - loss: 0.8031 - accuracy: 0.7165 - val_loss: 0.9514 - val_accuracy: 0.6683\n",
      "Epoch 19/1000\n",
      "\n",
      "Epoch 00019: val_loss did not improve from 0.95141\n",
      "40000/40000 - 8s - loss: 0.7919 - accuracy: 0.7192 - val_loss: 0.9681 - val_accuracy: 0.6660\n",
      "Epoch 20/1000\n",
      "\n",
      "Epoch 00020: val_loss did not improve from 0.95141\n",
      "40000/40000 - 8s - loss: 0.7784 - accuracy: 0.7247 - val_loss: 0.9983 - val_accuracy: 0.6584\n",
      "Epoch 21/1000\n",
      "\n",
      "Epoch 00021: val_loss did not improve from 0.95141\n",
      "40000/40000 - 8s - loss: 0.7669 - accuracy: 0.7307 - val_loss: 0.9800 - val_accuracy: 0.6645\n",
      "Epoch 22/1000\n",
      "\n",
      "Epoch 00022: val_loss did not improve from 0.95141\n",
      "40000/40000 - 8s - loss: 0.7587 - accuracy: 0.7314 - val_loss: 0.9859 - val_accuracy: 0.6646\n",
      "Epoch 23/1000\n",
      "\n",
      "Epoch 00023: val_loss improved from 0.95141 to 0.95057, saving model to ../checkpoints/extra_convolutions.hdf5\n",
      "40000/40000 - 8s - loss: 0.7543 - accuracy: 0.7318 - val_loss: 0.9506 - val_accuracy: 0.6738\n",
      "Epoch 24/1000\n",
      "\n",
      "Epoch 00024: val_loss did not improve from 0.95057\n",
      "40000/40000 - 8s - loss: 0.7389 - accuracy: 0.7383 - val_loss: 0.9811 - val_accuracy: 0.6726\n",
      "Epoch 25/1000\n",
      "\n",
      "Epoch 00025: val_loss did not improve from 0.95057\n",
      "40000/40000 - 8s - loss: 0.7300 - accuracy: 0.7430 - val_loss: 1.0397 - val_accuracy: 0.6490\n",
      "Epoch 26/1000\n",
      "\n",
      "Epoch 00026: val_loss did not improve from 0.95057\n",
      "40000/40000 - 8s - loss: 0.7494 - accuracy: 0.7361 - val_loss: 0.9794 - val_accuracy: 0.6640\n",
      "Epoch 27/1000\n",
      "\n",
      "Epoch 00027: val_loss did not improve from 0.95057\n",
      "40000/40000 - 8s - loss: 0.7287 - accuracy: 0.7437 - val_loss: 0.9890 - val_accuracy: 0.6720\n",
      "Epoch 28/1000\n",
      "\n",
      "Epoch 00028: val_loss did not improve from 0.95057\n",
      "40000/40000 - 8s - loss: 0.7174 - accuracy: 0.7469 - val_loss: 0.9971 - val_accuracy: 0.6684\n",
      "Epoch 29/1000\n",
      "\n",
      "Epoch 00029: val_loss did not improve from 0.95057\n",
      "40000/40000 - 8s - loss: 0.7143 - accuracy: 0.7480 - val_loss: 0.9750 - val_accuracy: 0.6742\n",
      "Epoch 30/1000\n",
      "\n",
      "Epoch 00030: val_loss did not improve from 0.95057\n",
      "40000/40000 - 8s - loss: 0.6998 - accuracy: 0.7525 - val_loss: 0.9990 - val_accuracy: 0.6632\n",
      "Epoch 31/1000\n",
      "\n",
      "Epoch 00031: val_loss did not improve from 0.95057\n",
      "40000/40000 - 8s - loss: 0.6930 - accuracy: 0.7537 - val_loss: 1.0753 - val_accuracy: 0.6454\n",
      "Epoch 32/1000\n",
      "\n",
      "Epoch 00032: val_loss did not improve from 0.95057\n",
      "40000/40000 - 8s - loss: 0.6827 - accuracy: 0.7574 - val_loss: 1.0213 - val_accuracy: 0.6644\n",
      "Epoch 33/1000\n",
      "\n",
      "Epoch 00033: val_loss did not improve from 0.95057\n",
      "40000/40000 - 8s - loss: 0.6837 - accuracy: 0.7602 - val_loss: 1.0211 - val_accuracy: 0.6587\n",
      "Epoch 34/1000\n",
      "\n",
      "Epoch 00034: val_loss did not improve from 0.95057\n",
      "40000/40000 - 8s - loss: 0.6782 - accuracy: 0.7596 - val_loss: 1.0234 - val_accuracy: 0.6736\n",
      "Epoch 35/1000\n",
      "\n",
      "Epoch 00035: val_loss did not improve from 0.95057\n",
      "40000/40000 - 8s - loss: 0.6656 - accuracy: 0.7631 - val_loss: 1.0352 - val_accuracy: 0.6634\n",
      "Epoch 36/1000\n",
      "\n",
      "Epoch 00036: val_loss did not improve from 0.95057\n",
      "40000/40000 - 8s - loss: 0.6701 - accuracy: 0.7612 - val_loss: 1.0018 - val_accuracy: 0.6699\n",
      "Epoch 37/1000\n",
      "\n",
      "Epoch 00037: val_loss did not improve from 0.95057\n",
      "40000/40000 - 8s - loss: 0.6694 - accuracy: 0.7636 - val_loss: 1.0037 - val_accuracy: 0.6680\n",
      "Epoch 38/1000\n",
      "\n",
      "Epoch 00038: val_loss did not improve from 0.95057\n",
      "40000/40000 - 8s - loss: 0.6716 - accuracy: 0.7637 - val_loss: 1.0172 - val_accuracy: 0.6683\n"
     ]
    }
   ],
   "source": [
    "es_cb = tf.keras.callbacks.EarlyStopping(monitor='val_loss', patience=15)\n",
    "sm_cb = tf.keras.callbacks.ModelCheckpoint(monitor='val_loss', filepath='../checkpoints/extra_convolutions.hdf5', verbose=1, save_best_only=True)\n",
    "history = model.fit(train_data, train_labels, verbose=2, epochs=1000, validation_split=0.2, shuffle=True, callbacks=[es_cb, sm_cb])"
   ]
  },
  {
   "cell_type": "code",
   "execution_count": 11,
   "metadata": {},
   "outputs": [
    {
     "data": {
      "text/plain": [
       "Text(0, 0.5, 'Loss (Categorical Cross Entropy)')"
      ]
     },
     "execution_count": 11,
     "metadata": {},
     "output_type": "execute_result"
    },
    {
     "data": {
      "image/png": "[encoded data removed]",
      "text/plain": [
       "<Figure size 432x288 with 1 Axes>"
      ]
     },
     "metadata": {
      "needs_background": "light"
     },
     "output_type": "display_data"
    }
   ],
   "source": [
    "plt.plot(history.history['loss'])\n",
    "plt.plot(history.history['val_loss'])\n",
    "plt.legend(['train', 'validate'], loc='upper right')\n",
    "plt.ylim(0, 1.8)\n",
    "plt.grid(True)\n",
    "plt.xlabel('Epoch')\n",
    "plt.ylabel('Loss (Categorical Cross Entropy)')"
   ]
  },
  {
   "cell_type": "code",
   "execution_count": 12,
   "metadata": {},
   "outputs": [
    {
     "data": {
      "text/plain": [
       "[0.9919414004325867, 0.6613]"
      ]
     },
     "execution_count": 12,
     "metadata": {},
     "output_type": "execute_result"
    }
   ],
   "source": [
    "test_labels = np.array(test_labels, dtype='uint8')\n",
    "model.load_weights('../checkpoints/extra_convolutions.hdf5')\n",
    "model.evaluate(test_data, test_labels, verbose=0)"
   ]
  }
 ],
 "metadata": {
  "kernelspec": {
   "display_name": "Python 3",
   "language": "python",
   "name": "python3"
  },
  "language_info": {
   "codemirror_mode": {
    "name": "ipython",
    "version": 3
   },
   "file_extension": ".py",
   "mimetype": "text/x-python",
   "name": "python",
   "nbconvert_exporter": "python",
   "pygments_lexer": "ipython3",
   "version": "3.5.4"
  }
 },
 "nbformat": 4,
 "nbformat_minor": 2
}
