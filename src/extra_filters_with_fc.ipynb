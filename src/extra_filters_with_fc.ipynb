{
 "cells": [
  {
   "cell_type": "code",
   "execution_count": 1,
   "metadata": {},
   "outputs": [],
   "source": [
    "from load_data import load\n",
    "import numpy as np\n",
    "import tensorflow as tf\n",
    "from tensorflow import keras\n",
    "import matplotlib.pyplot as plt"
   ]
  },
  {
   "cell_type": "code",
   "execution_count": 2,
   "metadata": {},
   "outputs": [],
   "source": [
    "from tensorflow.keras.models import Sequential, load_model\n",
    "from tensorflow.keras.layers import Dense, Conv2D, Flatten, MaxPool2D"
   ]
  },
  {
   "cell_type": "code",
   "execution_count": 3,
   "metadata": {},
   "outputs": [],
   "source": [
    "(train_data, train_labels, test_data, test_labels) = load()"
   ]
  },
  {
   "cell_type": "code",
   "execution_count": 4,
   "metadata": {},
   "outputs": [
    {
     "data": {
      "text/plain": [
       "(50000, 32, 32, 3)"
      ]
     },
     "execution_count": 4,
     "metadata": {},
     "output_type": "execute_result"
    }
   ],
   "source": [
    "train_data.shape"
   ]
  },
  {
   "cell_type": "code",
   "execution_count": 5,
   "metadata": {},
   "outputs": [
    {
     "data": {
      "text/plain": [
       "<matplotlib.image.AxesImage at 0x1a6a1525f28>"
      ]
     },
     "execution_count": 5,
     "metadata": {},
     "output_type": "execute_result"
    },
    {
     "data": {
      "image/png": "[encoded data removed]",
      "text/plain": [
       "<Figure size 432x288 with 1 Axes>"
      ]
     },
     "metadata": {
      "needs_background": "light"
     },
     "output_type": "display_data"
    }
   ],
   "source": [
    "plt.imshow(train_data[7])"
   ]
  },
  {
   "cell_type": "code",
   "execution_count": 6,
   "metadata": {},
   "outputs": [],
   "source": [
    "model = Sequential()\n",
    "model.add(Conv2D(16, kernel_size=3, padding='same', activation='relu', input_shape=(32,32,3)))\n",
    "model.add(Conv2D(16, kernel_size=3, padding='same', activation='relu'))\n",
    "model.add(MaxPool2D())\n",
    "model.add(Conv2D(32, kernel_size=3, padding='same', activation='relu'))\n",
    "model.add(Conv2D(32, kernel_size=3, padding='same', activation='relu'))\n",
    "model.add(Conv2D(32, kernel_size=3, padding='same', activation='relu'))\n",
    "model.add(MaxPool2D())\n",
    "model.add(Conv2D(64, kernel_size=3, padding='same', activation='relu'))\n",
    "model.add(Conv2D(64, kernel_size=3, padding='same', activation='relu'))\n",
    "model.add(Conv2D(64, kernel_size=3, padding='same', activation='relu'))\n",
    "model.add(MaxPool2D())"
   ]
  },
  {
   "cell_type": "code",
   "execution_count": 7,
   "metadata": {},
   "outputs": [],
   "source": [
    "model.add(Flatten())\n",
    "model.add(Dense(1024, activation='relu'))\n",
    "model.add(Dense(1024, activation='relu'))\n",
    "model.add(Dense(10, activation='softmax'))"
   ]
  },
  {
   "cell_type": "code",
   "execution_count": 8,
   "metadata": {},
   "outputs": [
    {
     "name": "stdout",
     "output_type": "stream",
     "text": [
      "Model: \"sequential\"\n",
      "_________________________________________________________________\n",
      "Layer (type)                 Output Shape              Param #   \n",
      "=================================================================\n",
      "conv2d (Conv2D)              (None, 32, 32, 16)        448       \n",
      "_________________________________________________________________\n",
      "conv2d_1 (Conv2D)            (None, 32, 32, 16)        2320      \n",
      "_________________________________________________________________\n",
      "max_pooling2d (MaxPooling2D) (None, 16, 16, 16)        0         \n",
      "_________________________________________________________________\n",
      "conv2d_2 (Conv2D)            (None, 16, 16, 32)        4640      \n",
      "_________________________________________________________________\n",
      "conv2d_3 (Conv2D)            (None, 16, 16, 32)        9248      \n",
      "_________________________________________________________________\n",
      "conv2d_4 (Conv2D)            (None, 16, 16, 32)        9248      \n",
      "_________________________________________________________________\n",
      "max_pooling2d_1 (MaxPooling2 (None, 8, 8, 32)          0         \n",
      "_________________________________________________________________\n",
      "conv2d_5 (Conv2D)            (None, 8, 8, 64)          18496     \n",
      "_________________________________________________________________\n",
      "conv2d_6 (Conv2D)            (None, 8, 8, 64)          36928     \n",
      "_________________________________________________________________\n",
      "conv2d_7 (Conv2D)            (None, 8, 8, 64)          36928     \n",
      "_________________________________________________________________\n",
      "max_pooling2d_2 (MaxPooling2 (None, 4, 4, 64)          0         \n",
      "_________________________________________________________________\n",
      "flatten (Flatten)            (None, 1024)              0         \n",
      "_________________________________________________________________\n",
      "dense (Dense)                (None, 1024)              1049600   \n",
      "_________________________________________________________________\n",
      "dense_1 (Dense)              (None, 1024)              1049600   \n",
      "_________________________________________________________________\n",
      "dense_2 (Dense)              (None, 10)                10250     \n",
      "=================================================================\n",
      "Total params: 2,227,706\n",
      "Trainable params: 2,227,706\n",
      "Non-trainable params: 0\n",
      "_________________________________________________________________\n"
     ]
    }
   ],
   "source": [
    "model.summary()"
   ]
  },
  {
   "cell_type": "code",
   "execution_count": 9,
   "metadata": {},
   "outputs": [],
   "source": [
    "model.compile(optimizer='adam', loss='sparse_categorical_crossentropy', metrics=['accuracy'])"
   ]
  },
  {
   "cell_type": "code",
   "execution_count": 10,
   "metadata": {
    "scrolled": true
   },
   "outputs": [
    {
     "name": "stdout",
     "output_type": "stream",
     "text": [
      "Train on 40000 samples, validate on 10000 samples\n",
      "Epoch 1/1000\n",
      "\n",
      "Epoch 00001: val_loss improved from inf to 1.40022, saving model to ../checkpoints/extra_filters_with_fc.hdf5\n",
      "40000/40000 - 12s - loss: 1.6542 - accuracy: 0.3814 - val_loss: 1.4002 - val_accuracy: 0.4748\n",
      "Epoch 2/1000\n",
      "\n",
      "Epoch 00002: val_loss improved from 1.40022 to 1.14047, saving model to ../checkpoints/extra_filters_with_fc.hdf5\n",
      "40000/40000 - 10s - loss: 1.2725 - accuracy: 0.5410 - val_loss: 1.1405 - val_accuracy: 0.5931\n",
      "Epoch 3/1000\n",
      "\n",
      "Epoch 00003: val_loss improved from 1.14047 to 1.07671, saving model to ../checkpoints/extra_filters_with_fc.hdf5\n",
      "40000/40000 - 10s - loss: 1.1083 - accuracy: 0.6055 - val_loss: 1.0767 - val_accuracy: 0.6181\n",
      "Epoch 4/1000\n",
      "\n",
      "Epoch 00004: val_loss improved from 1.07671 to 1.05233, saving model to ../checkpoints/extra_filters_with_fc.hdf5\n",
      "40000/40000 - 10s - loss: 0.9941 - accuracy: 0.6479 - val_loss: 1.0523 - val_accuracy: 0.6300\n",
      "Epoch 5/1000\n",
      "\n",
      "Epoch 00005: val_loss improved from 1.05233 to 1.00443, saving model to ../checkpoints/extra_filters_with_fc.hdf5\n",
      "40000/40000 - 10s - loss: 0.9073 - accuracy: 0.6804 - val_loss: 1.0044 - val_accuracy: 0.6521\n",
      "Epoch 6/1000\n",
      "\n",
      "Epoch 00006: val_loss improved from 1.00443 to 0.99297, saving model to ../checkpoints/extra_filters_with_fc.hdf5\n",
      "40000/40000 - 10s - loss: 0.8473 - accuracy: 0.7009 - val_loss: 0.9930 - val_accuracy: 0.6587\n",
      "Epoch 7/1000\n",
      "\n",
      "Epoch 00007: val_loss did not improve from 0.99297\n",
      "40000/40000 - 10s - loss: 0.7794 - accuracy: 0.7249 - val_loss: 1.0068 - val_accuracy: 0.6604\n",
      "Epoch 8/1000\n",
      "\n",
      "Epoch 00008: val_loss did not improve from 0.99297\n",
      "40000/40000 - 10s - loss: 0.7225 - accuracy: 0.7434 - val_loss: 1.0128 - val_accuracy: 0.6672\n",
      "Epoch 9/1000\n",
      "\n",
      "Epoch 00009: val_loss improved from 0.99297 to 0.98042, saving model to ../checkpoints/extra_filters_with_fc.hdf5\n",
      "40000/40000 - 10s - loss: 0.6725 - accuracy: 0.7606 - val_loss: 0.9804 - val_accuracy: 0.6785\n",
      "Epoch 10/1000\n",
      "\n",
      "Epoch 00010: val_loss did not improve from 0.98042\n",
      "40000/40000 - 10s - loss: 0.6196 - accuracy: 0.7783 - val_loss: 1.0676 - val_accuracy: 0.6697\n",
      "Epoch 11/1000\n",
      "\n",
      "Epoch 00011: val_loss did not improve from 0.98042\n",
      "40000/40000 - 10s - loss: 0.5791 - accuracy: 0.7968 - val_loss: 1.0670 - val_accuracy: 0.6813\n",
      "Epoch 12/1000\n",
      "\n",
      "Epoch 00012: val_loss did not improve from 0.98042\n",
      "40000/40000 - 10s - loss: 0.5415 - accuracy: 0.8080 - val_loss: 1.0907 - val_accuracy: 0.6783\n",
      "Epoch 13/1000\n",
      "\n",
      "Epoch 00013: val_loss did not improve from 0.98042\n",
      "40000/40000 - 10s - loss: 0.4953 - accuracy: 0.8240 - val_loss: 1.2003 - val_accuracy: 0.6652\n",
      "Epoch 14/1000\n",
      "\n",
      "Epoch 00014: val_loss did not improve from 0.98042\n",
      "40000/40000 - 10s - loss: 0.4911 - accuracy: 0.8268 - val_loss: 1.2452 - val_accuracy: 0.6604\n",
      "Epoch 15/1000\n",
      "\n",
      "Epoch 00015: val_loss did not improve from 0.98042\n",
      "40000/40000 - 10s - loss: 0.4643 - accuracy: 0.8374 - val_loss: 1.2174 - val_accuracy: 0.6621\n",
      "Epoch 16/1000\n",
      "\n",
      "Epoch 00016: val_loss did not improve from 0.98042\n",
      "40000/40000 - 10s - loss: 0.4377 - accuracy: 0.8501 - val_loss: 1.3245 - val_accuracy: 0.6630\n",
      "Epoch 17/1000\n",
      "\n",
      "Epoch 00017: val_loss did not improve from 0.98042\n",
      "40000/40000 - 10s - loss: 0.4103 - accuracy: 0.8573 - val_loss: 1.2618 - val_accuracy: 0.6510\n",
      "Epoch 18/1000\n",
      "\n",
      "Epoch 00018: val_loss did not improve from 0.98042\n",
      "40000/40000 - 10s - loss: 0.4016 - accuracy: 0.8622 - val_loss: 1.2494 - val_accuracy: 0.6598\n",
      "Epoch 19/1000\n",
      "\n",
      "Epoch 00019: val_loss did not improve from 0.98042\n",
      "40000/40000 - 10s - loss: 0.3920 - accuracy: 0.8655 - val_loss: 1.3461 - val_accuracy: 0.6670\n",
      "Epoch 20/1000\n",
      "\n",
      "Epoch 00020: val_loss did not improve from 0.98042\n",
      "40000/40000 - 10s - loss: 0.3862 - accuracy: 0.8689 - val_loss: 1.3398 - val_accuracy: 0.6684\n",
      "Epoch 21/1000\n",
      "\n",
      "Epoch 00021: val_loss did not improve from 0.98042\n",
      "40000/40000 - 10s - loss: 0.3586 - accuracy: 0.8786 - val_loss: 1.4296 - val_accuracy: 0.6635\n",
      "Epoch 22/1000\n",
      "\n",
      "Epoch 00022: val_loss did not improve from 0.98042\n",
      "40000/40000 - 10s - loss: 0.3575 - accuracy: 0.8771 - val_loss: 1.5033 - val_accuracy: 0.6587\n",
      "Epoch 23/1000\n",
      "\n",
      "Epoch 00023: val_loss did not improve from 0.98042\n",
      "40000/40000 - 10s - loss: 0.3511 - accuracy: 0.8830 - val_loss: 1.4110 - val_accuracy: 0.6569\n",
      "Epoch 24/1000\n",
      "\n",
      "Epoch 00024: val_loss did not improve from 0.98042\n",
      "40000/40000 - 10s - loss: 0.3562 - accuracy: 0.8803 - val_loss: 1.4493 - val_accuracy: 0.6652\n"
     ]
    }
   ],
   "source": [
    "es_cb = tf.keras.callbacks.EarlyStopping(monitor='val_loss', patience=15)\n",
    "sm_cb = tf.keras.callbacks.ModelCheckpoint(monitor='val_loss', filepath='../checkpoints/extra_filters_with_fc.hdf5', verbose=1, save_best_only=True)\n",
    "history = model.fit(train_data, train_labels, verbose=2, epochs=1000, validation_split=0.2, shuffle=True, callbacks=[es_cb, sm_cb])"
   ]
  },
  {
   "cell_type": "code",
   "execution_count": 11,
   "metadata": {},
   "outputs": [
    {
     "data": {
      "text/plain": [
       "<matplotlib.legend.Legend at 0x1a874d8dc50>"
      ]
     },
     "execution_count": 11,
     "metadata": {},
     "output_type": "execute_result"
    },
    {
     "data": {
      "image/png": "[encoded data removed]",
      "text/plain": [
       "<Figure size 432x288 with 1 Axes>"
      ]
     },
     "metadata": {
      "needs_background": "light"
     },
     "output_type": "display_data"
    }
   ],
   "source": [
    "plt.plot(history.history['loss'])\n",
    "plt.plot(history.history['val_loss'])\n",
    "plt.legend(['train', 'validate'], loc='upper right')"
   ]
  },
  {
   "cell_type": "code",
   "execution_count": 12,
   "metadata": {},
   "outputs": [
    {
     "data": {
      "text/plain": [
       "[0.986496879196167, 0.6695]"
      ]
     },
     "execution_count": 12,
     "metadata": {},
     "output_type": "execute_result"
    }
   ],
   "source": [
    "test_labels = np.array(test_labels, dtype='uint8')\n",
    "model.load_weights('../checkpoints/extra_filters_with_fc.hdf5')\n",
    "model.evaluate(test_data, test_labels, verbose=0)"
   ]
  }
 ],
 "metadata": {
  "kernelspec": {
   "display_name": "Python 3",
   "language": "python",
   "name": "python3"
  },
  "language_info": {
   "codemirror_mode": {
    "name": "ipython",
    "version": 3
   },
   "file_extension": ".py",
   "mimetype": "text/x-python",
   "name": "python",
   "nbconvert_exporter": "python",
   "pygments_lexer": "ipython3",
   "version": "3.5.4"
  }
 },
 "nbformat": 4,
 "nbformat_minor": 2
}
